{
 "cells": [
  {
   "cell_type": "markdown",
   "metadata": {},
   "source": [
    "# 1. Thông tin nhóm\n",
    "\n",
    "### *Danh sách thành viên:*\n",
    "\n",
    "<center>\n",
    "    \n",
    "|   MSSV   |      Họ tên      | Tài khoản Github |\n",
    "|:--------:|:----------------:|:----------------:|\n",
    "| 19120119 | Nguyễn Minh Phúc |   youngtobesick  |\n",
    "| 19120387 |    Lê Sỹ Thuần   |    SyThuan1803   |\n",
    "    \n",
    "</center>\n",
    "\n",
    "### *Kế hoạch làm việc:* \n",
    "[Xem tại đây](https://docs.google.com/spreadsheets/d/1DCq30ORIH6m-1EYMnbUmZ8fBoxPiiCgRgLDpJaRKRVE/edit?usp=sharing)"
   ]
  },
  {
   "cell_type": "markdown",
   "metadata": {},
   "source": [
    "---"
   ]
  },
  {
   "cell_type": "markdown",
   "metadata": {},
   "source": [
    "# 2. Thu thập dữ liệu"
   ]
  },
  {
   "cell_type": "markdown",
   "metadata": {},
   "source": [
    "#### Dữ liệu của bạn là về chủ đề gì và bạn lấy từ nguồn nào?"
   ]
  },
  {
   "cell_type": "markdown",
   "metadata": {},
   "source": [
    "Dữ liệu mà nhóm em thu thập được là tập các khảo sát mức độ hài lòng đối với các dịch vụ của các khách sạn ở châu Âu\n",
    "\n",
    "Dữ liệu được lấy từ nguồn được public trên [Kaggle](https://www.kaggle.com/ishansingh88/europe-hotel-satisfaction-score)"
   ]
  },
  {
   "cell_type": "markdown",
   "metadata": {},
   "source": [
    "#### Phần mô tả của dữ liệu"
   ]
  },
  {
   "cell_type": "markdown",
   "metadata": {},
   "source": [
    "Phần mô tả dữ liệu không có gì đặc biệt, chỉ là các dòng mô tả giá trị của các cột có trong dataset.  \n",
    "Dưới đây là phần mô tả được lấy từ trang publish dataset:  \n",
    "\n",
    "Columns\n",
    "Age - 7 to 85\n",
    "\n",
    "purposeoftravel - aviation, academic, personal, business, tourism.\n",
    "\n",
    "Type of Travel - Group travel, Personal Travel.\n",
    "\n",
    "Type Of Booking - Group bookings, Individual/Couple.\n",
    "\n",
    "Hotel wifi service - Ratings out of 5.\n",
    "\n",
    "Departure/Arrival convenience - Ratings out of 5.\n",
    "\n",
    "Ease of Online booking - Ratings out of 5.\n",
    "\n",
    "Hotel location - Ratings out of 5.\n",
    "\n",
    "Food and drink - Ratings out of 5.\n",
    "\n",
    "Stay comfort - Ratings out of 5.\n",
    "\n",
    "Common Room entertainment - Ratings out of 5.\n",
    "\n",
    "Checkin/Checkout service - Ratings out of 5.\n",
    "\n",
    "Other service - Ratings out of 5.\n",
    "\n",
    "Cleanliness - Ratings out of 5.\n",
    "\n",
    "satisfaction - satisfied, neutral or dissatisfied."
   ]
  },
  {
   "cell_type": "markdown",
   "metadata": {},
   "source": [
    "#### License của dữ liệu"
   ]
  },
  {
   "cell_type": "markdown",
   "metadata": {},
   "source": [
    "License của dữ liệu là Unknown ([nguồn](https://www.kaggle.com/ishansingh88/europe-hotel-satisfaction-score/metadata)).  \n",
    "Có vẻ như người publish dữ liệu này lên Kaggle không có yêu cầu gì đối với việc sử dụng dữ liệu, hoặc cũng có thể là quên cập nhật chi tiết License. Nhưng có lẽ việc sử dụng dữ liệu với mục đích học tập thì cũng không đến nỗi nào 😓."
   ]
  },
  {
   "cell_type": "markdown",
   "metadata": {},
   "source": [
    "#### Người ta thu thập dữ liệu từ nguồn nào?"
   ]
  },
  {
   "cell_type": "markdown",
   "metadata": {},
   "source": [
    "Em đã tìm hết tất cả tab ở link bên trên nhưng vẫn không thấy chỗ nào có ghi cách để thu thập bộ dữ liệu này.\n",
    "\n",
    "Em đoán là có thể lúc khách trả phòng, họ được nhờ để điền mẫu khảo sát về các dịch vụ của khách sạn để thu thập dữ liệu. Vì title chỉ nói chung chung là Europe Hotel mà không để chi tiết là một hay nhiều hotel nào nên cũng có thể là nhóm thu thập dữ liệu tiến hành khảo sát trên cộng đồng nào đó để có thể đưa ra một bộ dữ liệu đồng nhất về các thuộc tính như thế này."
   ]
  },
  {
   "cell_type": "markdown",
   "metadata": {},
   "source": [
    "---"
   ]
  },
  {
   "cell_type": "markdown",
   "metadata": {},
   "source": [
    "# 3. Import các thư viện cần thiết"
   ]
  },
  {
   "cell_type": "code",
   "execution_count": 3,
   "metadata": {},
   "outputs": [],
   "source": [
    "import numpy as np\n",
    "import pandas as pd\n",
    "import matplotlib.pyplot as plt"
   ]
  },
  {
   "cell_type": "markdown",
   "metadata": {},
   "source": [
    "---"
   ]
  },
  {
   "cell_type": "markdown",
   "metadata": {},
   "source": [
    "# 4. Khám phá & tiền xử lý dữ liệu"
   ]
  },
  {
   "cell_type": "markdown",
   "metadata": {},
   "source": [
    "## Khám phá dữ liệu"
   ]
  },
  {
   "cell_type": "markdown",
   "metadata": {},
   "source": [
    "### Đọc dữ liệu từ file csv vào dataframe"
   ]
  },
  {
   "cell_type": "code",
   "execution_count": 4,
   "metadata": {
    "scrolled": true
   },
   "outputs": [
    {
     "data": {
      "text/html": [
       "<div>\n",
       "<style scoped>\n",
       "    .dataframe tbody tr th:only-of-type {\n",
       "        vertical-align: middle;\n",
       "    }\n",
       "\n",
       "    .dataframe tbody tr th {\n",
       "        vertical-align: top;\n",
       "    }\n",
       "\n",
       "    .dataframe thead th {\n",
       "        text-align: right;\n",
       "    }\n",
       "</style>\n",
       "<table border=\"1\" class=\"dataframe\">\n",
       "  <thead>\n",
       "    <tr style=\"text-align: right;\">\n",
       "      <th></th>\n",
       "      <th>id</th>\n",
       "      <th>Gender</th>\n",
       "      <th>Age</th>\n",
       "      <th>purpose_of_travel</th>\n",
       "      <th>Type of Travel</th>\n",
       "      <th>Type Of Booking</th>\n",
       "      <th>Hotel wifi service</th>\n",
       "      <th>Departure/Arrival  convenience</th>\n",
       "      <th>Ease of Online booking</th>\n",
       "      <th>Hotel location</th>\n",
       "      <th>Food and drink</th>\n",
       "      <th>Stay comfort</th>\n",
       "      <th>Common Room entertainment</th>\n",
       "      <th>Checkin/Checkout service</th>\n",
       "      <th>Other service</th>\n",
       "      <th>Cleanliness</th>\n",
       "      <th>satisfaction</th>\n",
       "    </tr>\n",
       "  </thead>\n",
       "  <tbody>\n",
       "    <tr>\n",
       "      <th>0</th>\n",
       "      <td>70172</td>\n",
       "      <td>Male</td>\n",
       "      <td>13</td>\n",
       "      <td>aviation</td>\n",
       "      <td>Personal Travel</td>\n",
       "      <td>Not defined</td>\n",
       "      <td>3</td>\n",
       "      <td>4</td>\n",
       "      <td>3</td>\n",
       "      <td>1</td>\n",
       "      <td>5</td>\n",
       "      <td>5</td>\n",
       "      <td>5</td>\n",
       "      <td>4</td>\n",
       "      <td>5</td>\n",
       "      <td>5</td>\n",
       "      <td>neutral or dissatisfied</td>\n",
       "    </tr>\n",
       "    <tr>\n",
       "      <th>1</th>\n",
       "      <td>5047</td>\n",
       "      <td>Male</td>\n",
       "      <td>25</td>\n",
       "      <td>tourism</td>\n",
       "      <td>Group Travel</td>\n",
       "      <td>Group bookings</td>\n",
       "      <td>3</td>\n",
       "      <td>2</td>\n",
       "      <td>3</td>\n",
       "      <td>3</td>\n",
       "      <td>1</td>\n",
       "      <td>1</td>\n",
       "      <td>1</td>\n",
       "      <td>1</td>\n",
       "      <td>4</td>\n",
       "      <td>1</td>\n",
       "      <td>neutral or dissatisfied</td>\n",
       "    </tr>\n",
       "    <tr>\n",
       "      <th>2</th>\n",
       "      <td>110028</td>\n",
       "      <td>Female</td>\n",
       "      <td>26</td>\n",
       "      <td>tourism</td>\n",
       "      <td>Group Travel</td>\n",
       "      <td>Group bookings</td>\n",
       "      <td>2</td>\n",
       "      <td>2</td>\n",
       "      <td>2</td>\n",
       "      <td>2</td>\n",
       "      <td>5</td>\n",
       "      <td>5</td>\n",
       "      <td>5</td>\n",
       "      <td>4</td>\n",
       "      <td>4</td>\n",
       "      <td>5</td>\n",
       "      <td>satisfied</td>\n",
       "    </tr>\n",
       "    <tr>\n",
       "      <th>3</th>\n",
       "      <td>24026</td>\n",
       "      <td>Female</td>\n",
       "      <td>25</td>\n",
       "      <td>tourism</td>\n",
       "      <td>Group Travel</td>\n",
       "      <td>Group bookings</td>\n",
       "      <td>2</td>\n",
       "      <td>5</td>\n",
       "      <td>5</td>\n",
       "      <td>5</td>\n",
       "      <td>2</td>\n",
       "      <td>2</td>\n",
       "      <td>2</td>\n",
       "      <td>1</td>\n",
       "      <td>4</td>\n",
       "      <td>2</td>\n",
       "      <td>neutral or dissatisfied</td>\n",
       "    </tr>\n",
       "    <tr>\n",
       "      <th>4</th>\n",
       "      <td>119299</td>\n",
       "      <td>Male</td>\n",
       "      <td>61</td>\n",
       "      <td>aviation</td>\n",
       "      <td>Group Travel</td>\n",
       "      <td>Group bookings</td>\n",
       "      <td>3</td>\n",
       "      <td>3</td>\n",
       "      <td>3</td>\n",
       "      <td>3</td>\n",
       "      <td>4</td>\n",
       "      <td>5</td>\n",
       "      <td>3</td>\n",
       "      <td>3</td>\n",
       "      <td>3</td>\n",
       "      <td>3</td>\n",
       "      <td>satisfied</td>\n",
       "    </tr>\n",
       "  </tbody>\n",
       "</table>\n",
       "</div>"
      ],
      "text/plain": [
       "       id  Gender  Age purpose_of_travel   Type of Travel Type Of Booking  \\\n",
       "0   70172    Male   13          aviation  Personal Travel     Not defined   \n",
       "1    5047    Male   25           tourism     Group Travel  Group bookings   \n",
       "2  110028  Female   26           tourism     Group Travel  Group bookings   \n",
       "3   24026  Female   25           tourism     Group Travel  Group bookings   \n",
       "4  119299    Male   61          aviation     Group Travel  Group bookings   \n",
       "\n",
       "   Hotel wifi service  Departure/Arrival  convenience  Ease of Online booking  \\\n",
       "0                   3                               4                       3   \n",
       "1                   3                               2                       3   \n",
       "2                   2                               2                       2   \n",
       "3                   2                               5                       5   \n",
       "4                   3                               3                       3   \n",
       "\n",
       "   Hotel location  Food and drink  Stay comfort  Common Room entertainment  \\\n",
       "0               1               5             5                          5   \n",
       "1               3               1             1                          1   \n",
       "2               2               5             5                          5   \n",
       "3               5               2             2                          2   \n",
       "4               3               4             5                          3   \n",
       "\n",
       "   Checkin/Checkout service  Other service  Cleanliness  \\\n",
       "0                         4              5            5   \n",
       "1                         1              4            1   \n",
       "2                         4              4            5   \n",
       "3                         1              4            2   \n",
       "4                         3              3            3   \n",
       "\n",
       "              satisfaction  \n",
       "0  neutral or dissatisfied  \n",
       "1  neutral or dissatisfied  \n",
       "2                satisfied  \n",
       "3  neutral or dissatisfied  \n",
       "4                satisfied  "
      ]
     },
     "execution_count": 4,
     "metadata": {},
     "output_type": "execute_result"
    }
   ],
   "source": [
    "# ehs là viết tắt của europe hotel satisfaction\n",
    "ehs_df = pd.read_csv('./data/Europe Hotel Booking Satisfaction Score.csv')\n",
    "ehs_df.head()"
   ]
  },
  {
   "cell_type": "code",
   "execution_count": 5,
   "metadata": {},
   "outputs": [
    {
     "data": {
      "text/html": [
       "<div>\n",
       "<style scoped>\n",
       "    .dataframe tbody tr th:only-of-type {\n",
       "        vertical-align: middle;\n",
       "    }\n",
       "\n",
       "    .dataframe tbody tr th {\n",
       "        vertical-align: top;\n",
       "    }\n",
       "\n",
       "    .dataframe thead th {\n",
       "        text-align: right;\n",
       "    }\n",
       "</style>\n",
       "<table border=\"1\" class=\"dataframe\">\n",
       "  <thead>\n",
       "    <tr style=\"text-align: right;\">\n",
       "      <th></th>\n",
       "      <th>id</th>\n",
       "      <th>Gender</th>\n",
       "      <th>Age</th>\n",
       "      <th>purpose_of_travel</th>\n",
       "      <th>Type of Travel</th>\n",
       "      <th>Type Of Booking</th>\n",
       "      <th>Hotel wifi service</th>\n",
       "      <th>Departure/Arrival  convenience</th>\n",
       "      <th>Ease of Online booking</th>\n",
       "      <th>Hotel location</th>\n",
       "      <th>Food and drink</th>\n",
       "      <th>Stay comfort</th>\n",
       "      <th>Common Room entertainment</th>\n",
       "      <th>Checkin/Checkout service</th>\n",
       "      <th>Other service</th>\n",
       "      <th>Cleanliness</th>\n",
       "      <th>satisfaction</th>\n",
       "    </tr>\n",
       "  </thead>\n",
       "  <tbody>\n",
       "    <tr>\n",
       "      <th>103899</th>\n",
       "      <td>94171</td>\n",
       "      <td>Female</td>\n",
       "      <td>23</td>\n",
       "      <td>business</td>\n",
       "      <td>Group Travel</td>\n",
       "      <td>Individual/Couple</td>\n",
       "      <td>2</td>\n",
       "      <td>1</td>\n",
       "      <td>2</td>\n",
       "      <td>3</td>\n",
       "      <td>2</td>\n",
       "      <td>2</td>\n",
       "      <td>2</td>\n",
       "      <td>2</td>\n",
       "      <td>3</td>\n",
       "      <td>2</td>\n",
       "      <td>neutral or dissatisfied</td>\n",
       "    </tr>\n",
       "    <tr>\n",
       "      <th>103900</th>\n",
       "      <td>73097</td>\n",
       "      <td>Male</td>\n",
       "      <td>49</td>\n",
       "      <td>tourism</td>\n",
       "      <td>Group Travel</td>\n",
       "      <td>Group bookings</td>\n",
       "      <td>4</td>\n",
       "      <td>4</td>\n",
       "      <td>4</td>\n",
       "      <td>4</td>\n",
       "      <td>2</td>\n",
       "      <td>5</td>\n",
       "      <td>5</td>\n",
       "      <td>5</td>\n",
       "      <td>5</td>\n",
       "      <td>4</td>\n",
       "      <td>satisfied</td>\n",
       "    </tr>\n",
       "    <tr>\n",
       "      <th>103901</th>\n",
       "      <td>68825</td>\n",
       "      <td>Male</td>\n",
       "      <td>30</td>\n",
       "      <td>tourism</td>\n",
       "      <td>Group Travel</td>\n",
       "      <td>Group bookings</td>\n",
       "      <td>1</td>\n",
       "      <td>1</td>\n",
       "      <td>1</td>\n",
       "      <td>3</td>\n",
       "      <td>4</td>\n",
       "      <td>5</td>\n",
       "      <td>4</td>\n",
       "      <td>5</td>\n",
       "      <td>5</td>\n",
       "      <td>4</td>\n",
       "      <td>neutral or dissatisfied</td>\n",
       "    </tr>\n",
       "    <tr>\n",
       "      <th>103902</th>\n",
       "      <td>54173</td>\n",
       "      <td>Female</td>\n",
       "      <td>22</td>\n",
       "      <td>business</td>\n",
       "      <td>Group Travel</td>\n",
       "      <td>Individual/Couple</td>\n",
       "      <td>1</td>\n",
       "      <td>1</td>\n",
       "      <td>1</td>\n",
       "      <td>5</td>\n",
       "      <td>1</td>\n",
       "      <td>1</td>\n",
       "      <td>1</td>\n",
       "      <td>5</td>\n",
       "      <td>4</td>\n",
       "      <td>1</td>\n",
       "      <td>neutral or dissatisfied</td>\n",
       "    </tr>\n",
       "    <tr>\n",
       "      <th>103903</th>\n",
       "      <td>62567</td>\n",
       "      <td>Male</td>\n",
       "      <td>27</td>\n",
       "      <td>academic</td>\n",
       "      <td>Group Travel</td>\n",
       "      <td>Group bookings</td>\n",
       "      <td>1</td>\n",
       "      <td>3</td>\n",
       "      <td>3</td>\n",
       "      <td>3</td>\n",
       "      <td>1</td>\n",
       "      <td>1</td>\n",
       "      <td>1</td>\n",
       "      <td>4</td>\n",
       "      <td>3</td>\n",
       "      <td>1</td>\n",
       "      <td>neutral or dissatisfied</td>\n",
       "    </tr>\n",
       "  </tbody>\n",
       "</table>\n",
       "</div>"
      ],
      "text/plain": [
       "           id  Gender  Age purpose_of_travel Type of Travel  \\\n",
       "103899  94171  Female   23          business   Group Travel   \n",
       "103900  73097    Male   49           tourism   Group Travel   \n",
       "103901  68825    Male   30           tourism   Group Travel   \n",
       "103902  54173  Female   22          business   Group Travel   \n",
       "103903  62567    Male   27          academic   Group Travel   \n",
       "\n",
       "          Type Of Booking  Hotel wifi service  Departure/Arrival  convenience  \\\n",
       "103899  Individual/Couple                   2                               1   \n",
       "103900     Group bookings                   4                               4   \n",
       "103901     Group bookings                   1                               1   \n",
       "103902  Individual/Couple                   1                               1   \n",
       "103903     Group bookings                   1                               3   \n",
       "\n",
       "        Ease of Online booking  Hotel location  Food and drink  Stay comfort  \\\n",
       "103899                       2               3               2             2   \n",
       "103900                       4               4               2             5   \n",
       "103901                       1               3               4             5   \n",
       "103902                       1               5               1             1   \n",
       "103903                       3               3               1             1   \n",
       "\n",
       "        Common Room entertainment  Checkin/Checkout service  Other service  \\\n",
       "103899                          2                         2              3   \n",
       "103900                          5                         5              5   \n",
       "103901                          4                         5              5   \n",
       "103902                          1                         5              4   \n",
       "103903                          1                         4              3   \n",
       "\n",
       "        Cleanliness             satisfaction  \n",
       "103899            2  neutral or dissatisfied  \n",
       "103900            4                satisfied  \n",
       "103901            4  neutral or dissatisfied  \n",
       "103902            1  neutral or dissatisfied  \n",
       "103903            1  neutral or dissatisfied  "
      ]
     },
     "execution_count": 5,
     "metadata": {},
     "output_type": "execute_result"
    }
   ],
   "source": [
    "ehs_df.tail()"
   ]
  },
  {
   "cell_type": "markdown",
   "metadata": {},
   "source": [
    "### Dữ liệu gồm có bao nhiêu dòng và bao nhiêu cột?"
   ]
  },
  {
   "cell_type": "code",
   "execution_count": 6,
   "metadata": {},
   "outputs": [
    {
     "name": "stdout",
     "output_type": "stream",
     "text": [
      "Number of rows: 103904\n",
      "Number of cols: 17\n"
     ]
    }
   ],
   "source": [
    "num_rows = len(ehs_df.index)\n",
    "num_cols = len(ehs_df.columns)\n",
    "print(f'Number of rows: {num_rows}')\n",
    "print(f'Number of cols: {num_cols}')"
   ]
  },
  {
   "cell_type": "markdown",
   "metadata": {},
   "source": [
    "Vậy là dữ liệu được thu thập hơn 100 nghìn dòng (có thể tồn tại các dòng bị trùng nhau) với khoảng 15 thuộc tính được khảo sát."
   ]
  },
  {
   "cell_type": "markdown",
   "metadata": {},
   "source": [
    "### Mỗi dòng có ý nghĩa gì? Có vấn đề các dòng có ý nghĩa khác nhau không?"
   ]
  },
  {
   "cell_type": "markdown",
   "metadata": {},
   "source": [
    "Theo mô tả của file dữ liệu và theo quan sát sơ bộ thì mỗi dòng đại diện cho một khảo sát của một người cụ thể với các dịch vụ của khách sạn, và nhìn chung thì em hy vọng là không có dòng nào có ý nghĩa khác với những dòng còn lại (nếu có thì trong quá trình khám phá và phân tích, ta có thể lược bỏ các dòng này sau)."
   ]
  },
  {
   "cell_type": "markdown",
   "metadata": {},
   "source": [
    "### Dữ liệu có các dòng bị lặp không?"
   ]
  },
  {
   "cell_type": "code",
   "execution_count": 7,
   "metadata": {},
   "outputs": [
    {
     "name": "stdout",
     "output_type": "stream",
     "text": [
      "Dataframe has duplicated rows - False\n"
     ]
    }
   ],
   "source": [
    "duplicated_rows_df = ehs_df[ehs_df.duplicated()]\n",
    "have_duplicated_rows = (len(duplicated_rows_df.index) != 0)\n",
    "print(f'Dataframe has duplicated rows - {have_duplicated_rows}')"
   ]
  },
  {
   "cell_type": "markdown",
   "metadata": {},
   "source": [
    "Okay, theo như kết quả của của dòng code phía trên thì dataframe của ta không tồn tại các dòng bị trùng nhau, ta có thể tiếp tục khám phá mà không cần ở lại xử lý vấn đề bị lặp dòng này."
   ]
  },
  {
   "cell_type": "markdown",
   "metadata": {},
   "source": [
    "### Mỗi cột có ý nghĩa gì?"
   ]
  },
  {
   "cell_type": "markdown",
   "metadata": {},
   "source": [
    "Tuy phần thông tin mô tả dữ liệu đã đề cập đến tên các cột và giá trị của các cột này, nhưng nó không đề cập đến ý nghĩa của tên cột nên em nghĩ là sẽ giải đáp một cách khá tương đối về vấn đề này và hy vọng là không có sự hiểu nhầm ở đây 😉.\n",
    "\n",
    "Sau đây là ý nghĩa của các cột và các giá trị (được trích từ thông tin mô tả dữ liệu, các dòng không để giá trị ở dưới đây mặc định là điểm ratings từ 0-5):\n",
    "\n",
    "- id: mã định danh của một khảo sát\n",
    "- Gender: giới tính của đối tượng khảo sát\n",
    "- Age: tuổi của đối tượng khảo sát (từ 7-85)\n",
    "- purpose_of_travel: mục đích của chuyến đi trong lúc sử dụng khách sạn (gồm aviation, academic, personal, business, tourism)\n",
    "- Type of Travel: loại chuyến đi (gồm Group travel, Personal Travel)\n",
    "- Type of Booking: loại đặt phòng (gồm Group bookings, Individual/Couple)\n",
    "- Hotel wifi service: dịch vụ wifi ở khách sạn\n",
    "- Departure/Arrival convenience: sự thuận tiện trong việc đến và đi\n",
    "- Ease of Online booking: thuận tiện trong việc đặt phòng online\n",
    "- Hotel location: mức độ phù hợp của vị trí địa lý khách sạn\n",
    "- Food and drink: thức ăn và thức uống của khách sạn\n",
    "- Stay comfort: sự thoải mái trong việc sinh hoạt\n",
    "- Common Room entertainment: các vấn đề giải trí thông thường tại phòng\n",
    "- Checkin/Checkout service: dịch vụ checkin/checkout phòng\n",
    "- Other service: các dịch vụ khác\n",
    "- Cleanliness: độ sạch sẽ nói chung của khách sạn\n",
    "- satisfaction: mức độ hài lòng của khách (gồm satisfied, neutral or dissatisfied)"
   ]
  },
  {
   "cell_type": "markdown",
   "metadata": {},
   "source": [
    "### Mỗi cột hiện đang có kiểu dữ liệu gì? Có cột nào có kiểu dữ liệu chưa phù hợp để có thể xử lý tiếp không?"
   ]
  },
  {
   "cell_type": "markdown",
   "metadata": {},
   "source": [
    "Trước khi xem kiểu dữ liệu của các cột, ta cần format tên cột theo một chuẩn nhất định để dễ thao tác hơn. Chuẩn được đặt ra ở đây đó chính là viết thường các ký tự tên cột và thay thế khoảng trắng bằng dấu gạch dưới (underscore)"
   ]
  },
  {
   "cell_type": "code",
   "execution_count": 8,
   "metadata": {},
   "outputs": [
    {
     "data": {
      "text/plain": [
       "Index(['id', 'gender', 'age', 'purpose_of_travel', 'type_of_travel',\n",
       "       'type_of_booking', 'hotel_wifi_service',\n",
       "       'departure_arrival_convenience', 'ease_of_online_booking',\n",
       "       'hotel_location', 'food_and_drink', 'stay_comfort',\n",
       "       'common_room_entertainment', 'checkin_checkout_service',\n",
       "       'other_service', 'cleanliness', 'satisfaction'],\n",
       "      dtype='object')"
      ]
     },
     "execution_count": 8,
     "metadata": {},
     "output_type": "execute_result"
    }
   ],
   "source": [
    "def convert_name(old_name):\n",
    "    new_name = old_name.lower()\n",
    "    new_name = new_name.replace('  ', '_')\n",
    "    new_name = new_name.replace(' ', '_')\n",
    "    new_name = new_name.replace('/', '_')\n",
    "    return new_name\n",
    "\n",
    "ehs_df.rename(columns=convert_name, inplace=True)\n",
    "ehs_df.columns"
   ]
  },
  {
   "cell_type": "code",
   "execution_count": 9,
   "metadata": {},
   "outputs": [
    {
     "data": {
      "text/plain": [
       "id                                int64\n",
       "gender                           object\n",
       "age                               int64\n",
       "purpose_of_travel                object\n",
       "type_of_travel                   object\n",
       "type_of_booking                  object\n",
       "hotel_wifi_service                int64\n",
       "departure_arrival_convenience     int64\n",
       "ease_of_online_booking            int64\n",
       "hotel_location                    int64\n",
       "food_and_drink                    int64\n",
       "stay_comfort                      int64\n",
       "common_room_entertainment         int64\n",
       "checkin_checkout_service          int64\n",
       "other_service                     int64\n",
       "cleanliness                       int64\n",
       "satisfaction                     object\n",
       "dtype: object"
      ]
     },
     "execution_count": 9,
     "metadata": {},
     "output_type": "execute_result"
    }
   ],
   "source": [
    "col_dtypes = ehs_df.dtypes\n",
    "col_dtypes"
   ]
  },
  {
   "cell_type": "markdown",
   "metadata": {},
   "source": [
    "Hiện tại thì `ehs_df` chỉ có 5 cột có `dtype` là `object`: \"gender\", \"purpose_of_travel\", \"type_of_travel\", \"type_of_booking\", \"satisfaction\". Chúng ta sẽ thử xem các cột này đang giữ các kiểu dữ liệu nào."
   ]
  },
  {
   "cell_type": "code",
   "execution_count": 10,
   "metadata": {},
   "outputs": [
    {
     "name": "stdout",
     "output_type": "stream",
     "text": [
      "gender: {<class 'str'>}\n",
      "purpose_of_travel: {<class 'str'>}\n",
      "type_of_travel: {<class 'str'>}\n",
      "type_of_booking: {<class 'str'>}\n",
      "satisfaction: {<class 'str'>}\n"
     ]
    }
   ],
   "source": [
    "def open_object_dtype(s):\n",
    "    return set(s.apply(type))\n",
    "\n",
    "obj_cols_name = [\"gender\", \"purpose_of_travel\",\n",
    "                 \"type_of_travel\", \"type_of_booking\", \"satisfaction\"]\n",
    "\n",
    "for col_name in obj_cols_name:\n",
    "    print(f\"{col_name}: {open_object_dtype(ehs_df[col_name])}\")"
   ]
  },
  {
   "cell_type": "markdown",
   "metadata": {},
   "source": [
    "Hiện tại thì các cột này đều nắm giữ các giá trị có cùng một kiểu dữ liệu, và có vẻ như tất cả đều ổn. Chúng ta thử xem qua các giá trị hiện có trong cột \"satisfaction\""
   ]
  },
  {
   "cell_type": "code",
   "execution_count": 11,
   "metadata": {},
   "outputs": [
    {
     "data": {
      "text/plain": [
       "array(['neutral or dissatisfied', 'satisfied'], dtype=object)"
      ]
     },
     "execution_count": 11,
     "metadata": {},
     "output_type": "execute_result"
    }
   ],
   "source": [
    "ehs_df['satisfaction'].unique()"
   ]
  },
  {
   "cell_type": "markdown",
   "metadata": {},
   "source": [
    "Cột \"satisfaction\" hiện đang có hai giá trị là 'neutral or dissatisfied', 'satisfied'. Nếu để nguyên như vậy và tiếp tục khám phá thì có lẽ sẽ khá rắc rối nên ta sẽ chuyển các cột này về dạng số.\n",
    "\n",
    "**Vấn đề cần tiền xử lý:**\n",
    "- Cột \"satisfaction\" đang có dtype là str. Để có thể tiếp tục khám phá thêm về cột này, ta sẽ thực hiện bước tiền xử lý là chuyển sang dạng số với hai giá trị là 0 cho 'neutral or dissatisfied' và 1 cho 'satisfied'."
   ]
  },
  {
   "cell_type": "markdown",
   "metadata": {},
   "source": [
    "## Tiền xử lý"
   ]
  },
  {
   "cell_type": "markdown",
   "metadata": {},
   "source": [
    "### Chuyển dữ liệu của cột \"satisfaction\" về dạng số"
   ]
  },
  {
   "cell_type": "markdown",
   "metadata": {},
   "source": [
    "Ta sẽ chuyển cột này về dạng số với format là 0 cho 'neutral or dissatisfied' và 1 cho 'satisfied', sau khi chuyển thì `dtype` của cột này sẽ là `int64`"
   ]
  },
  {
   "cell_type": "code",
   "execution_count": 12,
   "metadata": {},
   "outputs": [],
   "source": [
    "ehs_df['satisfaction'].replace(\n",
    "    to_replace=['neutral or dissatisfied', 'satisfied'],\n",
    "    value=[0, 1],\n",
    "    inplace=True\n",
    ")"
   ]
  },
  {
   "cell_type": "code",
   "execution_count": 13,
   "metadata": {},
   "outputs": [
    {
     "data": {
      "text/plain": [
       "array([0, 1], dtype=int64)"
      ]
     },
     "execution_count": 13,
     "metadata": {},
     "output_type": "execute_result"
    }
   ],
   "source": [
    "ehs_df['satisfaction'].unique()"
   ]
  },
  {
   "cell_type": "markdown",
   "metadata": {},
   "source": [
    "---"
   ]
  },
  {
   "cell_type": "markdown",
   "metadata": {},
   "source": [
    "## Khám phá dữ liệu (tiếp tục)"
   ]
  },
  {
   "cell_type": "markdown",
   "metadata": {},
   "source": [
    "### Với mỗi cột có kiểu dữ liệu dạng numeric, các giá trị được phân bố như thế nào?"
   ]
  },
  {
   "cell_type": "markdown",
   "metadata": {},
   "source": [
    "Ta sẽ xếp cột \"satisfaction\" vào nhóm numeric luôn.\n",
    "\n",
    "Sau khi tiền xử lý dtype cho cột \"satisfaction\" về int64 thì hiện có 13 cột có vẻ là thuộc nhóm numeric: \"id\", \"age\", \"hotel_wifi_service\", \"departure_arrival_convenience\", \"ease_of_online_booking\", \"hotel_location\", \"food_and_drink\", \"stay_comfort\", \"common_room_entertainment\", \"checkin_checkout_service\", \"other_service\", \"cleanliness\", \"satisfaction\".\n",
    "\n",
    "Tuy nhiên, cột \"id\" thật ra có dạng categorical (vì là mã được đánh dưới dạng số). Như vậy, chỉ có 12 cột numeric và các cột ngoại trừ \"age\" đều là thang điểm từ 0-5.\n",
    "\n",
    "Với mỗi cột numeric ta sẽ tính tỉ lệ % giá trị thiếu (từ 0 đến 100), min, max và lưu kết quả vào dataframe nume_col_profiles_df. Dataframe này có 3 dòng là \"missing_ratio\", \"min\", \"max\"; và có 12 cột có tên được nêu ở trên."
   ]
  },
  {
   "cell_type": "code",
   "execution_count": 14,
   "metadata": {},
   "outputs": [
    {
     "data": {
      "text/html": [
       "<div>\n",
       "<style scoped>\n",
       "    .dataframe tbody tr th:only-of-type {\n",
       "        vertical-align: middle;\n",
       "    }\n",
       "\n",
       "    .dataframe tbody tr th {\n",
       "        vertical-align: top;\n",
       "    }\n",
       "\n",
       "    .dataframe thead th {\n",
       "        text-align: right;\n",
       "    }\n",
       "</style>\n",
       "<table border=\"1\" class=\"dataframe\">\n",
       "  <thead>\n",
       "    <tr style=\"text-align: right;\">\n",
       "      <th></th>\n",
       "      <th>age</th>\n",
       "      <th>hotel_wifi_service</th>\n",
       "      <th>departure_arrival_convenience</th>\n",
       "      <th>ease_of_online_booking</th>\n",
       "      <th>hotel_location</th>\n",
       "      <th>food_and_drink</th>\n",
       "      <th>stay_comfort</th>\n",
       "      <th>common_room_entertainment</th>\n",
       "      <th>checkin_checkout_service</th>\n",
       "      <th>other_service</th>\n",
       "      <th>cleanliness</th>\n",
       "      <th>satisfaction</th>\n",
       "    </tr>\n",
       "  </thead>\n",
       "  <tbody>\n",
       "    <tr>\n",
       "      <th>missing_ratio</th>\n",
       "      <td>0.0</td>\n",
       "      <td>0.0</td>\n",
       "      <td>0.0</td>\n",
       "      <td>0.0</td>\n",
       "      <td>0.0</td>\n",
       "      <td>0.0</td>\n",
       "      <td>0.0</td>\n",
       "      <td>0.0</td>\n",
       "      <td>0.0</td>\n",
       "      <td>0.0</td>\n",
       "      <td>0.0</td>\n",
       "      <td>0.0</td>\n",
       "    </tr>\n",
       "    <tr>\n",
       "      <th>min</th>\n",
       "      <td>7.0</td>\n",
       "      <td>0.0</td>\n",
       "      <td>0.0</td>\n",
       "      <td>0.0</td>\n",
       "      <td>0.0</td>\n",
       "      <td>0.0</td>\n",
       "      <td>0.0</td>\n",
       "      <td>0.0</td>\n",
       "      <td>0.0</td>\n",
       "      <td>0.0</td>\n",
       "      <td>0.0</td>\n",
       "      <td>0.0</td>\n",
       "    </tr>\n",
       "    <tr>\n",
       "      <th>max</th>\n",
       "      <td>85.0</td>\n",
       "      <td>5.0</td>\n",
       "      <td>5.0</td>\n",
       "      <td>5.0</td>\n",
       "      <td>5.0</td>\n",
       "      <td>5.0</td>\n",
       "      <td>5.0</td>\n",
       "      <td>5.0</td>\n",
       "      <td>5.0</td>\n",
       "      <td>5.0</td>\n",
       "      <td>5.0</td>\n",
       "      <td>1.0</td>\n",
       "    </tr>\n",
       "  </tbody>\n",
       "</table>\n",
       "</div>"
      ],
      "text/plain": [
       "                age  hotel_wifi_service  departure_arrival_convenience  \\\n",
       "missing_ratio   0.0                 0.0                            0.0   \n",
       "min             7.0                 0.0                            0.0   \n",
       "max            85.0                 5.0                            5.0   \n",
       "\n",
       "               ease_of_online_booking  hotel_location  food_and_drink  \\\n",
       "missing_ratio                     0.0             0.0             0.0   \n",
       "min                               0.0             0.0             0.0   \n",
       "max                               5.0             5.0             5.0   \n",
       "\n",
       "               stay_comfort  common_room_entertainment  \\\n",
       "missing_ratio           0.0                        0.0   \n",
       "min                     0.0                        0.0   \n",
       "max                     5.0                        5.0   \n",
       "\n",
       "               checkin_checkout_service  other_service  cleanliness  \\\n",
       "missing_ratio                       0.0            0.0          0.0   \n",
       "min                                 0.0            0.0          0.0   \n",
       "max                                 5.0            5.0          5.0   \n",
       "\n",
       "               satisfaction  \n",
       "missing_ratio           0.0  \n",
       "min                     0.0  \n",
       "max                     1.0  "
      ]
     },
     "execution_count": 14,
     "metadata": {},
     "output_type": "execute_result"
    }
   ],
   "source": [
    "def missing_ratio(s):\n",
    "    return s.isna().mean() * 100\n",
    "\n",
    "cate_col_name = [\"id\", \"gender\", \"purpose_of_travel\", \"type_of_travel\", \"type_of_booking\"]\n",
    "nume_col_idx = ehs_df.columns.drop(cate_col_name)\n",
    "nume_col_df = ehs_df[nume_col_idx]\n",
    "nume_col_profiles_df = nume_col_df.agg([missing_ratio, pd.Series.min, pd.Series.max])\n",
    "\n",
    "nume_col_profiles_df"
   ]
  },
  {
   "cell_type": "markdown",
   "metadata": {},
   "source": [
    "Ta sẽ xem rõ hơn về sự phân bố của các giá trị trong mỗi cột có kiểu là numeric bằng hàm plot_hist_cols với hai tham số truyền vào là dataframe và số cột."
   ]
  },
  {
   "cell_type": "code",
   "execution_count": 15,
   "metadata": {},
   "outputs": [],
   "source": [
    "def plot_hist_cols(df, num_graph_per_row):\n",
    "    n_rows, n_cols = df.shape\n",
    "    col_names = list(df.columns)\n",
    "    n_rows_graph = (n_cols + num_graph_per_row - 1) / num_graph_per_row\n",
    "    \n",
    "    plt.figure(\n",
    "        figsize = (6 * num_graph_per_row,  6 * n_rows_graph),\n",
    "        dpi = 80,\n",
    "    )\n",
    "    \n",
    "    for i in range(n_cols):\n",
    "        plt.subplot(int(n_rows_graph), num_graph_per_row, i + 1)\n",
    "        col_i = df.iloc[:, i]\n",
    "        \n",
    "        if (not np.issubdtype(type(col_i.iloc[0]), np.number)):\n",
    "            val_counts = col_i.value_counts()\n",
    "            plt.xticks(rotation = 90)\n",
    "            val_counts.plot.bar()\n",
    "        else:\n",
    "            nunique_col_i = col_i.nunique()\n",
    "            bins = nunique_col_i if (nunique_col_i < 10) else 10\n",
    "            col_i.hist(bins=bins)\n",
    "        \n",
    "        plt.ylabel('counts')\n",
    "        plt.title(f'{col_names[i]}')\n",
    "        \n",
    "    plt.tight_layout(pad=0.4, w_pad=0.5, h_pad=1.0)\n",
    "    plt.show()"
   ]
  },
  {
   "cell_type": "code",
   "execution_count": 16,
   "metadata": {
    "scrolled": false
   },
   "outputs": [
    {
     "data": {
      "image/png": "[encoded data removed]",
      "text/plain": [
       "<Figure size 1920x1800 with 12 Axes>"
      ]
     },
     "metadata": {
      "needs_background": "light"
     },
     "output_type": "display_data"
    }
   ],
   "source": [
    "plot_hist_cols(nume_col_df, 4)"
   ]
  },
  {
   "cell_type": "markdown",
   "metadata": {},
   "source": [
    "### Với mỗi cột có kiểu dữ liệu dạng categorical, các giá trị được phân bố như thế nào?"
   ]
  },
  {
   "cell_type": "markdown",
   "metadata": {},
   "source": [
    "`ehs_df` có 5 cột categorical là \"id\", \"gender\", \"purpose_of_travel\", \"type_of_travel\", \"type_of_booking\".\n",
    "\n",
    "Với mỗi cột categorical, ta tính tỉ lệ % giá trị thiếu (từ 0 đến 100), số lượng giá trị khác nhau (không xét giá trị thiếu), list/array các giá trị khác nhau (không xét giá trị thiếu), và lưu kết quả vào dataframe cate_col_profiles_df. Dataframe này có 3 dòng là \"missing_ratio\", \"num_diff_vals\", \"diff_vals\"; và có 5 cột là \"id\", \"gender\", \"purpose_of_travel\", \"type_of_travel\", \"type_of_booking\"."
   ]
  },
  {
   "cell_type": "code",
   "execution_count": 17,
   "metadata": {},
   "outputs": [
    {
     "data": {
      "text/html": [
       "<div>\n",
       "<style scoped>\n",
       "    .dataframe tbody tr th:only-of-type {\n",
       "        vertical-align: middle;\n",
       "    }\n",
       "\n",
       "    .dataframe tbody tr th {\n",
       "        vertical-align: top;\n",
       "    }\n",
       "\n",
       "    .dataframe thead th {\n",
       "        text-align: right;\n",
       "    }\n",
       "</style>\n",
       "<table border=\"1\" class=\"dataframe\">\n",
       "  <thead>\n",
       "    <tr style=\"text-align: right;\">\n",
       "      <th></th>\n",
       "      <th>id</th>\n",
       "      <th>gender</th>\n",
       "      <th>purpose_of_travel</th>\n",
       "      <th>type_of_travel</th>\n",
       "      <th>type_of_booking</th>\n",
       "    </tr>\n",
       "  </thead>\n",
       "  <tbody>\n",
       "    <tr>\n",
       "      <th>missing_ratio</th>\n",
       "      <td>0.0</td>\n",
       "      <td>0.0</td>\n",
       "      <td>0.0</td>\n",
       "      <td>0.0</td>\n",
       "      <td>0.0</td>\n",
       "    </tr>\n",
       "    <tr>\n",
       "      <th>num_diff_vals</th>\n",
       "      <td>103904</td>\n",
       "      <td>2</td>\n",
       "      <td>5</td>\n",
       "      <td>2</td>\n",
       "      <td>3</td>\n",
       "    </tr>\n",
       "    <tr>\n",
       "      <th>diff_vals</th>\n",
       "      <td>[70172, 5047, 110028, 24026, 119299, 111157, 8...</td>\n",
       "      <td>[Male, Female]</td>\n",
       "      <td>[aviation, tourism, business, academic, personal]</td>\n",
       "      <td>[Personal Travel, Group Travel]</td>\n",
       "      <td>[Not defined, Group bookings, Individual/Couple]</td>\n",
       "    </tr>\n",
       "  </tbody>\n",
       "</table>\n",
       "</div>"
      ],
      "text/plain": [
       "                                                              id  \\\n",
       "missing_ratio                                                0.0   \n",
       "num_diff_vals                                             103904   \n",
       "diff_vals      [70172, 5047, 110028, 24026, 119299, 111157, 8...   \n",
       "\n",
       "                       gender  \\\n",
       "missing_ratio             0.0   \n",
       "num_diff_vals               2   \n",
       "diff_vals      [Male, Female]   \n",
       "\n",
       "                                               purpose_of_travel  \\\n",
       "missing_ratio                                                0.0   \n",
       "num_diff_vals                                                  5   \n",
       "diff_vals      [aviation, tourism, business, academic, personal]   \n",
       "\n",
       "                                type_of_travel  \\\n",
       "missing_ratio                              0.0   \n",
       "num_diff_vals                                2   \n",
       "diff_vals      [Personal Travel, Group Travel]   \n",
       "\n",
       "                                                type_of_booking  \n",
       "missing_ratio                                               0.0  \n",
       "num_diff_vals                                                 3  \n",
       "diff_vals      [Not defined, Group bookings, Individual/Couple]  "
      ]
     },
     "execution_count": 17,
     "metadata": {},
     "output_type": "execute_result"
    }
   ],
   "source": [
    "cate_col_df = ehs_df[cate_col_name]\n",
    "\n",
    "cate_col_profiles_df = cate_col_df.agg([missing_ratio, pd.Series.nunique, pd.Series.unique])\n",
    "\n",
    "cate_col_profiles_df.rename(\n",
    "    index={'nunique': 'num_diff_vals', 'unique': \"diff_vals\"},\n",
    "    inplace=True\n",
    ")\n",
    "\n",
    "cate_col_profiles_df"
   ]
  },
  {
   "cell_type": "markdown",
   "metadata": {},
   "source": [
    "Ta sẽ xem rõ hơn về sự phân bố của các giá trị trong mỗi cột có kiểu là categorical"
   ]
  },
  {
   "cell_type": "code",
   "execution_count": 18,
   "metadata": {},
   "outputs": [
    {
     "data": {
      "image/png": "[encoded data removed]",
      "text/plain": [
       "<Figure size 1440x1120 with 5 Axes>"
      ]
     },
     "metadata": {
      "needs_background": "light"
     },
     "output_type": "display_data"
    }
   ],
   "source": [
    "plot_hist_cols(cate_col_df, 3)"
   ]
  },
  {
   "cell_type": "code",
   "execution_count": 28,
   "metadata": {},
   "outputs": [
    {
     "data": {
      "text/html": [
       "<div>\n",
       "<style scoped>\n",
       "    .dataframe tbody tr th:only-of-type {\n",
       "        vertical-align: middle;\n",
       "    }\n",
       "\n",
       "    .dataframe tbody tr th {\n",
       "        vertical-align: top;\n",
       "    }\n",
       "\n",
       "    .dataframe thead th {\n",
       "        text-align: right;\n",
       "    }\n",
       "</style>\n",
       "<table border=\"1\" class=\"dataframe\">\n",
       "  <thead>\n",
       "    <tr style=\"text-align: right;\">\n",
       "      <th></th>\n",
       "      <th>type_of_travel</th>\n",
       "      <th>type_of_booking</th>\n",
       "    </tr>\n",
       "  </thead>\n",
       "  <tbody>\n",
       "    <tr>\n",
       "      <th>46</th>\n",
       "      <td>Personal Travel</td>\n",
       "      <td>Group bookings</td>\n",
       "    </tr>\n",
       "    <tr>\n",
       "      <th>97</th>\n",
       "      <td>Personal Travel</td>\n",
       "      <td>Group bookings</td>\n",
       "    </tr>\n",
       "    <tr>\n",
       "      <th>143</th>\n",
       "      <td>Personal Travel</td>\n",
       "      <td>Group bookings</td>\n",
       "    </tr>\n",
       "    <tr>\n",
       "      <th>149</th>\n",
       "      <td>Personal Travel</td>\n",
       "      <td>Group bookings</td>\n",
       "    </tr>\n",
       "    <tr>\n",
       "      <th>188</th>\n",
       "      <td>Personal Travel</td>\n",
       "      <td>Group bookings</td>\n",
       "    </tr>\n",
       "    <tr>\n",
       "      <th>...</th>\n",
       "      <td>...</td>\n",
       "      <td>...</td>\n",
       "    </tr>\n",
       "    <tr>\n",
       "      <th>103622</th>\n",
       "      <td>Personal Travel</td>\n",
       "      <td>Group bookings</td>\n",
       "    </tr>\n",
       "    <tr>\n",
       "      <th>103658</th>\n",
       "      <td>Personal Travel</td>\n",
       "      <td>Group bookings</td>\n",
       "    </tr>\n",
       "    <tr>\n",
       "      <th>103715</th>\n",
       "      <td>Personal Travel</td>\n",
       "      <td>Group bookings</td>\n",
       "    </tr>\n",
       "    <tr>\n",
       "      <th>103733</th>\n",
       "      <td>Personal Travel</td>\n",
       "      <td>Group bookings</td>\n",
       "    </tr>\n",
       "    <tr>\n",
       "      <th>103864</th>\n",
       "      <td>Personal Travel</td>\n",
       "      <td>Group bookings</td>\n",
       "    </tr>\n",
       "  </tbody>\n",
       "</table>\n",
       "<p>2157 rows × 2 columns</p>\n",
       "</div>"
      ],
      "text/plain": [
       "         type_of_travel type_of_booking\n",
       "46      Personal Travel  Group bookings\n",
       "97      Personal Travel  Group bookings\n",
       "143     Personal Travel  Group bookings\n",
       "149     Personal Travel  Group bookings\n",
       "188     Personal Travel  Group bookings\n",
       "...                 ...             ...\n",
       "103622  Personal Travel  Group bookings\n",
       "103658  Personal Travel  Group bookings\n",
       "103715  Personal Travel  Group bookings\n",
       "103733  Personal Travel  Group bookings\n",
       "103864  Personal Travel  Group bookings\n",
       "\n",
       "[2157 rows x 2 columns]"
      ]
     },
     "execution_count": 28,
     "metadata": {},
     "output_type": "execute_result"
    }
   ],
   "source": [
    "tmp_df = ehs_df[['type_of_travel', 'type_of_booking']]\n",
    "tmp_df = tmp_df[tmp_df['type_of_travel'] == 'Personal Travel']\n",
    "tmp_df[tmp_df['type_of_booking'] == 'Group bookings']"
   ]
  },
  {
   "cell_type": "markdown",
   "metadata": {},
   "source": [
    "---"
   ]
  },
  {
   "cell_type": "markdown",
   "metadata": {},
   "source": [
    "# 5. Đưa ra các câu hỏi cần trả lời"
   ]
  },
  {
   "cell_type": "markdown",
   "metadata": {},
   "source": [
    "---"
   ]
  },
  {
   "cell_type": "markdown",
   "metadata": {},
   "source": [
    "# 6.Tiền xử lý, phân tích dữ liệu để trả lời cho từng câu hỏi"
   ]
  },
  {
   "cell_type": "markdown",
   "metadata": {},
   "source": [
    "## 6.1 Câu hỏi 1"
   ]
  },
  {
   "cell_type": "markdown",
   "metadata": {},
   "source": [
    "### Tiền xử lý"
   ]
  },
  {
   "cell_type": "markdown",
   "metadata": {},
   "source": [
    "### Phân tích dữ liệu để trả lời cho các câu hỏi "
   ]
  },
  {
   "cell_type": "markdown",
   "metadata": {},
   "source": [
    "---"
   ]
  },
  {
   "cell_type": "markdown",
   "metadata": {},
   "source": [
    "## 6.2 Câu hỏi 2"
   ]
  },
  {
   "cell_type": "markdown",
   "metadata": {},
   "source": [
    "### Tiền xử lý"
   ]
  },
  {
   "cell_type": "markdown",
   "metadata": {},
   "source": [
    "### Phân tích dữ liệu để trả lời cho các câu hỏi "
   ]
  },
  {
   "cell_type": "markdown",
   "metadata": {},
   "source": [
    "---"
   ]
  },
  {
   "cell_type": "markdown",
   "metadata": {},
   "source": [
    "# 7. Nhìn lại quá trình làm đồ án"
   ]
  },
  {
   "cell_type": "markdown",
   "metadata": {},
   "source": [
    "## Thành viên 1\n",
    "\n",
    "- Họ tên:\n",
    "- Đã gặp những khó khăn gì?\n",
    "- Có học được gì hữu ích?"
   ]
  },
  {
   "cell_type": "markdown",
   "metadata": {},
   "source": [
    "## Thành viên 2\n",
    "\n",
    "- Họ tên:\n",
    "- Đã gặp những khó khăn gì?\n",
    "- Có học được gì hữu ích?"
   ]
  },
  {
   "cell_type": "markdown",
   "metadata": {},
   "source": [
    "## Nhóm\n",
    "**Nếu có thêm thời gian thì sẽ làm gì?**"
   ]
  },
  {
   "cell_type": "markdown",
   "metadata": {},
   "source": [
    "# 8. Tài liệu tham khảo"
   ]
  }
 ],
 "metadata": {
  "kernelspec": {
   "display_name": "Python 3 (ipykernel)",
   "language": "python",
   "name": "python3"
  },
  "language_info": {
   "codemirror_mode": {
    "name": "ipython",
    "version": 3
   },
   "file_extension": ".py",
   "mimetype": "text/x-python",
   "name": "python",
   "nbconvert_exporter": "python",
   "pygments_lexer": "ipython3",
   "version": "3.8.8"
  },
  "toc": {
   "base_numbering": 1,
   "nav_menu": {
    "height": "492px",
    "width": "748px"
   },
   "number_sections": false,
   "sideBar": true,
   "skip_h1_title": false,
   "title_cell": "Table of Contents",
   "title_sidebar": "Contents",
   "toc_cell": false,
   "toc_position": {
    "height": "calc(100% - 180px)",
    "left": "10px",
    "top": "150px",
    "width": "240px"
   },
   "toc_section_display": true,
   "toc_window_display": false
  }
 },
 "nbformat": 4,
 "nbformat_minor": 4
}
