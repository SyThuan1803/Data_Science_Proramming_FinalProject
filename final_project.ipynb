{
 "cells": [
  {
   "cell_type": "markdown",
   "metadata": {},
   "source": [
    "# 1. Thông tin nhóm\n",
    "\n",
    "### *Danh sách thành viên:*\n",
    "\n",
    "<center>\n",
    "    \n",
    "|   MSSV   |      Họ tên      | Tài khoản Github |\n",
    "|----------|------------------|------------------|\n",
    "| 19120387 |    Lê Sỹ Thuần   |    SyThuan1803   |\n",
    "| 19120119 | Nguyễn Minh Phúc |   youngtobesick  |\n",
    "    \n",
    "</center>\n",
    "\n",
    "### *Kế hoạch làm việc:* \n",
    "[Xem tại đây](https://docs.google.com/spreadsheets/d/1DCq30ORIH6m-1EYMnbUmZ8fBoxPiiCgRgLDpJaRKRVE/edit?usp=sharing)"
   ]
  },
  {
   "cell_type": "markdown",
   "metadata": {},
   "source": [
    "---"
   ]
  },
  {
   "cell_type": "markdown",
   "metadata": {},
   "source": [
    "# 2. Thu thập dữ liệu"
   ]
  },
  {
   "cell_type": "markdown",
   "metadata": {},
   "source": [
    "#### Dữ liệu của bạn là về chủ đề gì và bạn lấy từ nguồn nào?"
   ]
  },
  {
   "cell_type": "markdown",
   "metadata": {},
   "source": [
    "Dữ liệu là bảng đánh giá độ hài lòng của các khách về các khách sạn Châu Âu\n",
    "</br> Dữ liệu được lấy từ nguồn được public trên [Kaggle](https://www.kaggle.com/ishansingh88/europe-hotel-satisfaction-score)"
   ]
  },
  {
   "cell_type": "markdown",
   "metadata": {},
   "source": [
    "**Phần mô tả của dữ liệu**"
   ]
  },
  {
   "cell_type": "markdown",
   "metadata": {},
   "source": [
    "Phần mô tả dữ liệu không có gì đặc biệt, chỉ là các dòng mô tả giá trị của các cột có trong dataset.  \n",
    "Dưới đây là phần mô tả được lấy từ trang publish dataset:  \n",
    "\n",
    "Columns\n",
    "Age - 7 to 85\n",
    "\n",
    "purposeoftravel - aviation, academic, personal, business, tourism.\n",
    "\n",
    "Type of Travel - Group travel, Personal Travel.\n",
    "\n",
    "Type Of Booking - Group bookings, Individual/Couple.\n",
    "\n",
    "Hotel wifi service - Ratings out of 5.\n",
    "\n",
    "Departure/Arrival convenience - Ratings out of 5.\n",
    "\n",
    "Ease of Online booking - Ratings out of 5.\n",
    "\n",
    "Hotel location - Ratings out of 5.\n",
    "\n",
    "Food and drink - Ratings out of 5.\n",
    "\n",
    "Stay comfort - Ratings out of 5.\n",
    "\n",
    "Common Room entertainment - Ratings out of 5.\n",
    "\n",
    "Checkin/Checkout service - Ratings out of 5.\n",
    "\n",
    "Other service - Ratings out of 5.\n",
    "\n",
    "Cleanliness - Ratings out of 5.\n",
    "\n",
    "satisfaction - satisfied, neutral or dissatisfied."
   ]
  },
  {
   "cell_type": "markdown",
   "metadata": {},
   "source": [
    "**License của dữ liệu**"
   ]
  },
  {
   "cell_type": "markdown",
   "metadata": {},
   "source": [
    "License của dữ liệu là Unknown ([nguồn](https://www.kaggle.com/ishansingh88/europe-hotel-satisfaction-score/metadata)).  \n",
    "Có vẻ như người publish dữ liệu này lên Kaggle không có yêu cầu gì đối với việc sử dụng dữ liệu, hoặc cũng có thể là quên cập nhật chi tiết License. Nhưng có lẽ việc sử dụng dữ liệu với mục đích học tập thì cũng không đến nỗi nào 😓."
   ]
  },
  {
   "cell_type": "markdown",
   "metadata": {},
   "source": [
    "#### Người ta thu thập dữ liệu từ nguồn nào?"
   ]
  },
  {
   "cell_type": "markdown",
   "metadata": {},
   "source": [
    "Em đã tìm hết tất cả tab ở link bên trên nhưng vẫn không thấy chỗ nào có ghi cách để thu thập bộ dữ liệu này.\n",
    "\n",
    "Em đoán là có thể lúc khách trả phòng, họ được nhờ để điền mẫu khảo sát về các dịch vụ của khách sạn để thu thập dữ liệu. Vì title chỉ nói chung chung là Europe Hotel mà không để chi tiết là một hay nhiều hotel nào nên cũng có thể là nhóm thu thập dữ liệu tiến hành khảo sát trên cộng đồng nào đó để có thể đưa ra một bộ dữ liệu đồng nhất về các thuộc tính như thế này."
   ]
  },
  {
   "cell_type": "markdown",
   "metadata": {},
   "source": [
    "---"
   ]
  },
  {
   "cell_type": "markdown",
   "metadata": {},
   "source": [
    "# 3. Import các thư viện cần thiết"
   ]
  },
  {
   "cell_type": "code",
   "execution_count": 1,
   "metadata": {},
   "outputs": [],
   "source": [
    "import numpy as np\n",
    "import pandas as pd\n",
    "import seaborn as sns\n",
    "import matplotlib.pyplot as plt\n",
    "import sklearn\n",
    "from sklearn.metrics import accuracy_score\n",
    "from sklearn.model_selection import train_test_split\n",
    "from sklearn.tree import DecisionTreeClassifier\n",
    "from sklearn.feature_selection import RFE\n",
    "from sklearn.tree import export_text"
   ]
  },
  {
   "cell_type": "markdown",
   "metadata": {},
   "source": [
    "---"
   ]
  },
  {
   "cell_type": "markdown",
   "metadata": {},
   "source": [
    "# 4. Khám phá & tiền xử lý dữ liệu"
   ]
  },
  {
   "cell_type": "markdown",
   "metadata": {},
   "source": [
    "## Khám phá dữ liệu"
   ]
  },
  {
   "cell_type": "markdown",
   "metadata": {},
   "source": [
    "### Đọc dữ liệu từ file csv vào dataframe"
   ]
  },
  {
   "cell_type": "code",
   "execution_count": 2,
   "metadata": {
    "scrolled": true
   },
   "outputs": [
    {
     "data": {
      "text/html": [
       "<div>\n",
       "<style scoped>\n",
       "    .dataframe tbody tr th:only-of-type {\n",
       "        vertical-align: middle;\n",
       "    }\n",
       "\n",
       "    .dataframe tbody tr th {\n",
       "        vertical-align: top;\n",
       "    }\n",
       "\n",
       "    .dataframe thead th {\n",
       "        text-align: right;\n",
       "    }\n",
       "</style>\n",
       "<table border=\"1\" class=\"dataframe\">\n",
       "  <thead>\n",
       "    <tr style=\"text-align: right;\">\n",
       "      <th></th>\n",
       "      <th>id</th>\n",
       "      <th>Gender</th>\n",
       "      <th>Age</th>\n",
       "      <th>purpose_of_travel</th>\n",
       "      <th>Type of Travel</th>\n",
       "      <th>Type Of Booking</th>\n",
       "      <th>Hotel wifi service</th>\n",
       "      <th>Departure/Arrival  convenience</th>\n",
       "      <th>Ease of Online booking</th>\n",
       "      <th>Hotel location</th>\n",
       "      <th>Food and drink</th>\n",
       "      <th>Stay comfort</th>\n",
       "      <th>Common Room entertainment</th>\n",
       "      <th>Checkin/Checkout service</th>\n",
       "      <th>Other service</th>\n",
       "      <th>Cleanliness</th>\n",
       "      <th>satisfaction</th>\n",
       "    </tr>\n",
       "  </thead>\n",
       "  <tbody>\n",
       "    <tr>\n",
       "      <th>0</th>\n",
       "      <td>70172</td>\n",
       "      <td>Male</td>\n",
       "      <td>13</td>\n",
       "      <td>aviation</td>\n",
       "      <td>Personal Travel</td>\n",
       "      <td>Not defined</td>\n",
       "      <td>3</td>\n",
       "      <td>4</td>\n",
       "      <td>3</td>\n",
       "      <td>1</td>\n",
       "      <td>5</td>\n",
       "      <td>5</td>\n",
       "      <td>5</td>\n",
       "      <td>4</td>\n",
       "      <td>5</td>\n",
       "      <td>5</td>\n",
       "      <td>neutral or dissatisfied</td>\n",
       "    </tr>\n",
       "    <tr>\n",
       "      <th>1</th>\n",
       "      <td>5047</td>\n",
       "      <td>Male</td>\n",
       "      <td>25</td>\n",
       "      <td>tourism</td>\n",
       "      <td>Group Travel</td>\n",
       "      <td>Group bookings</td>\n",
       "      <td>3</td>\n",
       "      <td>2</td>\n",
       "      <td>3</td>\n",
       "      <td>3</td>\n",
       "      <td>1</td>\n",
       "      <td>1</td>\n",
       "      <td>1</td>\n",
       "      <td>1</td>\n",
       "      <td>4</td>\n",
       "      <td>1</td>\n",
       "      <td>neutral or dissatisfied</td>\n",
       "    </tr>\n",
       "    <tr>\n",
       "      <th>2</th>\n",
       "      <td>110028</td>\n",
       "      <td>Female</td>\n",
       "      <td>26</td>\n",
       "      <td>tourism</td>\n",
       "      <td>Group Travel</td>\n",
       "      <td>Group bookings</td>\n",
       "      <td>2</td>\n",
       "      <td>2</td>\n",
       "      <td>2</td>\n",
       "      <td>2</td>\n",
       "      <td>5</td>\n",
       "      <td>5</td>\n",
       "      <td>5</td>\n",
       "      <td>4</td>\n",
       "      <td>4</td>\n",
       "      <td>5</td>\n",
       "      <td>satisfied</td>\n",
       "    </tr>\n",
       "    <tr>\n",
       "      <th>3</th>\n",
       "      <td>24026</td>\n",
       "      <td>Female</td>\n",
       "      <td>25</td>\n",
       "      <td>tourism</td>\n",
       "      <td>Group Travel</td>\n",
       "      <td>Group bookings</td>\n",
       "      <td>2</td>\n",
       "      <td>5</td>\n",
       "      <td>5</td>\n",
       "      <td>5</td>\n",
       "      <td>2</td>\n",
       "      <td>2</td>\n",
       "      <td>2</td>\n",
       "      <td>1</td>\n",
       "      <td>4</td>\n",
       "      <td>2</td>\n",
       "      <td>neutral or dissatisfied</td>\n",
       "    </tr>\n",
       "    <tr>\n",
       "      <th>4</th>\n",
       "      <td>119299</td>\n",
       "      <td>Male</td>\n",
       "      <td>61</td>\n",
       "      <td>aviation</td>\n",
       "      <td>Group Travel</td>\n",
       "      <td>Group bookings</td>\n",
       "      <td>3</td>\n",
       "      <td>3</td>\n",
       "      <td>3</td>\n",
       "      <td>3</td>\n",
       "      <td>4</td>\n",
       "      <td>5</td>\n",
       "      <td>3</td>\n",
       "      <td>3</td>\n",
       "      <td>3</td>\n",
       "      <td>3</td>\n",
       "      <td>satisfied</td>\n",
       "    </tr>\n",
       "  </tbody>\n",
       "</table>\n",
       "</div>"
      ],
      "text/plain": [
       "       id  Gender  Age purpose_of_travel   Type of Travel Type Of Booking  \\\n",
       "0   70172    Male   13          aviation  Personal Travel     Not defined   \n",
       "1    5047    Male   25           tourism     Group Travel  Group bookings   \n",
       "2  110028  Female   26           tourism     Group Travel  Group bookings   \n",
       "3   24026  Female   25           tourism     Group Travel  Group bookings   \n",
       "4  119299    Male   61          aviation     Group Travel  Group bookings   \n",
       "\n",
       "   Hotel wifi service  Departure/Arrival  convenience  Ease of Online booking  \\\n",
       "0                   3                               4                       3   \n",
       "1                   3                               2                       3   \n",
       "2                   2                               2                       2   \n",
       "3                   2                               5                       5   \n",
       "4                   3                               3                       3   \n",
       "\n",
       "   Hotel location  Food and drink  Stay comfort  Common Room entertainment  \\\n",
       "0               1               5             5                          5   \n",
       "1               3               1             1                          1   \n",
       "2               2               5             5                          5   \n",
       "3               5               2             2                          2   \n",
       "4               3               4             5                          3   \n",
       "\n",
       "   Checkin/Checkout service  Other service  Cleanliness  \\\n",
       "0                         4              5            5   \n",
       "1                         1              4            1   \n",
       "2                         4              4            5   \n",
       "3                         1              4            2   \n",
       "4                         3              3            3   \n",
       "\n",
       "              satisfaction  \n",
       "0  neutral or dissatisfied  \n",
       "1  neutral or dissatisfied  \n",
       "2                satisfied  \n",
       "3  neutral or dissatisfied  \n",
       "4                satisfied  "
      ]
     },
     "execution_count": 2,
     "metadata": {},
     "output_type": "execute_result"
    }
   ],
   "source": [
    "# ehs là viết tắt của europe hotel satisfaction\n",
    "ehs_df = pd.read_csv('./data/Europe Hotel Booking Satisfaction Score.csv')\n",
    "ehs_df.head()"
   ]
  },
  {
   "cell_type": "markdown",
   "metadata": {},
   "source": [
    "### Dữ liệu gồm có bao nhiêu dòng và bao nhiêu cột?"
   ]
  },
  {
   "cell_type": "code",
   "execution_count": 3,
   "metadata": {},
   "outputs": [
    {
     "name": "stdout",
     "output_type": "stream",
     "text": [
      "Number of rows: 103904\n",
      "Number of cols: 17\n"
     ]
    }
   ],
   "source": [
    "num_rows,num_cols = ehs_df.shape\n",
    "print(f'Number of rows: {num_rows}')\n",
    "print(f'Number of cols: {num_cols}')"
   ]
  },
  {
   "cell_type": "markdown",
   "metadata": {},
   "source": [
    "Vậy là dữ liệu được thu thập hơn 100 nghìn dòng (có thể tồn tại các dòng bị trùng nhau) với khoảng 15 thuộc tính được khảo sát."
   ]
  },
  {
   "cell_type": "markdown",
   "metadata": {},
   "source": [
    "### Mỗi dòng có ý nghĩa gì? Có vấn đề các dòng có ý nghĩa khác nhau không?"
   ]
  },
  {
   "cell_type": "markdown",
   "metadata": {},
   "source": [
    "Theo mô tả của file dữ liệu và theo quan sát sơ bộ thì mỗi dòng đại diện cho một khảo sát của một người cụ thể với các dịch vụ của khách sạn, và nhìn chung thì em hy vọng là không có dòng nào có ý nghĩa khác với những dòng còn lại (nếu có thì trong quá trình khám phá và phân tích, ta có thể lược bỏ các dòng này sau)."
   ]
  },
  {
   "cell_type": "markdown",
   "metadata": {},
   "source": [
    "### Dữ liệu có các dòng bị lặp không?"
   ]
  },
  {
   "cell_type": "code",
   "execution_count": 4,
   "metadata": {},
   "outputs": [
    {
     "name": "stdout",
     "output_type": "stream",
     "text": [
      "Duplicated rows in dataframe: 0\n"
     ]
    }
   ],
   "source": [
    "print(f'Duplicated rows in dataframe: {ehs_df.duplicated().sum()}')"
   ]
  },
  {
   "cell_type": "markdown",
   "metadata": {},
   "source": [
    "Okay, theo như kết quả của của dòng code phía trên thì dataframe của ta không tồn tại các dòng bị trùng nhau, ta có thể tiếp tục khám phá mà không cần ở lại xử lý vấn đề bị lặp dòng này."
   ]
  },
  {
   "cell_type": "markdown",
   "metadata": {},
   "source": [
    "### Mỗi cột có ý nghĩa gì?"
   ]
  },
  {
   "cell_type": "markdown",
   "metadata": {},
   "source": [
    "Tuy phần thông tin mô tả dữ liệu đã đề cập đến tên các cột và giá trị của các cột này, nhưng nó không đề cập đến ý nghĩa của tên cột nên em nghĩ là sẽ giải đáp một cách khá tương đối về vấn đề này và hy vọng là không có sự hiểu nhầm ở đây 😉.\n",
    "\n",
    "Sau đây là ý nghĩa của các cột và các giá trị (được trích từ thông tin mô tả dữ liệu, các dòng không để giá trị ở dưới đây mặc định là điểm ratings từ 0-5):\n",
    "\n",
    "|Thuộc tính|    Ý nghĩa   |\n",
    "|:--------:|:-----:|\n",
    "|**id**|ID của survey||\n",
    "|**Gender**|Giới tính người thực hiện survey|\n",
    "|**Age**|Tuổi của đối tượng khảo sát (từ 7-85)| \n",
    "|**purpose_of_travel**|Mục đích của chuyến đi trong lúc sử dụng khách sạn (gồm aviation, academic, personal, business, tourism)|\n",
    "|**type_of_travel**|Loại chuyến đi (gồm Group travel, Personal Travel)|\n",
    "|**Type of Booking**|Loại đặt phòng (gồm Group bookings, Individual/Couple)|\n",
    "|**Hotel wifi service**|Wifi của khách sạn|\n",
    "|**Departure/Arrival  convenience**|Tiện nghi khi đến|\n",
    "|**Ease of Online booking**|Thoải mái booking online|\n",
    "|**Hotel location**|Địa điểm hotel|\n",
    "|**Food and drink**|Thức ăn và đồ uống|\n",
    "|**Stay comfort**|Chỗ ở thoải mái|\n",
    "|**Common Room entertainment**|Phòng giải trí chung|\n",
    "|**Checkin/Checkout service**|Dịch vụ check in/ check out|\n",
    "|**Other service**|Dịch vụ khác|\n",
    "|**Cleanliness**|Sạch sẽ|\n",
    "|**satisfaction**|Độ hài lòng của khách (gồm satisfied, neutral or dissatisfied)|"
   ]
  },
  {
   "cell_type": "markdown",
   "metadata": {},
   "source": [
    "### Mỗi cột hiện đang có kiểu dữ liệu gì? Có cột nào có kiểu dữ liệu chưa phù hợp để có thể xử lý tiếp không?"
   ]
  },
  {
   "cell_type": "markdown",
   "metadata": {},
   "source": [
    "Trước khi xem kiểu dữ liệu của các cột, ta cần format tên cột theo một chuẩn nhất định để dễ thao tác hơn. Chuẩn được đặt ra ở đây đó chính là viết thường các ký tự tên cột và thay thế khoảng trắng bằng dấu gạch dưới (underscore)"
   ]
  },
  {
   "cell_type": "code",
   "execution_count": 5,
   "metadata": {},
   "outputs": [
    {
     "data": {
      "text/plain": [
       "Index(['id', 'gender', 'age', 'purpose_of_travel', 'type_of_travel',\n",
       "       'type_of_booking', 'hotel_wifi_service',\n",
       "       'departure_arrival_convenience', 'ease_of_online_booking',\n",
       "       'hotel_location', 'food_and_drink', 'stay_comfort',\n",
       "       'common_room_entertainment', 'checkin_checkout_service',\n",
       "       'other_service', 'cleanliness', 'satisfaction'],\n",
       "      dtype='object')"
      ]
     },
     "execution_count": 5,
     "metadata": {},
     "output_type": "execute_result"
    }
   ],
   "source": [
    "def convert_name(old_name):\n",
    "    new_name = old_name.lower()\n",
    "    new_name = new_name.replace('  ', '_')\n",
    "    new_name = new_name.replace(' ', '_')\n",
    "    new_name = new_name.replace('/', '_')\n",
    "    return new_name\n",
    "\n",
    "ehs_df.rename(columns=convert_name, inplace=True)\n",
    "ehs_df.columns"
   ]
  },
  {
   "cell_type": "code",
   "execution_count": 6,
   "metadata": {
    "scrolled": true
   },
   "outputs": [
    {
     "data": {
      "text/plain": [
       "id                                int64\n",
       "gender                           object\n",
       "age                               int64\n",
       "purpose_of_travel                object\n",
       "type_of_travel                   object\n",
       "type_of_booking                  object\n",
       "hotel_wifi_service                int64\n",
       "departure_arrival_convenience     int64\n",
       "ease_of_online_booking            int64\n",
       "hotel_location                    int64\n",
       "food_and_drink                    int64\n",
       "stay_comfort                      int64\n",
       "common_room_entertainment         int64\n",
       "checkin_checkout_service          int64\n",
       "other_service                     int64\n",
       "cleanliness                       int64\n",
       "satisfaction                     object\n",
       "dtype: object"
      ]
     },
     "execution_count": 6,
     "metadata": {},
     "output_type": "execute_result"
    }
   ],
   "source": [
    "col_dtypes = ehs_df.dtypes\n",
    "col_dtypes"
   ]
  },
  {
   "cell_type": "markdown",
   "metadata": {},
   "source": [
    "Hiện tại thì `ehs_df` chỉ có 5 cột có `dtype` là `object`: \"gender\", \"purpose_of_travel\", \"type_of_travel\", \"type_of_booking\", \"satisfaction\". Chúng ta sẽ thử xem các cột này đang giữ các kiểu dữ liệu nào."
   ]
  },
  {
   "cell_type": "code",
   "execution_count": 7,
   "metadata": {},
   "outputs": [
    {
     "name": "stdout",
     "output_type": "stream",
     "text": [
      "gender: {<class 'str'>}\n",
      "purpose_of_travel: {<class 'str'>}\n",
      "type_of_travel: {<class 'str'>}\n",
      "type_of_booking: {<class 'str'>}\n",
      "satisfaction: {<class 'str'>}\n"
     ]
    }
   ],
   "source": [
    "def open_object_dtype(s):\n",
    "    return set(s.apply(type))\n",
    "\n",
    "obj_cols_name = [\"gender\", \"purpose_of_travel\",\n",
    "                 \"type_of_travel\", \"type_of_booking\", \"satisfaction\"]\n",
    "\n",
    "for col_name in obj_cols_name:\n",
    "    print(f\"{col_name}: {open_object_dtype(ehs_df[col_name])}\")"
   ]
  },
  {
   "cell_type": "markdown",
   "metadata": {},
   "source": [
    "**Vấn đề cần tiền xử lý:**\n",
    "- Cột Type Of Booking có giá trị là Not defined tương tự với việc đánh dấu giá trị thiếu, nên cần phải điền vào những ô có giá trị này."
   ]
  },
  {
   "cell_type": "markdown",
   "metadata": {},
   "source": [
    "## Tiền xử lý"
   ]
  },
  {
   "cell_type": "markdown",
   "metadata": {},
   "source": [
    "**Thay thế những ô có giá trị Not defined trong cột Type of booking**\n",
    "\n",
    "*Phương pháp:*\n",
    "- Thay thế giá trị Not defined bằng 2 giá trị còn lại trong cột Type of booking bằng phương pháp max similarity (độ tương tự lớn nhất)"
   ]
  },
  {
   "cell_type": "markdown",
   "metadata": {},
   "source": [
    "Chuẩn hóa cột categorical về numerical"
   ]
  },
  {
   "cell_type": "code",
   "execution_count": 8,
   "metadata": {},
   "outputs": [],
   "source": [
    "# Chuyển hết giá trị Not defined thành NaN\n",
    "ehs_df.loc[ehs_df['type_of_booking'] == 'Not defined', 'type_of_booking'] = np.nan"
   ]
  },
  {
   "cell_type": "code",
   "execution_count": 9,
   "metadata": {},
   "outputs": [],
   "source": [
    "# Chuẩn hóa các cột Categorical thành cột có dạng số\n",
    "#Tạo một bản sao data frame để chuẩn hóa\n",
    "ehs_df_normalize=ehs_df.copy()\n",
    "ehs_df_normalize['gender'] = ehs_df_normalize['gender'].replace(['Male'],1)\n",
    "ehs_df_normalize['gender'] =ehs_df_normalize['gender'].replace(['Female'],2)\n",
    "\n",
    "ehs_df_normalize['type_of_travel'] = ehs_df_normalize['type_of_travel'].replace(['Personal Travel'],1)\n",
    "ehs_df_normalize['type_of_travel'] = ehs_df_normalize['type_of_travel'].replace(['Group Travel'],2)\n",
    "\n",
    "ehs_df_normalize['satisfaction'] = ehs_df_normalize['satisfaction'].replace(['neutral or dissatisfied'],0)\n",
    "ehs_df_normalize['satisfaction'] = ehs_df_normalize['satisfaction'].replace(['satisfied'],1)\n",
    "ehs_df_normalize['type_of_booking'] = ehs_df_normalize['type_of_booking'].replace(['Individual/Couple'],1)\n",
    "ehs_df_normalize['type_of_booking'] = ehs_df_normalize['type_of_booking'].replace(['Group bookings'],2)\n",
    "\n",
    "ehs_df_normalize['purpose_of_travel'] = ehs_df_normalize['purpose_of_travel'].replace(['tourism'],5)\n",
    "ehs_df_normalize['purpose_of_travel'] = ehs_df_normalize['purpose_of_travel'].replace(['academic'],4)\n",
    "ehs_df_normalize['purpose_of_travel'] = ehs_df_normalize['purpose_of_travel'].replace(['business'],3)\n",
    "ehs_df_normalize['purpose_of_travel'] = ehs_df_normalize['purpose_of_travel'].replace(['aviation'],2)\n",
    "ehs_df_normalize['purpose_of_travel'] = ehs_df_normalize['purpose_of_travel'].replace(['personal'],1)"
   ]
  },
  {
   "cell_type": "markdown",
   "metadata": {},
   "source": [
    "Chọn ra tất cả các dòng có giá trị NaN"
   ]
  },
  {
   "cell_type": "code",
   "execution_count": 10,
   "metadata": {},
   "outputs": [
    {
     "data": {
      "text/html": [
       "<div>\n",
       "<style scoped>\n",
       "    .dataframe tbody tr th:only-of-type {\n",
       "        vertical-align: middle;\n",
       "    }\n",
       "\n",
       "    .dataframe tbody tr th {\n",
       "        vertical-align: top;\n",
       "    }\n",
       "\n",
       "    .dataframe thead th {\n",
       "        text-align: right;\n",
       "    }\n",
       "</style>\n",
       "<table border=\"1\" class=\"dataframe\">\n",
       "  <thead>\n",
       "    <tr style=\"text-align: right;\">\n",
       "      <th></th>\n",
       "      <th>id</th>\n",
       "      <th>gender</th>\n",
       "      <th>age</th>\n",
       "      <th>purpose_of_travel</th>\n",
       "      <th>type_of_travel</th>\n",
       "      <th>type_of_booking</th>\n",
       "      <th>hotel_wifi_service</th>\n",
       "      <th>departure_arrival_convenience</th>\n",
       "      <th>ease_of_online_booking</th>\n",
       "      <th>hotel_location</th>\n",
       "      <th>food_and_drink</th>\n",
       "      <th>stay_comfort</th>\n",
       "      <th>common_room_entertainment</th>\n",
       "      <th>checkin_checkout_service</th>\n",
       "      <th>other_service</th>\n",
       "      <th>cleanliness</th>\n",
       "      <th>satisfaction</th>\n",
       "    </tr>\n",
       "  </thead>\n",
       "  <tbody>\n",
       "    <tr>\n",
       "      <th>0</th>\n",
       "      <td>70172</td>\n",
       "      <td>1</td>\n",
       "      <td>13</td>\n",
       "      <td>2</td>\n",
       "      <td>1</td>\n",
       "      <td>NaN</td>\n",
       "      <td>3</td>\n",
       "      <td>4</td>\n",
       "      <td>3</td>\n",
       "      <td>1</td>\n",
       "      <td>5</td>\n",
       "      <td>5</td>\n",
       "      <td>5</td>\n",
       "      <td>4</td>\n",
       "      <td>5</td>\n",
       "      <td>5</td>\n",
       "      <td>0</td>\n",
       "    </tr>\n",
       "    <tr>\n",
       "      <th>11</th>\n",
       "      <td>51412</td>\n",
       "      <td>2</td>\n",
       "      <td>12</td>\n",
       "      <td>5</td>\n",
       "      <td>1</td>\n",
       "      <td>NaN</td>\n",
       "      <td>2</td>\n",
       "      <td>4</td>\n",
       "      <td>2</td>\n",
       "      <td>2</td>\n",
       "      <td>1</td>\n",
       "      <td>1</td>\n",
       "      <td>1</td>\n",
       "      <td>5</td>\n",
       "      <td>5</td>\n",
       "      <td>1</td>\n",
       "      <td>0</td>\n",
       "    </tr>\n",
       "    <tr>\n",
       "      <th>27</th>\n",
       "      <td>14925</td>\n",
       "      <td>2</td>\n",
       "      <td>49</td>\n",
       "      <td>3</td>\n",
       "      <td>2</td>\n",
       "      <td>NaN</td>\n",
       "      <td>4</td>\n",
       "      <td>4</td>\n",
       "      <td>4</td>\n",
       "      <td>4</td>\n",
       "      <td>2</td>\n",
       "      <td>1</td>\n",
       "      <td>4</td>\n",
       "      <td>2</td>\n",
       "      <td>4</td>\n",
       "      <td>2</td>\n",
       "      <td>1</td>\n",
       "    </tr>\n",
       "    <tr>\n",
       "      <th>37</th>\n",
       "      <td>48014</td>\n",
       "      <td>1</td>\n",
       "      <td>40</td>\n",
       "      <td>1</td>\n",
       "      <td>1</td>\n",
       "      <td>NaN</td>\n",
       "      <td>4</td>\n",
       "      <td>3</td>\n",
       "      <td>4</td>\n",
       "      <td>2</td>\n",
       "      <td>2</td>\n",
       "      <td>2</td>\n",
       "      <td>2</td>\n",
       "      <td>3</td>\n",
       "      <td>4</td>\n",
       "      <td>2</td>\n",
       "      <td>0</td>\n",
       "    </tr>\n",
       "    <tr>\n",
       "      <th>69</th>\n",
       "      <td>9261</td>\n",
       "      <td>2</td>\n",
       "      <td>38</td>\n",
       "      <td>1</td>\n",
       "      <td>2</td>\n",
       "      <td>NaN</td>\n",
       "      <td>4</td>\n",
       "      <td>4</td>\n",
       "      <td>4</td>\n",
       "      <td>4</td>\n",
       "      <td>4</td>\n",
       "      <td>4</td>\n",
       "      <td>4</td>\n",
       "      <td>1</td>\n",
       "      <td>4</td>\n",
       "      <td>4</td>\n",
       "      <td>1</td>\n",
       "    </tr>\n",
       "    <tr>\n",
       "      <th>...</th>\n",
       "      <td>...</td>\n",
       "      <td>...</td>\n",
       "      <td>...</td>\n",
       "      <td>...</td>\n",
       "      <td>...</td>\n",
       "      <td>...</td>\n",
       "      <td>...</td>\n",
       "      <td>...</td>\n",
       "      <td>...</td>\n",
       "      <td>...</td>\n",
       "      <td>...</td>\n",
       "      <td>...</td>\n",
       "      <td>...</td>\n",
       "      <td>...</td>\n",
       "      <td>...</td>\n",
       "      <td>...</td>\n",
       "      <td>...</td>\n",
       "    </tr>\n",
       "    <tr>\n",
       "      <th>103811</th>\n",
       "      <td>12866</td>\n",
       "      <td>1</td>\n",
       "      <td>27</td>\n",
       "      <td>1</td>\n",
       "      <td>2</td>\n",
       "      <td>NaN</td>\n",
       "      <td>4</td>\n",
       "      <td>4</td>\n",
       "      <td>4</td>\n",
       "      <td>4</td>\n",
       "      <td>4</td>\n",
       "      <td>4</td>\n",
       "      <td>4</td>\n",
       "      <td>3</td>\n",
       "      <td>4</td>\n",
       "      <td>4</td>\n",
       "      <td>0</td>\n",
       "    </tr>\n",
       "    <tr>\n",
       "      <th>103867</th>\n",
       "      <td>81857</td>\n",
       "      <td>1</td>\n",
       "      <td>30</td>\n",
       "      <td>1</td>\n",
       "      <td>2</td>\n",
       "      <td>NaN</td>\n",
       "      <td>3</td>\n",
       "      <td>2</td>\n",
       "      <td>2</td>\n",
       "      <td>2</td>\n",
       "      <td>3</td>\n",
       "      <td>3</td>\n",
       "      <td>3</td>\n",
       "      <td>2</td>\n",
       "      <td>3</td>\n",
       "      <td>3</td>\n",
       "      <td>0</td>\n",
       "    </tr>\n",
       "    <tr>\n",
       "      <th>103868</th>\n",
       "      <td>37051</td>\n",
       "      <td>2</td>\n",
       "      <td>57</td>\n",
       "      <td>1</td>\n",
       "      <td>1</td>\n",
       "      <td>NaN</td>\n",
       "      <td>1</td>\n",
       "      <td>5</td>\n",
       "      <td>1</td>\n",
       "      <td>5</td>\n",
       "      <td>4</td>\n",
       "      <td>3</td>\n",
       "      <td>5</td>\n",
       "      <td>1</td>\n",
       "      <td>5</td>\n",
       "      <td>1</td>\n",
       "      <td>0</td>\n",
       "    </tr>\n",
       "    <tr>\n",
       "      <th>103877</th>\n",
       "      <td>14662</td>\n",
       "      <td>1</td>\n",
       "      <td>27</td>\n",
       "      <td>5</td>\n",
       "      <td>2</td>\n",
       "      <td>NaN</td>\n",
       "      <td>5</td>\n",
       "      <td>4</td>\n",
       "      <td>4</td>\n",
       "      <td>4</td>\n",
       "      <td>5</td>\n",
       "      <td>5</td>\n",
       "      <td>5</td>\n",
       "      <td>2</td>\n",
       "      <td>3</td>\n",
       "      <td>5</td>\n",
       "      <td>1</td>\n",
       "    </tr>\n",
       "    <tr>\n",
       "      <th>103890</th>\n",
       "      <td>80087</td>\n",
       "      <td>2</td>\n",
       "      <td>56</td>\n",
       "      <td>2</td>\n",
       "      <td>2</td>\n",
       "      <td>NaN</td>\n",
       "      <td>3</td>\n",
       "      <td>5</td>\n",
       "      <td>5</td>\n",
       "      <td>5</td>\n",
       "      <td>2</td>\n",
       "      <td>4</td>\n",
       "      <td>3</td>\n",
       "      <td>4</td>\n",
       "      <td>3</td>\n",
       "      <td>3</td>\n",
       "      <td>1</td>\n",
       "    </tr>\n",
       "  </tbody>\n",
       "</table>\n",
       "<p>7494 rows × 17 columns</p>\n",
       "</div>"
      ],
      "text/plain": [
       "           id  gender  age  purpose_of_travel  type_of_travel  \\\n",
       "0       70172       1   13                  2               1   \n",
       "11      51412       2   12                  5               1   \n",
       "27      14925       2   49                  3               2   \n",
       "37      48014       1   40                  1               1   \n",
       "69       9261       2   38                  1               2   \n",
       "...       ...     ...  ...                ...             ...   \n",
       "103811  12866       1   27                  1               2   \n",
       "103867  81857       1   30                  1               2   \n",
       "103868  37051       2   57                  1               1   \n",
       "103877  14662       1   27                  5               2   \n",
       "103890  80087       2   56                  2               2   \n",
       "\n",
       "        type_of_booking  hotel_wifi_service  departure_arrival_convenience  \\\n",
       "0                   NaN                   3                              4   \n",
       "11                  NaN                   2                              4   \n",
       "27                  NaN                   4                              4   \n",
       "37                  NaN                   4                              3   \n",
       "69                  NaN                   4                              4   \n",
       "...                 ...                 ...                            ...   \n",
       "103811              NaN                   4                              4   \n",
       "103867              NaN                   3                              2   \n",
       "103868              NaN                   1                              5   \n",
       "103877              NaN                   5                              4   \n",
       "103890              NaN                   3                              5   \n",
       "\n",
       "        ease_of_online_booking  hotel_location  food_and_drink  stay_comfort  \\\n",
       "0                            3               1               5             5   \n",
       "11                           2               2               1             1   \n",
       "27                           4               4               2             1   \n",
       "37                           4               2               2             2   \n",
       "69                           4               4               4             4   \n",
       "...                        ...             ...             ...           ...   \n",
       "103811                       4               4               4             4   \n",
       "103867                       2               2               3             3   \n",
       "103868                       1               5               4             3   \n",
       "103877                       4               4               5             5   \n",
       "103890                       5               5               2             4   \n",
       "\n",
       "        common_room_entertainment  checkin_checkout_service  other_service  \\\n",
       "0                               5                         4              5   \n",
       "11                              1                         5              5   \n",
       "27                              4                         2              4   \n",
       "37                              2                         3              4   \n",
       "69                              4                         1              4   \n",
       "...                           ...                       ...            ...   \n",
       "103811                          4                         3              4   \n",
       "103867                          3                         2              3   \n",
       "103868                          5                         1              5   \n",
       "103877                          5                         2              3   \n",
       "103890                          3                         4              3   \n",
       "\n",
       "        cleanliness  satisfaction  \n",
       "0                 5             0  \n",
       "11                1             0  \n",
       "27                2             1  \n",
       "37                2             0  \n",
       "69                4             1  \n",
       "...             ...           ...  \n",
       "103811            4             0  \n",
       "103867            3             0  \n",
       "103868            1             0  \n",
       "103877            5             1  \n",
       "103890            3             1  \n",
       "\n",
       "[7494 rows x 17 columns]"
      ]
     },
     "execution_count": 10,
     "metadata": {},
     "output_type": "execute_result"
    }
   ],
   "source": [
    "sample_df_isnan=ehs_df_normalize[ehs_df_normalize['type_of_booking'].isna()]\n",
    "sample_df_isnan"
   ]
  },
  {
   "cell_type": "markdown",
   "metadata": {},
   "source": [
    "Có tổng cộng 7494 dòng cần điền.  \n",
    "Do số lượng dữ liệu quá nhiều dẫn đến tốn nhiều thời gian trong lúc chạy file notebook nên nhóm sẽ lấy mẫu bao gồm 1000 dòng không chứa giá trị NaN để suy ra giá trị NaN.  \n",
    "Lấy random mẫu số lượng 1000 dòng không chứa giá trị NaN và nối vào dataframe chứa giá trị NaN ở trên."
   ]
  },
  {
   "cell_type": "code",
   "execution_count": 11,
   "metadata": {},
   "outputs": [
    {
     "data": {
      "text/html": [
       "<div>\n",
       "<style scoped>\n",
       "    .dataframe tbody tr th:only-of-type {\n",
       "        vertical-align: middle;\n",
       "    }\n",
       "\n",
       "    .dataframe tbody tr th {\n",
       "        vertical-align: top;\n",
       "    }\n",
       "\n",
       "    .dataframe thead th {\n",
       "        text-align: right;\n",
       "    }\n",
       "</style>\n",
       "<table border=\"1\" class=\"dataframe\">\n",
       "  <thead>\n",
       "    <tr style=\"text-align: right;\">\n",
       "      <th></th>\n",
       "      <th>id</th>\n",
       "      <th>gender</th>\n",
       "      <th>age</th>\n",
       "      <th>purpose_of_travel</th>\n",
       "      <th>type_of_travel</th>\n",
       "      <th>type_of_booking</th>\n",
       "      <th>hotel_wifi_service</th>\n",
       "      <th>departure_arrival_convenience</th>\n",
       "      <th>ease_of_online_booking</th>\n",
       "      <th>hotel_location</th>\n",
       "      <th>food_and_drink</th>\n",
       "      <th>stay_comfort</th>\n",
       "      <th>common_room_entertainment</th>\n",
       "      <th>checkin_checkout_service</th>\n",
       "      <th>other_service</th>\n",
       "      <th>cleanliness</th>\n",
       "      <th>satisfaction</th>\n",
       "    </tr>\n",
       "  </thead>\n",
       "  <tbody>\n",
       "    <tr>\n",
       "      <th>0</th>\n",
       "      <td>70172</td>\n",
       "      <td>1</td>\n",
       "      <td>13</td>\n",
       "      <td>2</td>\n",
       "      <td>1</td>\n",
       "      <td>NaN</td>\n",
       "      <td>3</td>\n",
       "      <td>4</td>\n",
       "      <td>3</td>\n",
       "      <td>1</td>\n",
       "      <td>5</td>\n",
       "      <td>5</td>\n",
       "      <td>5</td>\n",
       "      <td>4</td>\n",
       "      <td>5</td>\n",
       "      <td>5</td>\n",
       "      <td>0</td>\n",
       "    </tr>\n",
       "    <tr>\n",
       "      <th>1</th>\n",
       "      <td>51412</td>\n",
       "      <td>2</td>\n",
       "      <td>12</td>\n",
       "      <td>5</td>\n",
       "      <td>1</td>\n",
       "      <td>NaN</td>\n",
       "      <td>2</td>\n",
       "      <td>4</td>\n",
       "      <td>2</td>\n",
       "      <td>2</td>\n",
       "      <td>1</td>\n",
       "      <td>1</td>\n",
       "      <td>1</td>\n",
       "      <td>5</td>\n",
       "      <td>5</td>\n",
       "      <td>1</td>\n",
       "      <td>0</td>\n",
       "    </tr>\n",
       "    <tr>\n",
       "      <th>2</th>\n",
       "      <td>14925</td>\n",
       "      <td>2</td>\n",
       "      <td>49</td>\n",
       "      <td>3</td>\n",
       "      <td>2</td>\n",
       "      <td>NaN</td>\n",
       "      <td>4</td>\n",
       "      <td>4</td>\n",
       "      <td>4</td>\n",
       "      <td>4</td>\n",
       "      <td>2</td>\n",
       "      <td>1</td>\n",
       "      <td>4</td>\n",
       "      <td>2</td>\n",
       "      <td>4</td>\n",
       "      <td>2</td>\n",
       "      <td>1</td>\n",
       "    </tr>\n",
       "    <tr>\n",
       "      <th>3</th>\n",
       "      <td>48014</td>\n",
       "      <td>1</td>\n",
       "      <td>40</td>\n",
       "      <td>1</td>\n",
       "      <td>1</td>\n",
       "      <td>NaN</td>\n",
       "      <td>4</td>\n",
       "      <td>3</td>\n",
       "      <td>4</td>\n",
       "      <td>2</td>\n",
       "      <td>2</td>\n",
       "      <td>2</td>\n",
       "      <td>2</td>\n",
       "      <td>3</td>\n",
       "      <td>4</td>\n",
       "      <td>2</td>\n",
       "      <td>0</td>\n",
       "    </tr>\n",
       "    <tr>\n",
       "      <th>4</th>\n",
       "      <td>9261</td>\n",
       "      <td>2</td>\n",
       "      <td>38</td>\n",
       "      <td>1</td>\n",
       "      <td>2</td>\n",
       "      <td>NaN</td>\n",
       "      <td>4</td>\n",
       "      <td>4</td>\n",
       "      <td>4</td>\n",
       "      <td>4</td>\n",
       "      <td>4</td>\n",
       "      <td>4</td>\n",
       "      <td>4</td>\n",
       "      <td>1</td>\n",
       "      <td>4</td>\n",
       "      <td>4</td>\n",
       "      <td>1</td>\n",
       "    </tr>\n",
       "    <tr>\n",
       "      <th>...</th>\n",
       "      <td>...</td>\n",
       "      <td>...</td>\n",
       "      <td>...</td>\n",
       "      <td>...</td>\n",
       "      <td>...</td>\n",
       "      <td>...</td>\n",
       "      <td>...</td>\n",
       "      <td>...</td>\n",
       "      <td>...</td>\n",
       "      <td>...</td>\n",
       "      <td>...</td>\n",
       "      <td>...</td>\n",
       "      <td>...</td>\n",
       "      <td>...</td>\n",
       "      <td>...</td>\n",
       "      <td>...</td>\n",
       "      <td>...</td>\n",
       "    </tr>\n",
       "    <tr>\n",
       "      <th>8453</th>\n",
       "      <td>61001</td>\n",
       "      <td>2</td>\n",
       "      <td>45</td>\n",
       "      <td>5</td>\n",
       "      <td>2</td>\n",
       "      <td>1.0</td>\n",
       "      <td>2</td>\n",
       "      <td>1</td>\n",
       "      <td>2</td>\n",
       "      <td>3</td>\n",
       "      <td>5</td>\n",
       "      <td>5</td>\n",
       "      <td>5</td>\n",
       "      <td>1</td>\n",
       "      <td>2</td>\n",
       "      <td>5</td>\n",
       "      <td>0</td>\n",
       "    </tr>\n",
       "    <tr>\n",
       "      <th>8454</th>\n",
       "      <td>112706</td>\n",
       "      <td>1</td>\n",
       "      <td>39</td>\n",
       "      <td>5</td>\n",
       "      <td>2</td>\n",
       "      <td>1.0</td>\n",
       "      <td>4</td>\n",
       "      <td>4</td>\n",
       "      <td>4</td>\n",
       "      <td>3</td>\n",
       "      <td>1</td>\n",
       "      <td>1</td>\n",
       "      <td>1</td>\n",
       "      <td>1</td>\n",
       "      <td>4</td>\n",
       "      <td>1</td>\n",
       "      <td>0</td>\n",
       "    </tr>\n",
       "    <tr>\n",
       "      <th>8455</th>\n",
       "      <td>2663</td>\n",
       "      <td>2</td>\n",
       "      <td>53</td>\n",
       "      <td>3</td>\n",
       "      <td>2</td>\n",
       "      <td>2.0</td>\n",
       "      <td>5</td>\n",
       "      <td>5</td>\n",
       "      <td>5</td>\n",
       "      <td>5</td>\n",
       "      <td>3</td>\n",
       "      <td>5</td>\n",
       "      <td>4</td>\n",
       "      <td>5</td>\n",
       "      <td>4</td>\n",
       "      <td>5</td>\n",
       "      <td>1</td>\n",
       "    </tr>\n",
       "    <tr>\n",
       "      <th>8456</th>\n",
       "      <td>46666</td>\n",
       "      <td>1</td>\n",
       "      <td>30</td>\n",
       "      <td>4</td>\n",
       "      <td>2</td>\n",
       "      <td>2.0</td>\n",
       "      <td>4</td>\n",
       "      <td>1</td>\n",
       "      <td>1</td>\n",
       "      <td>1</td>\n",
       "      <td>2</td>\n",
       "      <td>4</td>\n",
       "      <td>2</td>\n",
       "      <td>1</td>\n",
       "      <td>3</td>\n",
       "      <td>2</td>\n",
       "      <td>0</td>\n",
       "    </tr>\n",
       "    <tr>\n",
       "      <th>8457</th>\n",
       "      <td>122342</td>\n",
       "      <td>2</td>\n",
       "      <td>23</td>\n",
       "      <td>4</td>\n",
       "      <td>2</td>\n",
       "      <td>2.0</td>\n",
       "      <td>4</td>\n",
       "      <td>4</td>\n",
       "      <td>4</td>\n",
       "      <td>4</td>\n",
       "      <td>5</td>\n",
       "      <td>5</td>\n",
       "      <td>5</td>\n",
       "      <td>4</td>\n",
       "      <td>4</td>\n",
       "      <td>5</td>\n",
       "      <td>1</td>\n",
       "    </tr>\n",
       "  </tbody>\n",
       "</table>\n",
       "<p>8458 rows × 17 columns</p>\n",
       "</div>"
      ],
      "text/plain": [
       "          id  gender  age  purpose_of_travel  type_of_travel  type_of_booking  \\\n",
       "0      70172       1   13                  2               1              NaN   \n",
       "1      51412       2   12                  5               1              NaN   \n",
       "2      14925       2   49                  3               2              NaN   \n",
       "3      48014       1   40                  1               1              NaN   \n",
       "4       9261       2   38                  1               2              NaN   \n",
       "...      ...     ...  ...                ...             ...              ...   \n",
       "8453   61001       2   45                  5               2              1.0   \n",
       "8454  112706       1   39                  5               2              1.0   \n",
       "8455    2663       2   53                  3               2              2.0   \n",
       "8456   46666       1   30                  4               2              2.0   \n",
       "8457  122342       2   23                  4               2              2.0   \n",
       "\n",
       "      hotel_wifi_service  departure_arrival_convenience  \\\n",
       "0                      3                              4   \n",
       "1                      2                              4   \n",
       "2                      4                              4   \n",
       "3                      4                              3   \n",
       "4                      4                              4   \n",
       "...                  ...                            ...   \n",
       "8453                   2                              1   \n",
       "8454                   4                              4   \n",
       "8455                   5                              5   \n",
       "8456                   4                              1   \n",
       "8457                   4                              4   \n",
       "\n",
       "      ease_of_online_booking  hotel_location  food_and_drink  stay_comfort  \\\n",
       "0                          3               1               5             5   \n",
       "1                          2               2               1             1   \n",
       "2                          4               4               2             1   \n",
       "3                          4               2               2             2   \n",
       "4                          4               4               4             4   \n",
       "...                      ...             ...             ...           ...   \n",
       "8453                       2               3               5             5   \n",
       "8454                       4               3               1             1   \n",
       "8455                       5               5               3             5   \n",
       "8456                       1               1               2             4   \n",
       "8457                       4               4               5             5   \n",
       "\n",
       "      common_room_entertainment  checkin_checkout_service  other_service  \\\n",
       "0                             5                         4              5   \n",
       "1                             1                         5              5   \n",
       "2                             4                         2              4   \n",
       "3                             2                         3              4   \n",
       "4                             4                         1              4   \n",
       "...                         ...                       ...            ...   \n",
       "8453                          5                         1              2   \n",
       "8454                          1                         1              4   \n",
       "8455                          4                         5              4   \n",
       "8456                          2                         1              3   \n",
       "8457                          5                         4              4   \n",
       "\n",
       "      cleanliness  satisfaction  \n",
       "0               5             0  \n",
       "1               1             0  \n",
       "2               2             1  \n",
       "3               2             0  \n",
       "4               4             1  \n",
       "...           ...           ...  \n",
       "8453            5             0  \n",
       "8454            1             0  \n",
       "8455            5             1  \n",
       "8456            2             0  \n",
       "8457            5             1  \n",
       "\n",
       "[8458 rows x 17 columns]"
      ]
     },
     "execution_count": 11,
     "metadata": {},
     "output_type": "execute_result"
    }
   ],
   "source": [
    "sample_df=ehs_df_normalize[~ehs_df_normalize['type_of_booking'].isna()]\n",
    "sample_df=sample_df.sample(frac=0.01, random_state=30).reset_index(drop=True)\n",
    "sample_df1=pd.concat((sample_df_isnan,sample_df),axis=0).reset_index(drop=True)\n",
    "sample_df1"
   ]
  },
  {
   "cell_type": "markdown",
   "metadata": {},
   "source": [
    "Tiến hành tính toán độ tương tự lớn nhất và dự đoán giá trị bị thiếu"
   ]
  },
  {
   "cell_type": "code",
   "execution_count": 12,
   "metadata": {
    "scrolled": true
   },
   "outputs": [
    {
     "data": {
      "text/plain": [
       "array([[ 1., 13.,  2., ...,  5.,  5.,  0.],\n",
       "       [ 2., 12.,  5., ...,  5.,  1.,  0.],\n",
       "       [ 2., 49.,  3., ...,  4.,  2.,  1.],\n",
       "       ...,\n",
       "       [ 2., 53.,  3., ...,  4.,  5.,  1.],\n",
       "       [ 1., 30.,  4., ...,  3.,  2.,  0.],\n",
       "       [ 2., 23.,  4., ...,  4.,  5.,  1.]])"
      ]
     },
     "execution_count": 12,
     "metadata": {},
     "output_type": "execute_result"
    }
   ],
   "source": [
    "# Đưa dữ liệu của dataframe về numpy array để bắt đầu xử lý tính độ tương tự lớn nhất\n",
    "ratings=sample_df1.drop('id',axis=1)\n",
    "ratings['type_of_booking']=pd.to_numeric(ratings['type_of_booking'])\n",
    "ratings=ratings.astype('float64')\n",
    "ratings=np.array(ratings.iloc[:,:])\n",
    "ratings"
   ]
  },
  {
   "cell_type": "code",
   "execution_count": 13,
   "metadata": {},
   "outputs": [],
   "source": [
    "# Tiến hành tính giá trị cần điền bằng độ tương tự lớn nhất\n",
    "batch_size = 32\n",
    "filled_ratings = np.empty_like(ratings)\n",
    "start = 0\n",
    "end = batch_size\n",
    "new_ratings=np.tile(ratings,(batch_size,1))\n",
    "while(1):\n",
    "    if (start>=len(ratings)):\n",
    "        break\n",
    "    r=ratings[start:end,:]\n",
    "    if batch_size != 32:\n",
    "        new_ratings=np.tile(ratings,(batch_size,1))\n",
    "    r= np.repeat(r, repeats=len(ratings), axis=0)\n",
    "    a=np.abs(new_ratings[:,:] -r)\n",
    "    #Tao similarities\n",
    "    similarities=np.zeros((batch_size,len(ratings)))\n",
    "    startRow=0\n",
    "    for ind in range(batch_size):\n",
    "        similarities[ind]=(1/(np.nanmean(a[startRow:startRow+len(ratings)],axis=1)+0.001))\n",
    "        startRow+=len(ratings)\n",
    "    similarities=np.nan_to_num(similarities,nan=0) \n",
    "    weights=np.zeros((batch_size,len(ratings),ratings.shape[1]))\n",
    "    for ind in range(batch_size):\n",
    "        normalize_w=~np.isnan(ratings)*similarities[ind].reshape(-1,1)\n",
    "        weights[ind]=normalize_w/normalize_w.sum(axis=0)\n",
    "    filled_ratingsBatch=np.nansum(ratings*weights,axis=1)\n",
    "    filled_ratings[start:end]=filled_ratingsBatch\n",
    "    start=end\n",
    "    end=start+batch_size\n",
    "    if(end>len(ratings)):\n",
    "        end=len(ratings)\n",
    "        batch_size=end-start"
   ]
  },
  {
   "cell_type": "markdown",
   "metadata": {},
   "source": [
    "Điền giá trị thiếu vào mẫu đã trích ra tất cả dòng thiếu NaN, sau đó nối vào dataframe không có giá trị NaN."
   ]
  },
  {
   "cell_type": "code",
   "execution_count": 14,
   "metadata": {},
   "outputs": [
    {
     "name": "stderr",
     "output_type": "stream",
     "text": [
      "F:\\miniconda3\\envs\\min_ds-env\\lib\\site-packages\\pandas\\core\\indexing.py:1676: SettingWithCopyWarning: \n",
      "A value is trying to be set on a copy of a slice from a DataFrame.\n",
      "Try using .loc[row_indexer,col_indexer] = value instead\n",
      "\n",
      "See the caveats in the documentation: https://pandas.pydata.org/pandas-docs/stable/user_guide/indexing.html#returning-a-view-versus-a-copy\n",
      "  self._setitem_single_column(ilocs[0], value, pi)\n",
      "F:\\miniconda3\\envs\\min_ds-env\\lib\\site-packages\\pandas\\core\\indexing.py:1720: SettingWithCopyWarning: \n",
      "A value is trying to be set on a copy of a slice from a DataFrame.\n",
      "Try using .loc[row_indexer,col_indexer] = value instead\n",
      "\n",
      "See the caveats in the documentation: https://pandas.pydata.org/pandas-docs/stable/user_guide/indexing.html#returning-a-view-versus-a-copy\n",
      "  self._setitem_single_column(loc, value, pi)\n"
     ]
    },
    {
     "data": {
      "text/html": [
       "<div>\n",
       "<style scoped>\n",
       "    .dataframe tbody tr th:only-of-type {\n",
       "        vertical-align: middle;\n",
       "    }\n",
       "\n",
       "    .dataframe tbody tr th {\n",
       "        vertical-align: top;\n",
       "    }\n",
       "\n",
       "    .dataframe thead th {\n",
       "        text-align: right;\n",
       "    }\n",
       "</style>\n",
       "<table border=\"1\" class=\"dataframe\">\n",
       "  <thead>\n",
       "    <tr style=\"text-align: right;\">\n",
       "      <th></th>\n",
       "      <th>id</th>\n",
       "      <th>gender</th>\n",
       "      <th>age</th>\n",
       "      <th>purpose_of_travel</th>\n",
       "      <th>type_of_travel</th>\n",
       "      <th>type_of_booking</th>\n",
       "      <th>hotel_wifi_service</th>\n",
       "      <th>departure_arrival_convenience</th>\n",
       "      <th>ease_of_online_booking</th>\n",
       "      <th>hotel_location</th>\n",
       "      <th>food_and_drink</th>\n",
       "      <th>stay_comfort</th>\n",
       "      <th>common_room_entertainment</th>\n",
       "      <th>checkin_checkout_service</th>\n",
       "      <th>other_service</th>\n",
       "      <th>cleanliness</th>\n",
       "      <th>satisfaction</th>\n",
       "    </tr>\n",
       "  </thead>\n",
       "  <tbody>\n",
       "    <tr>\n",
       "      <th>0</th>\n",
       "      <td>6876</td>\n",
       "      <td>Male</td>\n",
       "      <td>54</td>\n",
       "      <td>aviation</td>\n",
       "      <td>Group Travel</td>\n",
       "      <td>Group bookings</td>\n",
       "      <td>5</td>\n",
       "      <td>5</td>\n",
       "      <td>5</td>\n",
       "      <td>5</td>\n",
       "      <td>5</td>\n",
       "      <td>5</td>\n",
       "      <td>4</td>\n",
       "      <td>5</td>\n",
       "      <td>4</td>\n",
       "      <td>5</td>\n",
       "      <td>satisfied</td>\n",
       "    </tr>\n",
       "    <tr>\n",
       "      <th>1</th>\n",
       "      <td>12539</td>\n",
       "      <td>Female</td>\n",
       "      <td>38</td>\n",
       "      <td>business</td>\n",
       "      <td>Group Travel</td>\n",
       "      <td>Individual/Couple</td>\n",
       "      <td>1</td>\n",
       "      <td>1</td>\n",
       "      <td>1</td>\n",
       "      <td>4</td>\n",
       "      <td>3</td>\n",
       "      <td>3</td>\n",
       "      <td>3</td>\n",
       "      <td>4</td>\n",
       "      <td>4</td>\n",
       "      <td>3</td>\n",
       "      <td>neutral or dissatisfied</td>\n",
       "    </tr>\n",
       "    <tr>\n",
       "      <th>2</th>\n",
       "      <td>113491</td>\n",
       "      <td>Male</td>\n",
       "      <td>51</td>\n",
       "      <td>aviation</td>\n",
       "      <td>Group Travel</td>\n",
       "      <td>Group bookings</td>\n",
       "      <td>5</td>\n",
       "      <td>5</td>\n",
       "      <td>5</td>\n",
       "      <td>5</td>\n",
       "      <td>5</td>\n",
       "      <td>5</td>\n",
       "      <td>4</td>\n",
       "      <td>3</td>\n",
       "      <td>4</td>\n",
       "      <td>5</td>\n",
       "      <td>satisfied</td>\n",
       "    </tr>\n",
       "    <tr>\n",
       "      <th>3</th>\n",
       "      <td>121799</td>\n",
       "      <td>Female</td>\n",
       "      <td>50</td>\n",
       "      <td>tourism</td>\n",
       "      <td>Group Travel</td>\n",
       "      <td>Group bookings</td>\n",
       "      <td>3</td>\n",
       "      <td>4</td>\n",
       "      <td>3</td>\n",
       "      <td>3</td>\n",
       "      <td>4</td>\n",
       "      <td>4</td>\n",
       "      <td>5</td>\n",
       "      <td>3</td>\n",
       "      <td>5</td>\n",
       "      <td>5</td>\n",
       "      <td>satisfied</td>\n",
       "    </tr>\n",
       "    <tr>\n",
       "      <th>4</th>\n",
       "      <td>40429</td>\n",
       "      <td>Male</td>\n",
       "      <td>28</td>\n",
       "      <td>tourism</td>\n",
       "      <td>Group Travel</td>\n",
       "      <td>Group bookings</td>\n",
       "      <td>1</td>\n",
       "      <td>1</td>\n",
       "      <td>1</td>\n",
       "      <td>1</td>\n",
       "      <td>5</td>\n",
       "      <td>4</td>\n",
       "      <td>5</td>\n",
       "      <td>5</td>\n",
       "      <td>2</td>\n",
       "      <td>5</td>\n",
       "      <td>satisfied</td>\n",
       "    </tr>\n",
       "    <tr>\n",
       "      <th>...</th>\n",
       "      <td>...</td>\n",
       "      <td>...</td>\n",
       "      <td>...</td>\n",
       "      <td>...</td>\n",
       "      <td>...</td>\n",
       "      <td>...</td>\n",
       "      <td>...</td>\n",
       "      <td>...</td>\n",
       "      <td>...</td>\n",
       "      <td>...</td>\n",
       "      <td>...</td>\n",
       "      <td>...</td>\n",
       "      <td>...</td>\n",
       "      <td>...</td>\n",
       "      <td>...</td>\n",
       "      <td>...</td>\n",
       "      <td>...</td>\n",
       "    </tr>\n",
       "    <tr>\n",
       "      <th>103899</th>\n",
       "      <td>99345</td>\n",
       "      <td>Female</td>\n",
       "      <td>26</td>\n",
       "      <td>tourism</td>\n",
       "      <td>Group Travel</td>\n",
       "      <td>Group bookings</td>\n",
       "      <td>4</td>\n",
       "      <td>2</td>\n",
       "      <td>5</td>\n",
       "      <td>2</td>\n",
       "      <td>4</td>\n",
       "      <td>4</td>\n",
       "      <td>4</td>\n",
       "      <td>4</td>\n",
       "      <td>3</td>\n",
       "      <td>4</td>\n",
       "      <td>neutral or dissatisfied</td>\n",
       "    </tr>\n",
       "    <tr>\n",
       "      <th>103900</th>\n",
       "      <td>93551</td>\n",
       "      <td>Female</td>\n",
       "      <td>40</td>\n",
       "      <td>academic</td>\n",
       "      <td>Group Travel</td>\n",
       "      <td>Group bookings</td>\n",
       "      <td>1</td>\n",
       "      <td>1</td>\n",
       "      <td>1</td>\n",
       "      <td>1</td>\n",
       "      <td>4</td>\n",
       "      <td>5</td>\n",
       "      <td>5</td>\n",
       "      <td>3</td>\n",
       "      <td>5</td>\n",
       "      <td>5</td>\n",
       "      <td>satisfied</td>\n",
       "    </tr>\n",
       "    <tr>\n",
       "      <th>103901</th>\n",
       "      <td>77673</td>\n",
       "      <td>Male</td>\n",
       "      <td>28</td>\n",
       "      <td>academic</td>\n",
       "      <td>Group Travel</td>\n",
       "      <td>Group bookings</td>\n",
       "      <td>3</td>\n",
       "      <td>3</td>\n",
       "      <td>3</td>\n",
       "      <td>3</td>\n",
       "      <td>2</td>\n",
       "      <td>3</td>\n",
       "      <td>2</td>\n",
       "      <td>4</td>\n",
       "      <td>4</td>\n",
       "      <td>2</td>\n",
       "      <td>neutral or dissatisfied</td>\n",
       "    </tr>\n",
       "    <tr>\n",
       "      <th>103902</th>\n",
       "      <td>89983</td>\n",
       "      <td>Female</td>\n",
       "      <td>38</td>\n",
       "      <td>business</td>\n",
       "      <td>Group Travel</td>\n",
       "      <td>Group bookings</td>\n",
       "      <td>1</td>\n",
       "      <td>1</td>\n",
       "      <td>1</td>\n",
       "      <td>1</td>\n",
       "      <td>1</td>\n",
       "      <td>1</td>\n",
       "      <td>1</td>\n",
       "      <td>2</td>\n",
       "      <td>3</td>\n",
       "      <td>1</td>\n",
       "      <td>neutral or dissatisfied</td>\n",
       "    </tr>\n",
       "    <tr>\n",
       "      <th>103903</th>\n",
       "      <td>92910</td>\n",
       "      <td>Female</td>\n",
       "      <td>46</td>\n",
       "      <td>business</td>\n",
       "      <td>Group Travel</td>\n",
       "      <td>Group bookings</td>\n",
       "      <td>0</td>\n",
       "      <td>4</td>\n",
       "      <td>0</td>\n",
       "      <td>2</td>\n",
       "      <td>5</td>\n",
       "      <td>4</td>\n",
       "      <td>5</td>\n",
       "      <td>5</td>\n",
       "      <td>5</td>\n",
       "      <td>5</td>\n",
       "      <td>satisfied</td>\n",
       "    </tr>\n",
       "  </tbody>\n",
       "</table>\n",
       "<p>103904 rows × 17 columns</p>\n",
       "</div>"
      ],
      "text/plain": [
       "            id  gender  age purpose_of_travel type_of_travel  \\\n",
       "0         6876    Male   54          aviation   Group Travel   \n",
       "1        12539  Female   38          business   Group Travel   \n",
       "2       113491    Male   51          aviation   Group Travel   \n",
       "3       121799  Female   50           tourism   Group Travel   \n",
       "4        40429    Male   28           tourism   Group Travel   \n",
       "...        ...     ...  ...               ...            ...   \n",
       "103899   99345  Female   26           tourism   Group Travel   \n",
       "103900   93551  Female   40          academic   Group Travel   \n",
       "103901   77673    Male   28          academic   Group Travel   \n",
       "103902   89983  Female   38          business   Group Travel   \n",
       "103903   92910  Female   46          business   Group Travel   \n",
       "\n",
       "          type_of_booking  hotel_wifi_service  departure_arrival_convenience  \\\n",
       "0          Group bookings                   5                              5   \n",
       "1       Individual/Couple                   1                              1   \n",
       "2          Group bookings                   5                              5   \n",
       "3          Group bookings                   3                              4   \n",
       "4          Group bookings                   1                              1   \n",
       "...                   ...                 ...                            ...   \n",
       "103899     Group bookings                   4                              2   \n",
       "103900     Group bookings                   1                              1   \n",
       "103901     Group bookings                   3                              3   \n",
       "103902     Group bookings                   1                              1   \n",
       "103903     Group bookings                   0                              4   \n",
       "\n",
       "        ease_of_online_booking  hotel_location  food_and_drink  stay_comfort  \\\n",
       "0                            5               5               5             5   \n",
       "1                            1               4               3             3   \n",
       "2                            5               5               5             5   \n",
       "3                            3               3               4             4   \n",
       "4                            1               1               5             4   \n",
       "...                        ...             ...             ...           ...   \n",
       "103899                       5               2               4             4   \n",
       "103900                       1               1               4             5   \n",
       "103901                       3               3               2             3   \n",
       "103902                       1               1               1             1   \n",
       "103903                       0               2               5             4   \n",
       "\n",
       "        common_room_entertainment  checkin_checkout_service  other_service  \\\n",
       "0                               4                         5              4   \n",
       "1                               3                         4              4   \n",
       "2                               4                         3              4   \n",
       "3                               5                         3              5   \n",
       "4                               5                         5              2   \n",
       "...                           ...                       ...            ...   \n",
       "103899                          4                         4              3   \n",
       "103900                          5                         3              5   \n",
       "103901                          2                         4              4   \n",
       "103902                          1                         2              3   \n",
       "103903                          5                         5              5   \n",
       "\n",
       "        cleanliness             satisfaction  \n",
       "0                 5                satisfied  \n",
       "1                 3  neutral or dissatisfied  \n",
       "2                 5                satisfied  \n",
       "3                 5                satisfied  \n",
       "4                 5                satisfied  \n",
       "...             ...                      ...  \n",
       "103899            4  neutral or dissatisfied  \n",
       "103900            5                satisfied  \n",
       "103901            2  neutral or dissatisfied  \n",
       "103902            1  neutral or dissatisfied  \n",
       "103903            5                satisfied  \n",
       "\n",
       "[103904 rows x 17 columns]"
      ]
     },
     "execution_count": 14,
     "metadata": {},
     "output_type": "execute_result"
    }
   ],
   "source": [
    "filled_nanvals = filled_ratings[np.isnan(ratings)].round(0)\n",
    "#Điền giá trị bị thiếu\n",
    "sample_df_isnan=ehs_df[ehs_df['type_of_booking'].isna()]\n",
    "sample_df_isnan.loc[:,'type_of_booking']=filled_nanvals\n",
    "#Chuyển về lại dạng categorical\n",
    "sample_df_isnan.loc[sample_df_isnan['type_of_booking'] == 1, 'type_of_booking'] ='Individual/Couple' \n",
    "sample_df_isnan.loc[sample_df_isnan['type_of_booking'] == 2, 'type_of_booking'] ='Group bookings' \n",
    "#Tiến hành nối dataframe không chứa giá trị NaN và dataframe với giá trị NaN đã xử lí\n",
    "ehs_df=ehs_df[~ehs_df['type_of_booking'].isna()]\n",
    "ehs_df=pd.concat((sample_df_isnan,ehs_df),ignore_index=True,axis=0)\n",
    "ehs_df=ehs_df.sample(frac=1, random_state=42).reset_index(drop=True)\n",
    "ehs_df"
   ]
  },
  {
   "cell_type": "code",
   "execution_count": 15,
   "metadata": {},
   "outputs": [
    {
     "data": {
      "text/html": [
       "<div>\n",
       "<style scoped>\n",
       "    .dataframe tbody tr th:only-of-type {\n",
       "        vertical-align: middle;\n",
       "    }\n",
       "\n",
       "    .dataframe tbody tr th {\n",
       "        vertical-align: top;\n",
       "    }\n",
       "\n",
       "    .dataframe thead th {\n",
       "        text-align: right;\n",
       "    }\n",
       "</style>\n",
       "<table border=\"1\" class=\"dataframe\">\n",
       "  <thead>\n",
       "    <tr style=\"text-align: right;\">\n",
       "      <th></th>\n",
       "      <th>id</th>\n",
       "      <th>gender</th>\n",
       "      <th>age</th>\n",
       "      <th>purpose_of_travel</th>\n",
       "      <th>type_of_travel</th>\n",
       "      <th>type_of_booking</th>\n",
       "      <th>hotel_wifi_service</th>\n",
       "      <th>departure_arrival_convenience</th>\n",
       "      <th>ease_of_online_booking</th>\n",
       "      <th>hotel_location</th>\n",
       "      <th>food_and_drink</th>\n",
       "      <th>stay_comfort</th>\n",
       "      <th>common_room_entertainment</th>\n",
       "      <th>checkin_checkout_service</th>\n",
       "      <th>other_service</th>\n",
       "      <th>cleanliness</th>\n",
       "      <th>satisfaction</th>\n",
       "    </tr>\n",
       "  </thead>\n",
       "  <tbody>\n",
       "  </tbody>\n",
       "</table>\n",
       "</div>"
      ],
      "text/plain": [
       "Empty DataFrame\n",
       "Columns: [id, gender, age, purpose_of_travel, type_of_travel, type_of_booking, hotel_wifi_service, departure_arrival_convenience, ease_of_online_booking, hotel_location, food_and_drink, stay_comfort, common_room_entertainment, checkin_checkout_service, other_service, cleanliness, satisfaction]\n",
       "Index: []"
      ]
     },
     "execution_count": 15,
     "metadata": {},
     "output_type": "execute_result"
    }
   ],
   "source": [
    "# Kiểm tra còn dòng NaN không\n",
    "ehs_df[ehs_df['type_of_booking'].isna()]"
   ]
  },
  {
   "cell_type": "markdown",
   "metadata": {},
   "source": [
    "Dữ liệu đã được điền đầy đủ."
   ]
  },
  {
   "cell_type": "markdown",
   "metadata": {},
   "source": [
    "---"
   ]
  },
  {
   "cell_type": "markdown",
   "metadata": {},
   "source": [
    "## Khám phá dữ liệu (tiếp tục)"
   ]
  },
  {
   "cell_type": "markdown",
   "metadata": {},
   "source": [
    "### Với mỗi cột có kiểu dữ liệu dạng numeric, các giá trị được phân bố như thế nào?"
   ]
  },
  {
   "cell_type": "markdown",
   "metadata": {},
   "source": [
    "Sau khi thực hiện bước tiền xử lý phía trên thì ta xếp 11 cột sau vào nhóm numeric: \"age\", \"hotel_wifi_service\", \"departure_arrival_convenience\", \"ease_of_online_booking\", \"hotel_location\", \"food_and_drink\", \"stay_comfort\", \"common_room_entertainment\", \"checkin_checkout_service\", \"other_service\", \"cleanliness\".\n",
    "\n",
    "Các cột còn lại mặc dù có kiểu số nhưng thật ra có dạng categorical (vì là mã được đánh dưới dạng số). Như vậy, chỉ có 11 cột numeric và các cột ngoại trừ \"age\" đều là thang điểm từ 0-5.\n",
    "\n",
    "Với mỗi cột numeric ta sẽ tính tỉ lệ % giá trị thiếu (từ 0 đến 100), min, max và lưu kết quả vào dataframe nume_col_profiles_df. Dataframe này có 4 dòng là \"missing_ratio\", \"min\", \"mean\", \"max\"; và có 11 cột có tên được nêu ở trên."
   ]
  },
  {
   "cell_type": "code",
   "execution_count": 16,
   "metadata": {
    "scrolled": true
   },
   "outputs": [
    {
     "data": {
      "text/html": [
       "<div>\n",
       "<style scoped>\n",
       "    .dataframe tbody tr th:only-of-type {\n",
       "        vertical-align: middle;\n",
       "    }\n",
       "\n",
       "    .dataframe tbody tr th {\n",
       "        vertical-align: top;\n",
       "    }\n",
       "\n",
       "    .dataframe thead th {\n",
       "        text-align: right;\n",
       "    }\n",
       "</style>\n",
       "<table border=\"1\" class=\"dataframe\">\n",
       "  <thead>\n",
       "    <tr style=\"text-align: right;\">\n",
       "      <th></th>\n",
       "      <th>age</th>\n",
       "      <th>hotel_wifi_service</th>\n",
       "      <th>departure_arrival_convenience</th>\n",
       "      <th>ease_of_online_booking</th>\n",
       "      <th>hotel_location</th>\n",
       "      <th>food_and_drink</th>\n",
       "      <th>stay_comfort</th>\n",
       "      <th>common_room_entertainment</th>\n",
       "      <th>checkin_checkout_service</th>\n",
       "      <th>other_service</th>\n",
       "      <th>cleanliness</th>\n",
       "    </tr>\n",
       "  </thead>\n",
       "  <tbody>\n",
       "    <tr>\n",
       "      <th>missing_ratio</th>\n",
       "      <td>0.000000</td>\n",
       "      <td>0.000000</td>\n",
       "      <td>0.000000</td>\n",
       "      <td>0.000000</td>\n",
       "      <td>0.000000</td>\n",
       "      <td>0.000000</td>\n",
       "      <td>0.000000</td>\n",
       "      <td>0.000000</td>\n",
       "      <td>0.00000</td>\n",
       "      <td>0.000000</td>\n",
       "      <td>0.000000</td>\n",
       "    </tr>\n",
       "    <tr>\n",
       "      <th>min</th>\n",
       "      <td>7.000000</td>\n",
       "      <td>0.000000</td>\n",
       "      <td>0.000000</td>\n",
       "      <td>0.000000</td>\n",
       "      <td>0.000000</td>\n",
       "      <td>0.000000</td>\n",
       "      <td>0.000000</td>\n",
       "      <td>0.000000</td>\n",
       "      <td>0.00000</td>\n",
       "      <td>0.000000</td>\n",
       "      <td>0.000000</td>\n",
       "    </tr>\n",
       "    <tr>\n",
       "      <th>mean</th>\n",
       "      <td>39.379706</td>\n",
       "      <td>2.729683</td>\n",
       "      <td>3.060296</td>\n",
       "      <td>2.756901</td>\n",
       "      <td>2.976883</td>\n",
       "      <td>3.202129</td>\n",
       "      <td>3.439396</td>\n",
       "      <td>3.358158</td>\n",
       "      <td>3.30429</td>\n",
       "      <td>3.640428</td>\n",
       "      <td>3.286351</td>\n",
       "    </tr>\n",
       "    <tr>\n",
       "      <th>max</th>\n",
       "      <td>85.000000</td>\n",
       "      <td>5.000000</td>\n",
       "      <td>5.000000</td>\n",
       "      <td>5.000000</td>\n",
       "      <td>5.000000</td>\n",
       "      <td>5.000000</td>\n",
       "      <td>5.000000</td>\n",
       "      <td>5.000000</td>\n",
       "      <td>5.00000</td>\n",
       "      <td>5.000000</td>\n",
       "      <td>5.000000</td>\n",
       "    </tr>\n",
       "  </tbody>\n",
       "</table>\n",
       "</div>"
      ],
      "text/plain": [
       "                     age  hotel_wifi_service  departure_arrival_convenience  \\\n",
       "missing_ratio   0.000000            0.000000                       0.000000   \n",
       "min             7.000000            0.000000                       0.000000   \n",
       "mean           39.379706            2.729683                       3.060296   \n",
       "max            85.000000            5.000000                       5.000000   \n",
       "\n",
       "               ease_of_online_booking  hotel_location  food_and_drink  \\\n",
       "missing_ratio                0.000000        0.000000        0.000000   \n",
       "min                          0.000000        0.000000        0.000000   \n",
       "mean                         2.756901        2.976883        3.202129   \n",
       "max                          5.000000        5.000000        5.000000   \n",
       "\n",
       "               stay_comfort  common_room_entertainment  \\\n",
       "missing_ratio      0.000000                   0.000000   \n",
       "min                0.000000                   0.000000   \n",
       "mean               3.439396                   3.358158   \n",
       "max                5.000000                   5.000000   \n",
       "\n",
       "               checkin_checkout_service  other_service  cleanliness  \n",
       "missing_ratio                   0.00000       0.000000     0.000000  \n",
       "min                             0.00000       0.000000     0.000000  \n",
       "mean                            3.30429       3.640428     3.286351  \n",
       "max                             5.00000       5.000000     5.000000  "
      ]
     },
     "execution_count": 16,
     "metadata": {},
     "output_type": "execute_result"
    }
   ],
   "source": [
    "def missing_ratio(s):\n",
    "    return s.isna().mean() * 100\n",
    "\n",
    "cate_col_name = [\"id\", \"gender\", \"purpose_of_travel\", \"type_of_travel\", \"type_of_booking\", \"satisfaction\"]\n",
    "nume_col_idx = ehs_df.columns.drop(cate_col_name)\n",
    "nume_col_df = ehs_df[nume_col_idx]\n",
    "nume_col_profiles_df = nume_col_df.agg([missing_ratio, pd.Series.min,pd.Series.mean, pd.Series.max])\n",
    "\n",
    "nume_col_profiles_df"
   ]
  },
  {
   "cell_type": "markdown",
   "metadata": {},
   "source": [
    "**Nhận xét các dữ liệu số:**\n",
    "- Độ tuổi trung bình của người thực hiện khảo sát là 39 tuổi, nhỏ nhất là 7 tuổi, lớn nhất là 85 tuổi \n",
    "- Các chỉ số đánh giá mức độ hài lòng từ 0 đến 5\n",
    "- Các giá trị trung bình của chỉ số đánh giá nằm từ 2 đến 3, nhìn chung cũng khá cân bằng"
   ]
  },
  {
   "cell_type": "markdown",
   "metadata": {},
   "source": [
    "Ta sẽ xem rõ hơn về sự phân bố của các giá trị trong mỗi cột có kiểu là numeric bằng hàm plot_hist_cols với hai tham số truyền vào là dataframe và số cột."
   ]
  },
  {
   "cell_type": "code",
   "execution_count": 17,
   "metadata": {},
   "outputs": [],
   "source": [
    "def plot_hist_cols(df, num_graph_per_row):\n",
    "    n_rows, n_cols = df.shape\n",
    "    col_names = list(df.columns)\n",
    "    n_rows_graph = (n_cols + num_graph_per_row - 1) / num_graph_per_row\n",
    "    \n",
    "    plt.figure(\n",
    "        figsize = (6 * num_graph_per_row,  6 * n_rows_graph),\n",
    "        dpi = 80,\n",
    "    )\n",
    "    \n",
    "    for i in range(n_cols):\n",
    "        plt.subplot(int(n_rows_graph), num_graph_per_row, i + 1)\n",
    "        col_i = df.iloc[:, i]\n",
    "        \n",
    "        if (not np.issubdtype(type(col_i.iloc[0]), np.number)):\n",
    "            val_counts = col_i.value_counts()\n",
    "            plt.xticks(rotation = 90)\n",
    "            val_counts.plot.bar()\n",
    "        else:\n",
    "            nunique_col_i = col_i.nunique()\n",
    "            bins = nunique_col_i if (nunique_col_i < 10) else 10\n",
    "            col_i.hist(bins=bins)\n",
    "        \n",
    "        plt.ylabel('counts')\n",
    "        plt.title(f'{col_names[i]}')\n",
    "        \n",
    "    plt.tight_layout(pad=0.4, w_pad=0.5, h_pad=1.0)\n",
    "    plt.show()"
   ]
  },
  {
   "cell_type": "code",
   "execution_count": 18,
   "metadata": {
    "scrolled": false
   },
   "outputs": [
    {
     "data": {
      "image/png": "[encoded data removed]",
      "text/plain": [
       "<Figure size 1920x1680 with 11 Axes>"
      ]
     },
     "metadata": {
      "needs_background": "light"
     },
     "output_type": "display_data"
    }
   ],
   "source": [
    "plot_hist_cols(nume_col_df, 4)"
   ]
  },
  {
   "cell_type": "markdown",
   "metadata": {},
   "source": [
    "**Nhận xét:**\n",
    "- Gender: có 2 loại nam, nữ\n",
    "- Purpose_of_travel: có 5 giá trị aviation(hàng không), tourism(theo tour), business(công việc), academic(trường học), personal(cá nhân)\n",
    "- Type of travel: Personal Travel(cá nhân), Group Travel(theo nhóm)\n",
    "- Type of booking: Not defined(không xác định), Group bookings(theo nhóm), Individual/Couple(cá nhân/ cặp đôi)\n",
    "- Satisfaction: neutral or dissatisfied(bình thường hoặc không hài lòng), satisfied(hài lòng)"
   ]
  },
  {
   "cell_type": "markdown",
   "metadata": {},
   "source": [
    "### Với mỗi cột có kiểu dữ liệu dạng categorical, các giá trị được phân bố như thế nào?"
   ]
  },
  {
   "cell_type": "markdown",
   "metadata": {},
   "source": [
    "`ehs_df` có 5 cột categorical là \"id\", \"gender\", \"purpose_of_travel\", \"type_of_travel\", \"type_of_booking\".\n",
    "\n",
    "Với mỗi cột categorical, ta tính tỉ lệ % giá trị thiếu (từ 0 đến 100), số lượng giá trị khác nhau (không xét giá trị thiếu), list/array các giá trị khác nhau (không xét giá trị thiếu), và lưu kết quả vào dataframe cate_col_profiles_df. Dataframe này có 3 dòng là \"missing_ratio\", \"num_diff_vals\", \"diff_vals\"; và có 5 cột là \"id\", \"gender\", \"purpose_of_travel\", \"type_of_travel\", \"type_of_booking\"."
   ]
  },
  {
   "cell_type": "code",
   "execution_count": 19,
   "metadata": {},
   "outputs": [
    {
     "data": {
      "text/html": [
       "<div>\n",
       "<style scoped>\n",
       "    .dataframe tbody tr th:only-of-type {\n",
       "        vertical-align: middle;\n",
       "    }\n",
       "\n",
       "    .dataframe tbody tr th {\n",
       "        vertical-align: top;\n",
       "    }\n",
       "\n",
       "    .dataframe thead th {\n",
       "        text-align: right;\n",
       "    }\n",
       "</style>\n",
       "<table border=\"1\" class=\"dataframe\">\n",
       "  <thead>\n",
       "    <tr style=\"text-align: right;\">\n",
       "      <th></th>\n",
       "      <th>id</th>\n",
       "      <th>gender</th>\n",
       "      <th>purpose_of_travel</th>\n",
       "      <th>type_of_travel</th>\n",
       "      <th>type_of_booking</th>\n",
       "      <th>satisfaction</th>\n",
       "    </tr>\n",
       "  </thead>\n",
       "  <tbody>\n",
       "    <tr>\n",
       "      <th>missing_ratio</th>\n",
       "      <td>0.0</td>\n",
       "      <td>0.0</td>\n",
       "      <td>0.0</td>\n",
       "      <td>0.0</td>\n",
       "      <td>0.0</td>\n",
       "      <td>0.0</td>\n",
       "    </tr>\n",
       "    <tr>\n",
       "      <th>num_diff_vals</th>\n",
       "      <td>103904</td>\n",
       "      <td>2</td>\n",
       "      <td>5</td>\n",
       "      <td>2</td>\n",
       "      <td>2</td>\n",
       "      <td>2</td>\n",
       "    </tr>\n",
       "    <tr>\n",
       "      <th>diff_vals</th>\n",
       "      <td>[6876, 12539, 113491, 121799, 40429, 81037, 35...</td>\n",
       "      <td>[Male, Female]</td>\n",
       "      <td>[aviation, business, tourism, academic, personal]</td>\n",
       "      <td>[Group Travel, Personal Travel]</td>\n",
       "      <td>[Group bookings, Individual/Couple]</td>\n",
       "      <td>[satisfied, neutral or dissatisfied]</td>\n",
       "    </tr>\n",
       "  </tbody>\n",
       "</table>\n",
       "</div>"
      ],
      "text/plain": [
       "                                                              id  \\\n",
       "missing_ratio                                                0.0   \n",
       "num_diff_vals                                             103904   \n",
       "diff_vals      [6876, 12539, 113491, 121799, 40429, 81037, 35...   \n",
       "\n",
       "                       gender  \\\n",
       "missing_ratio             0.0   \n",
       "num_diff_vals               2   \n",
       "diff_vals      [Male, Female]   \n",
       "\n",
       "                                               purpose_of_travel  \\\n",
       "missing_ratio                                                0.0   \n",
       "num_diff_vals                                                  5   \n",
       "diff_vals      [aviation, business, tourism, academic, personal]   \n",
       "\n",
       "                                type_of_travel  \\\n",
       "missing_ratio                              0.0   \n",
       "num_diff_vals                                2   \n",
       "diff_vals      [Group Travel, Personal Travel]   \n",
       "\n",
       "                                   type_of_booking  \\\n",
       "missing_ratio                                  0.0   \n",
       "num_diff_vals                                    2   \n",
       "diff_vals      [Group bookings, Individual/Couple]   \n",
       "\n",
       "                                       satisfaction  \n",
       "missing_ratio                                   0.0  \n",
       "num_diff_vals                                     2  \n",
       "diff_vals      [satisfied, neutral or dissatisfied]  "
      ]
     },
     "execution_count": 19,
     "metadata": {},
     "output_type": "execute_result"
    }
   ],
   "source": [
    "cate_col_df = ehs_df[cate_col_name]\n",
    "\n",
    "cate_col_profiles_df = cate_col_df.agg([missing_ratio, pd.Series.nunique, pd.Series.unique])\n",
    "\n",
    "cate_col_profiles_df.rename(\n",
    "    index={'nunique': 'num_diff_vals', 'unique': \"diff_vals\"},\n",
    "    inplace=True\n",
    ")\n",
    "\n",
    "cate_col_profiles_df"
   ]
  },
  {
   "cell_type": "markdown",
   "metadata": {},
   "source": [
    "Ta sẽ xem rõ hơn về sự phân bố của các giá trị trong mỗi cột có kiểu là categorical"
   ]
  },
  {
   "cell_type": "code",
   "execution_count": 20,
   "metadata": {},
   "outputs": [
    {
     "data": {
      "image/png": "[encoded data removed]",
      "text/plain": [
       "<Figure size 1440x1280 with 6 Axes>"
      ]
     },
     "metadata": {
      "needs_background": "light"
     },
     "output_type": "display_data"
    }
   ],
   "source": [
    "plot_hist_cols(cate_col_df, 3)"
   ]
  },
  {
   "cell_type": "markdown",
   "metadata": {},
   "source": [
    "---"
   ]
  },
  {
   "cell_type": "markdown",
   "metadata": {},
   "source": [
    "# 5. Đưa ra các câu hỏi cần trả lời"
   ]
  },
  {
   "cell_type": "markdown",
   "metadata": {},
   "source": [
    "#### Câu 1: Mục đích chuyến đi có sự đánh giá độ hài lòng khác nhau như thế nào?\n",
    "Trả lời được câu hỏi này sẽ cho ta biết được các tiêu chí trong mục đích chuyến đi để chuẩn bị tốt hơn cho các hợp đồng của công ty với khách sạn sau này.\n",
    "\n",
    "#### Câu 2: Các yếu tố ảnh hưởng đến sự hài lòng giữa nam và nữ khác nhau như thế nào?\n",
    "Trả lời được câu hỏi giúp khách sạn có những định hướng cụ thể để cải thiện các tiêu chí đối với mỗi giới tính, qua đó có thể cải thiện độ hài lòng của khách hàng.\n",
    "\n",
    "#### Câu 3: Trong tất cả các yếu tố được chấm điểm, những yếu tố nào quan trọng nhất ảnh hưởng đến kết quả hài lòng của khách hàng? \n",
    "Trả lời được câu hỏi này để nếu ở Việt Nam muốn mở một khách sạn thì sẽ tham khảo những yếu tố này để cải thiện, nâng cấp.\n",
    "\n",
    "#### Câu 4: Độ tuổi của khách hàng đối với từng mục đích chuyến đi ảnh hưởng như thế nào đến sự hài lòng?\n",
    "Trả lời được câu hỏi này sẽ giúp khách sạn có những phương án phù hợp tùy theo độ tuổi và mục đích chuyến đi để phát triển, đáp ứng nhu cầu của khách hàng.\n",
    "\n",
    "---"
   ]
  },
  {
   "cell_type": "markdown",
   "metadata": {},
   "source": [
    "# 6.Tiền xử lý, phân tích dữ liệu để trả lời cho từng câu hỏi"
   ]
  },
  {
   "cell_type": "markdown",
   "metadata": {
    "heading_collapsed": true
   },
   "source": [
    "## 6.1 Câu hỏi 1:  Mục đích chuyến đi có cách đánh giá độ hài lòng khác nhau như thế nào?\n"
   ]
  },
  {
   "cell_type": "markdown",
   "metadata": {
    "hidden": true
   },
   "source": [
    "### Tiền xử lý"
   ]
  },
  {
   "cell_type": "markdown",
   "metadata": {
    "hidden": true
   },
   "source": [
    "Chuyển cột satisfaction về 0 1 để tính toán nhanh hơn, `neutral or dissatisfied` là 0, `satisfaction` là 1"
   ]
  },
  {
   "cell_type": "code",
   "execution_count": 21,
   "metadata": {
    "hidden": true
   },
   "outputs": [],
   "source": [
    "ehs_df_normalize=ehs_df.copy()\n",
    "ehs_df_normalize['satisfaction'] = ehs_df_normalize['satisfaction'].replace(['neutral or dissatisfied'],0)\n",
    "ehs_df_normalize['satisfaction'] = ehs_df_normalize['satisfaction'].replace(['satisfied'],1)"
   ]
  },
  {
   "cell_type": "markdown",
   "metadata": {
    "hidden": true
   },
   "source": [
    "### Phân tích dữ liệu để trả lời cho các câu hỏi "
   ]
  },
  {
   "cell_type": "markdown",
   "metadata": {
    "hidden": true
   },
   "source": [
    "<b>Đầu tiên, xem tỉ lệ đánh giá độ hài lòng của từng mục đích chuyến đi"
   ]
  },
  {
   "cell_type": "code",
   "execution_count": 22,
   "metadata": {
    "hidden": true,
    "scrolled": false
   },
   "outputs": [
    {
     "data": {
      "text/plain": [
       "purpose_of_travel\n",
       "academic    43.157353\n",
       "aviation    42.669363\n",
       "business    43.577550\n",
       "personal    43.621701\n",
       "tourism     43.521667\n",
       "Name: satisfaction, dtype: float64"
      ]
     },
     "execution_count": 22,
     "metadata": {},
     "output_type": "execute_result"
    }
   ],
   "source": [
    "average_satisfaction=ehs_df_normalize.groupby('purpose_of_travel')['satisfaction'].mean()*100\n",
    "average_satisfaction"
   ]
  },
  {
   "cell_type": "markdown",
   "metadata": {
    "hidden": true
   },
   "source": [
    "Tỉ lệ hài lòng trung bình của các mục đích chuyến đi:\n",
    "</br>  aviation: 42,67%\n",
    "</br>  academic: 43,16%\n",
    "</br>  business: 43,58%\n",
    "</br>  personal: 43,62%\n",
    "</br>  tourism: 43,52%"
   ]
  },
  {
   "cell_type": "code",
   "execution_count": 23,
   "metadata": {
    "hidden": true,
    "scrolled": true
   },
   "outputs": [
    {
     "data": {
      "image/png": "[encoded data removed]",
      "text/plain": [
       "<Figure size 432x288 with 1 Axes>"
      ]
     },
     "metadata": {
      "needs_background": "light"
     },
     "output_type": "display_data"
    }
   ],
   "source": [
    "colors = ['#1b9e77', '#a9f971', '#fdaa48','#6890F0','#A890F0']\n",
    "plt.barh(average_satisfaction.index,average_satisfaction.values,color=colors);\n",
    "plt.title(\"Average satisfaction of purpose travel\")\n",
    "plt.ylabel(\"purpose_of_travel\")\n",
    "plt.xlabel(\"%\")\n",
    "plt.show()"
   ]
  },
  {
   "cell_type": "markdown",
   "metadata": {
    "hidden": true
   },
   "source": [
    "**Nhận xét:**\n",
    "- Các mục đích chuyến đi có tỉ lệ đánh giá độ hài lòng về khách sạn Châu Âu tương đương nhau, đều có đánh giá hài lòng ít hơn 50%, trong đó aviation có tỉ lệ đánh giá thấp nhất.\n",
    "- Aviation là chuyến đi của ngành hàng không, bao gồm phi công, tiếp viên. Họ có thể đã đi nhiều nơi nên việc đánh giá trở nên khắt khe hơn."
   ]
  },
  {
   "cell_type": "markdown",
   "metadata": {
    "hidden": true
   },
   "source": [
    "<b>Tìm hiểu sâu hơn về các điểm số đánh giá tiêu chí của mục đích chuyến đi có sự hài lòng về khách sạn"
   ]
  },
  {
   "cell_type": "markdown",
   "metadata": {},
   "source": [
    "Xem điểm số trung bình của môi tiêu chí đánh giá ứng với từng mục đích chuyến đi"
   ]
  },
  {
   "cell_type": "code",
   "execution_count": 24,
   "metadata": {
    "hidden": true
   },
   "outputs": [
    {
     "data": {
      "text/html": [
       "<div>\n",
       "<style scoped>\n",
       "    .dataframe tbody tr th:only-of-type {\n",
       "        vertical-align: middle;\n",
       "    }\n",
       "\n",
       "    .dataframe tbody tr th {\n",
       "        vertical-align: top;\n",
       "    }\n",
       "\n",
       "    .dataframe thead th {\n",
       "        text-align: right;\n",
       "    }\n",
       "</style>\n",
       "<table border=\"1\" class=\"dataframe\">\n",
       "  <thead>\n",
       "    <tr style=\"text-align: right;\">\n",
       "      <th>purpose_of_travel</th>\n",
       "      <th>academic</th>\n",
       "      <th>aviation</th>\n",
       "      <th>business</th>\n",
       "      <th>personal</th>\n",
       "      <th>tourism</th>\n",
       "    </tr>\n",
       "  </thead>\n",
       "  <tbody>\n",
       "    <tr>\n",
       "      <th>hotel_wifi_service</th>\n",
       "      <td>3.184558</td>\n",
       "      <td>3.151828</td>\n",
       "      <td>3.142950</td>\n",
       "      <td>3.163265</td>\n",
       "      <td>3.157276</td>\n",
       "    </tr>\n",
       "    <tr>\n",
       "      <th>departure_arrival_convenience</th>\n",
       "      <td>2.983230</td>\n",
       "      <td>2.949898</td>\n",
       "      <td>2.967369</td>\n",
       "      <td>2.959424</td>\n",
       "      <td>2.973262</td>\n",
       "    </tr>\n",
       "    <tr>\n",
       "      <th>ease_of_online_booking</th>\n",
       "      <td>3.058483</td>\n",
       "      <td>3.029113</td>\n",
       "      <td>3.002269</td>\n",
       "      <td>3.037215</td>\n",
       "      <td>3.027742</td>\n",
       "    </tr>\n",
       "    <tr>\n",
       "      <th>hotel_location</th>\n",
       "      <td>2.992338</td>\n",
       "      <td>2.959546</td>\n",
       "      <td>2.958077</td>\n",
       "      <td>2.972869</td>\n",
       "      <td>2.988100</td>\n",
       "    </tr>\n",
       "    <tr>\n",
       "      <th>food_and_drink</th>\n",
       "      <td>3.525581</td>\n",
       "      <td>3.496445</td>\n",
       "      <td>3.522853</td>\n",
       "      <td>3.510684</td>\n",
       "      <td>3.530394</td>\n",
       "    </tr>\n",
       "    <tr>\n",
       "      <th>stay_comfort</th>\n",
       "      <td>3.971567</td>\n",
       "      <td>3.958531</td>\n",
       "      <td>3.966397</td>\n",
       "      <td>3.964466</td>\n",
       "      <td>3.966380</td>\n",
       "    </tr>\n",
       "    <tr>\n",
       "      <th>common_room_entertainment</th>\n",
       "      <td>3.954797</td>\n",
       "      <td>3.953961</td>\n",
       "      <td>3.980551</td>\n",
       "      <td>3.983193</td>\n",
       "      <td>3.962294</td>\n",
       "    </tr>\n",
       "    <tr>\n",
       "      <th>checkin_checkout_service</th>\n",
       "      <td>3.653614</td>\n",
       "      <td>3.654536</td>\n",
       "      <td>3.638898</td>\n",
       "      <td>3.649940</td>\n",
       "      <td>3.639642</td>\n",
       "    </tr>\n",
       "    <tr>\n",
       "      <th>other_service</th>\n",
       "      <td>3.967055</td>\n",
       "      <td>3.960731</td>\n",
       "      <td>3.972015</td>\n",
       "      <td>4.012725</td>\n",
       "      <td>3.960573</td>\n",
       "    </tr>\n",
       "    <tr>\n",
       "      <th>cleanliness</th>\n",
       "      <td>3.730740</td>\n",
       "      <td>3.744584</td>\n",
       "      <td>3.760454</td>\n",
       "      <td>3.760144</td>\n",
       "      <td>3.740287</td>\n",
       "    </tr>\n",
       "  </tbody>\n",
       "</table>\n",
       "</div>"
      ],
      "text/plain": [
       "purpose_of_travel              academic  aviation  business  personal  \\\n",
       "hotel_wifi_service             3.184558  3.151828  3.142950  3.163265   \n",
       "departure_arrival_convenience  2.983230  2.949898  2.967369  2.959424   \n",
       "ease_of_online_booking         3.058483  3.029113  3.002269  3.037215   \n",
       "hotel_location                 2.992338  2.959546  2.958077  2.972869   \n",
       "food_and_drink                 3.525581  3.496445  3.522853  3.510684   \n",
       "stay_comfort                   3.971567  3.958531  3.966397  3.964466   \n",
       "common_room_entertainment      3.954797  3.953961  3.980551  3.983193   \n",
       "checkin_checkout_service       3.653614  3.654536  3.638898  3.649940   \n",
       "other_service                  3.967055  3.960731  3.972015  4.012725   \n",
       "cleanliness                    3.730740  3.744584  3.760454  3.760144   \n",
       "\n",
       "purpose_of_travel               tourism  \n",
       "hotel_wifi_service             3.157276  \n",
       "departure_arrival_convenience  2.973262  \n",
       "ease_of_online_booking         3.027742  \n",
       "hotel_location                 2.988100  \n",
       "food_and_drink                 3.530394  \n",
       "stay_comfort                   3.966380  \n",
       "common_room_entertainment      3.962294  \n",
       "checkin_checkout_service       3.639642  \n",
       "other_service                  3.960573  \n",
       "cleanliness                    3.740287  "
      ]
     },
     "execution_count": 24,
     "metadata": {},
     "output_type": "execute_result"
    }
   ],
   "source": [
    "ehs_df_normalize=ehs_df_normalize[ehs_df_normalize['satisfaction']==1]\n",
    "\n",
    "score_cols=['hotel_wifi_service',\n",
    "       'departure_arrival_convenience', 'ease_of_online_booking',\n",
    "       'hotel_location', 'food_and_drink', 'stay_comfort',\n",
    "       'common_room_entertainment', 'checkin_checkout_service',\n",
    "       'other_service', 'cleanliness']\n",
    "avg_score=ehs_df_normalize.groupby('purpose_of_travel')[score_cols].mean().T\n",
    "avg_score"
   ]
  },
  {
   "cell_type": "markdown",
   "metadata": {
    "hidden": true
   },
   "source": [
    "Vẽ biểu đồ thể hiện độ lệch giữa trung bình điểm số đánh giá của từng cặp mục đích chuyến đi"
   ]
  },
  {
   "cell_type": "code",
   "execution_count": 25,
   "metadata": {
    "hidden": true,
    "scrolled": false
   },
   "outputs": [
    {
     "data": {
      "image/png": "[encoded data removed]",
      "text/plain": [
       "<Figure size 432x288 with 1 Axes>"
      ]
     },
     "metadata": {
      "needs_background": "light"
     },
     "output_type": "display_data"
    },
    {
     "data": {
      "image/png": "[encoded data removed]",
      "text/plain": [
       "<Figure size 432x288 with 1 Axes>"
      ]
     },
     "metadata": {
      "needs_background": "light"
     },
     "output_type": "display_data"
    },
    {
     "data": {
      "image/png": "[encoded data removed]",
      "text/plain": [
       "<Figure size 432x288 with 1 Axes>"
      ]
     },
     "metadata": {
      "needs_background": "light"
     },
     "output_type": "display_data"
    },
    {
     "data": {
      "image/png": "[encoded data removed]",
      "text/plain": [
       "<Figure size 432x288 with 1 Axes>"
      ]
     },
     "metadata": {
      "needs_background": "light"
     },
     "output_type": "display_data"
    },
    {
     "data": {
      "image/png": "[encoded data removed]",
      "text/plain": [
       "<Figure size 432x288 with 1 Axes>"
      ]
     },
     "metadata": {
      "needs_background": "light"
     },
     "output_type": "display_data"
    },
    {
     "data": {
      "image/png": "[encoded data removed]",
      "text/plain": [
       "<Figure size 432x288 with 1 Axes>"
      ]
     },
     "metadata": {
      "needs_background": "light"
     },
     "output_type": "display_data"
    },
    {
     "data": {
      "image/png": "[encoded data removed]",
      "text/plain": [
       "<Figure size 432x288 with 1 Axes>"
      ]
     },
     "metadata": {
      "needs_background": "light"
     },
     "output_type": "display_data"
    },
    {
     "data": {
      "image/png": "[encoded data removed]",
      "text/plain": [
       "<Figure size 432x288 with 1 Axes>"
      ]
     },
     "metadata": {
      "needs_background": "light"
     },
     "output_type": "display_data"
    },
    {
     "data": {
      "image/png": "[encoded data removed]",
      "text/plain": [
       "<Figure size 432x288 with 1 Axes>"
      ]
     },
     "metadata": {
      "needs_background": "light"
     },
     "output_type": "display_data"
    },
    {
     "data": {
      "image/png": "[encoded data removed]",
      "text/plain": [
       "<Figure size 432x288 with 1 Axes>"
      ]
     },
     "metadata": {
      "needs_background": "light"
     },
     "output_type": "display_data"
    }
   ],
   "source": [
    "purpose_travel_cols=['academic','aviation','business','personal','tourism']\n",
    "\n",
    "len_purpose=len(purpose_travel_cols)\n",
    "for i in range(len_purpose):\n",
    "    for j in range(i+1,len_purpose):\n",
    "        plt.barh(avg_score.columns,avg_score.iloc[i]-avg_score.iloc[j],color=colors)\n",
    "        plt.title(f'{purpose_travel_cols[i]} with {purpose_travel_cols[j]}')\n",
    "        plt.show()"
   ]
  },
  {
   "cell_type": "markdown",
   "metadata": {
    "hidden": true
   },
   "source": [
    "**Nhận xét:**\n",
    "- Từ các biểu đồ này ta sẽ nhìn thấy được sự khác nhau rõ hơn trong các tiêu chí đánh giá của từng hạng mục về độ hài lòng.\n",
    "- Ví dụ như personal và tourism:\n",
    "</br>- Tourism sẽ đánh giá stay_comfort, food_and_drink, hotel_location, departure_arrival_convenience khắt khe hơn, đồng nghĩa với việc sẽ quan tâm những tiêu chí này hơn.\n",
    "</br>- Ngược lại những tiêu chí như cleanlliness, checkin checkout service... sẽ được bên personal chấm điểm cao hơn.\n",
    "> <I> Từ đó, ta sẽ có thêm một tiêu chí phụ nữa để đưa ra các quyết định thay đổi, nâng cấp khách sạn ứng với từng hợp đồng của các bên đối tác về trường học, tour, hàng không... Nắm bắt được điểm yếu của mình và kịp thời sửa chữa, thay đổi nhằm nâng cao hơn chất lượng của khách sạn"
   ]
  },
  {
   "cell_type": "markdown",
   "metadata": {
    "hidden": true
   },
   "source": [
    "---"
   ]
  },
  {
   "cell_type": "markdown",
   "metadata": {
    "heading_collapsed": true
   },
   "source": [
    "## 6.2 Câu hỏi 2: Các yếu tố ảnh hưởng đến sự hài lòng giữa nam và nữ khác nhau như thế nào?"
   ]
  },
  {
   "cell_type": "markdown",
   "metadata": {
    "heading_collapsed": true,
    "hidden": true
   },
   "source": [
    "### Tiền xử lý\n",
    "\n",
    "- Đổi các giá trị ở cột satisfaction thành 1 cho \"satisfied\" và 0 cho \"neutral or dissatisfied\" để tiện cho việc xử lý, khám phá và phân tích dữ liệu"
   ]
  },
  {
   "cell_type": "code",
   "execution_count": 26,
   "metadata": {
    "hidden": true
   },
   "outputs": [],
   "source": [
    "ehs_df['satisfaction'].replace(\n",
    "    to_replace=['neutral or dissatisfied', 'satisfied'],\n",
    "    value=[0, 1],\n",
    "    inplace=True\n",
    ")"
   ]
  },
  {
   "cell_type": "markdown",
   "metadata": {
    "hidden": true
   },
   "source": [
    "### Phân tích dữ liệu để trả lời cho các câu hỏi \n",
    "\n",
    "**Xem số lượng khách hàng nam và nữ thỏa mãn các dịch vụ của khách sạn**"
   ]
  },
  {
   "cell_type": "code",
   "execution_count": 27,
   "metadata": {
    "hidden": true
   },
   "outputs": [
    {
     "data": {
      "text/plain": [
       "<AxesSubplot:xlabel='gender', ylabel='count'>"
      ]
     },
     "execution_count": 27,
     "metadata": {},
     "output_type": "execute_result"
    },
    {
     "data": {
      "image/png": "[encoded data removed]",
      "text/plain": [
       "<Figure size 432x288 with 1 Axes>"
      ]
     },
     "metadata": {
      "needs_background": "light"
     },
     "output_type": "display_data"
    }
   ],
   "source": [
    "sns.countplot(x='gender',hue='satisfaction',data=ehs_df)"
   ]
  },
  {
   "cell_type": "markdown",
   "metadata": {
    "hidden": true
   },
   "source": [
    "**Phần trăm khách hàng hài lòng dựa theo giới tính**"
   ]
  },
  {
   "cell_type": "code",
   "execution_count": 28,
   "metadata": {
    "hidden": true
   },
   "outputs": [
    {
     "data": {
      "image/png": "[encoded data removed]",
      "text/plain": [
       "<Figure size 864x432 with 2 Axes>"
      ]
     },
     "metadata": {},
     "output_type": "display_data"
    }
   ],
   "source": [
    "plt.figure(figsize=(12, 6))\n",
    "genders = ['Male', 'Female']\n",
    "\n",
    "for gender in genders:\n",
    "    plt.subplot(1, 2, genders.index(gender)+1)\n",
    "    plt.pie(\n",
    "        ehs_df.loc[ehs_df.gender==gender, 'satisfaction'].value_counts(),\n",
    "        labels=['neutral or dissatisfied','satisfied'],\n",
    "        explode=[0, 0.05],\n",
    "        shadow=True,\n",
    "        autopct='%1.2f%%'\n",
    "    )\n",
    "    plt.title(f'Satisfaction ({gender})', fontsize=15)\n",
    "\n",
    "plt.show()"
   ]
  },
  {
   "cell_type": "code",
   "execution_count": 29,
   "metadata": {
    "hidden": true
   },
   "outputs": [
    {
     "data": {
      "image/png": "[encoded data removed]",
      "text/plain": [
       "<Figure size 576x576 with 1 Axes>"
      ]
     },
     "metadata": {
      "needs_background": "light"
     },
     "output_type": "display_data"
    }
   ],
   "source": [
    "# Group by gender không lấy id, satisfaction, gender\n",
    "group_data = ehs_df.groupby(['gender']).mean().T[2:-1]\n",
    "group_data.plot.barh(\n",
    "    figsize=(8,8),\n",
    "    title = 'Điểm trung bình các yếu tố theo giới tính'\n",
    ")\n",
    "plt.show()"
   ]
  },
  {
   "cell_type": "markdown",
   "metadata": {
    "hidden": true
   },
   "source": [
    "***Nhận xét:*** \n",
    "- Có thể thấy rằng phân bố theo giới tính của khách hàng hài lòng và không hài lòng là khá giống nhau. Đối với cả khách nam và nữ, số lượng các khách hàng không hài lòng cao hơn so với số lượng khách hàng hài lòng\n",
    "- Tỷ lệ hài lòng của khách hàng nam là 44%, của khách hàng nữ 43%\n",
    "- Trung bình ratings của các yếu tố của nam và nữ khá đồng đều và gần như không có sự khác biệt"
   ]
  },
  {
   "cell_type": "code",
   "execution_count": 30,
   "metadata": {
    "hidden": true
   },
   "outputs": [
    {
     "data": {
      "image/png": "[encoded data removed]",
      "text/plain": [
       "<Figure size 864x576 with 1 Axes>"
      ]
     },
     "metadata": {
      "needs_background": "light"
     },
     "output_type": "display_data"
    }
   ],
   "source": [
    "male_ratings_df = ehs_df[ehs_df['gender'] == 'Male']\n",
    "s1 = male_ratings_df.corr()['satisfaction'][2:-1].rename('Male')\n",
    "\n",
    "female_ratings_df = ehs_df[ehs_df['gender'] == 'Female']\n",
    "s2 = female_ratings_df.corr()['satisfaction'][2:-1].rename('Female')\n",
    "\n",
    "gender_corr = pd.concat([s1, s2], axis=1)\n",
    "gender_corr.plot.barh(\n",
    "    figsize=(12,8),\n",
    "    title = 'Tương quan giữa độ hài lòng và các yếu tố theo giới tính'\n",
    ");"
   ]
  },
  {
   "cell_type": "markdown",
   "metadata": {
    "hidden": true
   },
   "source": [
    "***Trả lời câu hỏi***\n",
    "- Các dịch vụ khác (\"other service\") có mối tương quan khá cao đối với các khách hàng là nữ giới\n",
    "- Các khách hàng nam có tương quan cao hơn khá đáng kể so với nữ ở các tiêu chí như \"cleanliness\", \"stay_comfort\", \"food_and_drink\"\n",
    "- Ngoài ra độ tương quan của các tiêu chí \"common_room_entertainment\", \"hotel_wifi_service\" không có sự khác biệt rõ rệt, tuy nhiên đây cũng là các tiêu chí mà khách sạn cần quan tâm vì có độ tương quan lớn để giúp cải thiện sự hài lòng của khách hàng "
   ]
  },
  {
   "cell_type": "markdown",
   "metadata": {
    "hidden": true
   },
   "source": [
    "---"
   ]
  },
  {
   "cell_type": "markdown",
   "metadata": {
    "heading_collapsed": true
   },
   "source": [
    "## 6.3 Câu hỏi 3: Trong tất cả các yếu tố được chấm điểm, những yếu tố nào quan trọng nhất ảnh hưởng đến kết quả hài lòng của khách hàng? "
   ]
  },
  {
   "cell_type": "markdown",
   "metadata": {
    "hidden": true
   },
   "source": [
    "**Các bước thực hiện:**"
   ]
  },
  {
   "cell_type": "markdown",
   "metadata": {
    "hidden": true
   },
   "source": [
    "Trong câu hỏi này, em sẽ sử dụng Machine Learning để giải quyết vấn đề. Dùng cây quyết định với phương pháp tính entropy nhỏ nhất sẽ chọn ra được 5 yếu tố chính quyết định sự hài lòng hoặc không hài lòng về khách sạn. \n",
    "- Bước 1:  Chuẩn hóa các cột categorical về numerical\n",
    "- Bước 2: Chia ra các x_train, y_train và fit vào cây quyết định sử dụng thư viện sklearn- decision tree\n",
    "- Bước 3: Chọn ra 5 thuộc tính đứng đầu quyết định sự hài lòng hoặc không hài lòng"
   ]
  },
  {
   "cell_type": "markdown",
   "metadata": {
    "hidden": true
   },
   "source": [
    "### Tiền xử lý"
   ]
  },
  {
   "cell_type": "markdown",
   "metadata": {
    "hidden": true
   },
   "source": [
    "Chuẩn hóa các cột categorical về numerical"
   ]
  },
  {
   "cell_type": "code",
   "execution_count": 31,
   "metadata": {
    "hidden": true
   },
   "outputs": [],
   "source": [
    "ehs_df_normalize=ehs_df.copy()\n",
    "ehs_df_normalize['gender'] = ehs_df_normalize['gender'].replace(['Male'],1)\n",
    "ehs_df_normalize['gender'] =ehs_df_normalize['gender'].replace(['Female'],2)\n",
    "\n",
    "ehs_df_normalize['type_of_travel'] = ehs_df_normalize['type_of_travel'].replace(['Personal Travel'],1)\n",
    "ehs_df_normalize['type_of_travel'] = ehs_df_normalize['type_of_travel'].replace(['Group Travel'],2)\n",
    "\n",
    "ehs_df_normalize['satisfaction'] = ehs_df_normalize['satisfaction'].replace(['neutral or dissatisfied'],0)\n",
    "ehs_df_normalize['satisfaction'] = ehs_df_normalize['satisfaction'].replace(['satisfied'],1)\n",
    "ehs_df_normalize['type_of_booking'] = ehs_df_normalize['type_of_booking'].replace(['Individual/Couple'],1)\n",
    "ehs_df_normalize['type_of_booking'] = ehs_df_normalize['type_of_booking'].replace(['Group bookings'],2)\n",
    "\n",
    "ehs_df_normalize['purpose_of_travel'] = ehs_df_normalize['purpose_of_travel'].replace(['tourism'],5)\n",
    "ehs_df_normalize['purpose_of_travel'] = ehs_df_normalize['purpose_of_travel'].replace(['academic'],4)\n",
    "ehs_df_normalize['purpose_of_travel'] = ehs_df_normalize['purpose_of_travel'].replace(['business'],3)\n",
    "ehs_df_normalize['purpose_of_travel'] = ehs_df_normalize['purpose_of_travel'].replace(['aviation'],2)\n",
    "ehs_df_normalize['purpose_of_travel'] = ehs_df_normalize['purpose_of_travel'].replace(['personal'],1)"
   ]
  },
  {
   "cell_type": "markdown",
   "metadata": {
    "hidden": true
   },
   "source": [
    "### Phân tích dữ liệu để trả lời cho các câu hỏi "
   ]
  },
  {
   "cell_type": "markdown",
   "metadata": {},
   "source": [
    "Xây dựng cây quyết định"
   ]
  },
  {
   "cell_type": "code",
   "execution_count": 32,
   "metadata": {
    "hidden": true
   },
   "outputs": [
    {
     "name": "stdout",
     "output_type": "stream",
     "text": [
      "Top 5 attribute affect the customer satisfaction: \n",
      "['type_of_travel', 'type_of_booking', 'hotel_wifi_service', 'hotel_location', 'common_room_entertainment']\n",
      "Accuracy: 91.73%\n"
     ]
    }
   ],
   "source": [
    "# Lấy khoảng 80% mẫu cho tập train, 20% cho tập test\n",
    "#Không lấy cột id\n",
    "ehs_df_normalize.drop('id',axis=1,inplace=True)\n",
    "x=ehs_df_normalize.iloc[:,0:-1]\n",
    "y=ehs_df_normalize.iloc[:,-1]\n",
    "#Tách bộ train, test\n",
    "x_train,x_test,y_train,y_test=train_test_split(x,y,test_size=0.2,random_state=42)\n",
    "estimator = DecisionTreeClassifier(criterion='entropy',max_depth=8,random_state=42)\n",
    "# Tạo 1 selector chọn ra thuộc tính tốt nhất\n",
    "selector = RFE(estimator, n_features_to_select=5, step=1)\n",
    "selector = selector.fit(x_train,y_train)\n",
    "#Xuất danh sách thuộc tính quan trọng\n",
    "topatt=[i for i in range(len(selector.ranking_)) if selector.ranking_[i]==1]\n",
    "result = [list(ehs_df_normalize.columns)[i] for i in topatt]\n",
    "print('Top 5 attribute affect the customer satisfaction: ')\n",
    "print(result)\n",
    "#Tính độ chính xác\n",
    "# modelDT=DecisionTreeClassifier(criterion='entropy',max_depth=8,random_state=42)\n",
    "estimator.fit(x_train,y_train)\n",
    "estimator.predict(x_test)\n",
    "acc=estimator.score(x_test,y_test)*100\n",
    "print(f'Accuracy: {round(acc,2)}%')\n",
    "\n"
   ]
  },
  {
   "cell_type": "markdown",
   "metadata": {
    "hidden": true
   },
   "source": [
    "**Nhận xét:**\n",
    "- Sau khi sử dụng phương pháp máy học là cây quyết định thì top 5 những thuộc tính quan trọng nhất ảnh hưởng đến độ hài lòng khách hàng là:\n",
    "1. type_of_travel: loại hình du lịch\n",
    "2. type_of_booking: loại booking\n",
    "3. hotel_wifi_service: dịch vụ wifi\n",
    "4. hotel_location: vị trí khách sạn\n",
    "5. common_room_entertainment: phòng giải trí chung\n",
    "-  Khai tác tốt vấn đề bằng việc duy trì ổn định, nâng cấp, cài thiện các yếu tố kể trên sẽ giúp khách sạn nhận được nhiều ý kiến đánh giá tích cực hơn, thu hút khách hàng mới và giữ lại tệp khách hàng cũ\n",
    "- Sử dụng mô hình học máy này còn giúp phân lớp tệp khách hàng mới, biết được yêu cầu cho từng tiêu chí, từ đó nâng cao chất lượng phục vụ\n"
   ]
  },
  {
   "cell_type": "markdown",
   "metadata": {
    "hidden": true
   },
   "source": [
    "---"
   ]
  },
  {
   "cell_type": "markdown",
   "metadata": {
    "heading_collapsed": true
   },
   "source": [
    "## 6.4 Câu hỏi 4: Độ tuổi của khách hàng đối với từng mục đích chuyến đi ảnh hưởng như thế nào đến sự hài lòng?"
   ]
  },
  {
   "cell_type": "markdown",
   "metadata": {
    "hidden": true
   },
   "source": [
    "### Tiền xử lý"
   ]
  },
  {
   "cell_type": "markdown",
   "metadata": {
    "hidden": true
   },
   "source": [
    "### Phân tích dữ liệu để trả lời cho các câu hỏi "
   ]
  },
  {
   "cell_type": "markdown",
   "metadata": {
    "hidden": true
   },
   "source": [
    "- Xem các số lượng khách hàng nam và nữ thỏa mãn các dịch vụ của khách sạn"
   ]
  },
  {
   "cell_type": "code",
   "execution_count": 33,
   "metadata": {
    "hidden": true
   },
   "outputs": [
    {
     "data": {
      "image/png": "[encoded data removed]",
      "text/plain": [
       "<Figure size 1138.88x360 with 1 Axes>"
      ]
     },
     "metadata": {},
     "output_type": "display_data"
    }
   ],
   "source": [
    "with sns.axes_style('white'):\n",
    "    g = sns.catplot(\n",
    "        x='age',\n",
    "        data=ehs_df,\n",
    "        aspect=3.0,\n",
    "        kind='count',\n",
    "        hue='satisfaction',\n",
    "        order=range(5, 86)\n",
    "    )\n",
    "    g.set_ylabels('Age vs Satisfaction')"
   ]
  },
  {
   "cell_type": "markdown",
   "metadata": {
    "hidden": true
   },
   "source": [
    "***Nhận xét:*** Độ tuổi: Từ 7 đến 38 tuổi và từ 61 đến 79 tuổi, tỷ lệ khách hàng không hài lòng cao hơn so với khách hàng hài lòng. Ngược lại, ở độ tuổi 39-60, tỷ lệ khách hàng hài lòng cao hơn so với khách hàng không hài lòng. Căn cứ vào điều này ta sẽ chia thành 4 groups: [7,20), [20,40), [40,61), [61, 86) để tiếp tục phân tích.\n",
    "\n",
    "**Thêm cột Age Group vào dataframe**"
   ]
  },
  {
   "cell_type": "code",
   "execution_count": 36,
   "metadata": {
    "hidden": true
   },
   "outputs": [],
   "source": [
    "ehs_df['age_group'] = pd.cut(ehs_df['age'], [7, 20, 40, 61, 86],\n",
    "    right=False\n",
    ")"
   ]
  },
  {
   "cell_type": "code",
   "execution_count": 37,
   "metadata": {
    "hidden": true,
    "scrolled": false
   },
   "outputs": [
    {
     "data": {
      "image/png": "[encoded data removed]",
      "text/plain": [
       "<Figure size 576x432 with 1 Axes>"
      ]
     },
     "metadata": {
      "needs_background": "light"
     },
     "output_type": "display_data"
    },
    {
     "data": {
      "image/png": "[encoded data removed]",
      "text/plain": [
       "<Figure size 576x432 with 1 Axes>"
      ]
     },
     "metadata": {
      "needs_background": "light"
     },
     "output_type": "display_data"
    },
    {
     "data": {
      "image/png": "[encoded data removed]",
      "text/plain": [
       "<Figure size 576x432 with 1 Axes>"
      ]
     },
     "metadata": {
      "needs_background": "light"
     },
     "output_type": "display_data"
    },
    {
     "data": {
      "image/png": "[encoded data removed]",
      "text/plain": [
       "<Figure size 576x432 with 1 Axes>"
      ]
     },
     "metadata": {
      "needs_background": "light"
     },
     "output_type": "display_data"
    }
   ],
   "source": [
    "age_grp_table = ehs_df.pivot_table(\n",
    "    index=['age_group','purpose_of_travel'],\n",
    "    columns=['satisfaction'],\n",
    "    aggfunc={'satisfaction':['count']},\n",
    ")\n",
    "\n",
    "len_ehs_df=len(ehs_df)\n",
    "\n",
    "for i in range(5, 21, 5):\n",
    "    ax = age_grp_table.loc[age_grp_table.index[i-5:i]].T.plot(kind=\"bar\",figsize=(8,6),rot=0)\n",
    "    plt.title(f'{age_grp_table.index[i-5:i][0][0]}')\n",
    "    \n",
    "    # thêm percentage trên từng cột\n",
    "    for p in ax.patches:\n",
    "        percentage = '{:.1f}%'.format(100 * p.get_height()/len_ehs_df)\n",
    "        x, y = (p.get_x() + p.get_width()*1.1), (p.get_height()+20)\n",
    "        ax.annotate(percentage, (x, y), ha='right')"
   ]
  },
  {
   "cell_type": "markdown",
   "metadata": {
    "hidden": true
   },
   "source": [
    "***Trả lời câu hỏi***\n",
    "- Trên tất cả các nhóm tuổi, số lượng khách hàng hài lòng/ không hài lòng đều theo thứ tự giảm dần: \"tourism\", \"academic\", \"business\", \"aviation\", \"personal\". Có thể một phần là do sự chênh lệch về số lượng mẫu của các loại mục đích này\n",
    "- Khách sạn cần ưu tiên những giải pháp thích hợp và hiệu quả để có thể làm hài lòng các khách hàng \"tourism\", \"academic\" từ 20-40 tuổi, vì:\n",
    "    - Độ tuổi này đem lại nguồn doanh thu lớn cho khách sạn\n",
    "    - Độ tuổi 40-61 mặc dù tỷ lệ hài lòng cao hơn, nhưng số lượng khách hàng không hài lòng vẫn còn nhiều nên sẽ khách sạn sẽ phần nào nhận được lợi nhuận gián tiếp dựa trên những giải pháp này"
   ]
  },
  {
   "cell_type": "markdown",
   "metadata": {
    "hidden": true
   },
   "source": [
    "---"
   ]
  },
  {
   "cell_type": "markdown",
   "metadata": {},
   "source": [
    "# 7. Nhìn lại quá trình làm đồ án"
   ]
  },
  {
   "cell_type": "markdown",
   "metadata": {},
   "source": [
    "## Thành viên 1\n",
    "\n",
    "- Họ tên: Lê Sỹ Thuần\n",
    "- Đã gặp những khó khăn gì?   \n",
    "Trong quá trình làm đồ án, việc tìm kiếm dữ liệu, bài toán dựa trên dữ liệu đó là công đoạn khó nhất. Tiếp theo là vấn đề đặt câu hỏi vì em cũng chưa có kinh nghiệm nhiều.  \n",
    "Sử dụng Git để merge Jupyter notebook\n",
    "\n",
    "- Có học được gì hữu ích?  \n",
    "Hoàn thành được một đồ án Khoa học dữ liệu thực tế  mặc dù còn nhiều thiếu sót đã giúp em nắm rõ hơn về quy trình làm việc của nhà Khoa học dữ liệu.  \n",
    "Phát triển, ôn tập lại một số kỹ năng xử lí dữ liệu đã học thông qua môn Lập trình Khoa học Dữ liệu, Khai thác dữ liệu và ứng dụng.  \n",
    "Trau dồi thêm kinh nghiệm trong việc khai thác vấn đề từ dữ liệu, nhìn vấn đề cần khai thác nhanh hơn, rộng hơn"
   ]
  },
  {
   "cell_type": "markdown",
   "metadata": {},
   "source": [
    "## Thành viên 2\n",
    "\n",
    "- Họ tên: Nguyễn Minh Phúc\n",
    "- Đã gặp những khó khăn gì?\n",
    "    - Chọn tập dữ liệu phù hợp cho việc khám phá, phân tích\n",
    "    - Chưa biết nhiều phương pháp, công cụ để phân tích dữ liệu hiệu quả\n",
    "    - Thống nhất các quyết định của nhóm\n",
    "- Có học được gì hữu ích?\n",
    "    - Kỹ năng làm việc nhóm\n",
    "    - Cách sử dụng Git để làm việc với nhóm\n",
    "    - Công cụ hỗ trợ merge file jupyter notebook"
   ]
  },
  {
   "cell_type": "markdown",
   "metadata": {},
   "source": [
    "## Nhóm\n",
    "**Nếu có thêm thời gian thì sẽ làm gì?**\n",
    "- Tìm hiểu thêm các phương pháp để phân tích dữ liệu\n",
    "- Tìm hiểu thêm domain knowledge để có thể đặt câu hỏi có ích\n",
    "- Phân tích dữ liệu kỹ hơn để khai thác dữ liệu tốt hơn.\n",
    "- Tối ưu hóa các thuật toán được sử dụng"
   ]
  },
  {
   "cell_type": "markdown",
   "metadata": {},
   "source": [
    "# 8. Tài liệu tham khảo\n",
    "\n",
    "- Các video bài giảng, slide của thầy Kiên\n",
    "- Documents của các thư viện pandas, matplotlib, seaborn, sklearn\n",
    "- Stackoverflow"
   ]
  }
 ],
 "metadata": {
  "kernelspec": {
   "display_name": "Python 3 (ipykernel)",
   "language": "python",
   "name": "python3"
  },
  "language_info": {
   "codemirror_mode": {
    "name": "ipython",
    "version": 3
   },
   "file_extension": ".py",
   "mimetype": "text/x-python",
   "name": "python",
   "nbconvert_exporter": "python",
   "pygments_lexer": "ipython3",
   "version": "3.8.8"
  },
  "toc": {
   "base_numbering": 1,
   "nav_menu": {
    "height": "492px",
    "width": "748px"
   },
   "number_sections": false,
   "sideBar": true,
   "skip_h1_title": false,
   "title_cell": "Table of Contents",
   "title_sidebar": "Contents",
   "toc_cell": false,
   "toc_position": {
    "height": "calc(100% - 180px)",
    "left": "10px",
    "top": "150px",
    "width": "240px"
   },
   "toc_section_display": true,
   "toc_window_display": false
  }
 },
 "nbformat": 4,
 "nbformat_minor": 4
}
