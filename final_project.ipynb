{
 "cells": [
  {
   "cell_type": "markdown",
   "metadata": {},
   "source": [
    "# 1. Thông tin nhóm\n",
    "\n",
    "### *Danh sách thành viên:*\n",
    "\n",
    "<center>\n",
    "    \n",
    "|   MSSV   |      Họ tên      | Tài khoản Github |\n",
    "|:--------:|:----------------:|:----------------:|\n",
    "| 19120119 | Nguyễn Minh Phúc |   youngtobesick  |\n",
    "| 19120387 |    Lê Sỹ Thuần   |    SyThuan1803   |\n",
    "    \n",
    "</center>\n",
    "\n",
    "### *Kế hoạch làm việc:* \n",
    "[Xem tại đây](https://docs.google.com/spreadsheets/d/1DCq30ORIH6m-1EYMnbUmZ8fBoxPiiCgRgLDpJaRKRVE/edit?usp=sharing)"
   ]
  },
  {
   "cell_type": "markdown",
   "metadata": {},
   "source": [
    "---"
   ]
  },
  {
   "cell_type": "markdown",
   "metadata": {},
   "source": [
    "# 2. Thu thập dữ liệu"
   ]
  },
  {
   "cell_type": "markdown",
   "metadata": {},
   "source": [
    "#### Dữ liệu của bạn là về chủ đề gì và bạn lấy từ nguồn nào?"
   ]
  },
  {
   "cell_type": "markdown",
   "metadata": {},
   "source": [
    "Dữ liệu là bảng đánh giá độ hài lòng của các khách về các khách sạn Châu Âu\n",
    "</br> Dữ liệu được lấy từ nguồn được public trên [Kaggle](https://www.kaggle.com/ishansingh88/europe-hotel-satisfaction-score)"
   ]
  },
  {
   "cell_type": "markdown",
   "metadata": {},
   "source": [
    "**Phần mô tả của dữ liệu**"
   ]
  },
  {
   "cell_type": "markdown",
   "metadata": {},
   "source": [
    "Phần mô tả dữ liệu không có gì đặc biệt, chỉ là các dòng mô tả giá trị của các cột có trong dataset.  \n",
    "Dưới đây là phần mô tả được lấy từ trang publish dataset:  \n",
    "\n",
    "Columns\n",
    "Age - 7 to 85\n",
    "\n",
    "purposeoftravel - aviation, academic, personal, business, tourism.\n",
    "\n",
    "Type of Travel - Group travel, Personal Travel.\n",
    "\n",
    "Type Of Booking - Group bookings, Individual/Couple.\n",
    "\n",
    "Hotel wifi service - Ratings out of 5.\n",
    "\n",
    "Departure/Arrival convenience - Ratings out of 5.\n",
    "\n",
    "Ease of Online booking - Ratings out of 5.\n",
    "\n",
    "Hotel location - Ratings out of 5.\n",
    "\n",
    "Food and drink - Ratings out of 5.\n",
    "\n",
    "Stay comfort - Ratings out of 5.\n",
    "\n",
    "Common Room entertainment - Ratings out of 5.\n",
    "\n",
    "Checkin/Checkout service - Ratings out of 5.\n",
    "\n",
    "Other service - Ratings out of 5.\n",
    "\n",
    "Cleanliness - Ratings out of 5.\n",
    "\n",
    "satisfaction - satisfied, neutral or dissatisfied."
   ]
  },
  {
   "cell_type": "markdown",
   "metadata": {},
   "source": [
    "**License của dữ liệu**"
   ]
  },
  {
   "cell_type": "markdown",
   "metadata": {},
   "source": [
    "License của dữ liệu là Unknown ([nguồn](https://www.kaggle.com/ishansingh88/europe-hotel-satisfaction-score/metadata)).  \n",
    "Có vẻ như người publish dữ liệu này lên Kaggle không có yêu cầu gì đối với việc sử dụng dữ liệu, hoặc cũng có thể là quên cập nhật chi tiết License. Nhưng có lẽ việc sử dụng dữ liệu với mục đích học tập thì cũng không đến nỗi nào 😓."
   ]
  },
  {
   "cell_type": "markdown",
   "metadata": {},
   "source": [
    "#### Người ta thu thập dữ liệu từ nguồn nào?"
   ]
  },
  {
   "cell_type": "markdown",
   "metadata": {},
   "source": [
    "Em đã tìm hết tất cả tab ở link bên trên nhưng vẫn không thấy chỗ nào có ghi cách để thu thập bộ dữ liệu này.\n",
    "\n",
    "Em đoán là có thể lúc khách trả phòng, họ được nhờ để điền mẫu khảo sát về các dịch vụ của khách sạn để thu thập dữ liệu. Vì title chỉ nói chung chung là Europe Hotel mà không để chi tiết là một hay nhiều hotel nào nên cũng có thể là nhóm thu thập dữ liệu tiến hành khảo sát trên cộng đồng nào đó để có thể đưa ra một bộ dữ liệu đồng nhất về các thuộc tính như thế này."
   ]
  },
  {
   "cell_type": "markdown",
   "metadata": {},
   "source": [
    "---"
   ]
  },
  {
   "cell_type": "markdown",
   "metadata": {},
   "source": [
    "# 3. Import các thư viện cần thiết"
   ]
  },
  {
   "cell_type": "code",
   "execution_count": 1,
   "metadata": {},
   "outputs": [],
   "source": [
    "import numpy as np\n",
    "import pandas as pd\n",
    "import seaborn as sns\n",
    "import matplotlib.pyplot as plt"
   ]
  },
  {
   "cell_type": "markdown",
   "metadata": {},
   "source": [
    "---"
   ]
  },
  {
   "cell_type": "markdown",
   "metadata": {},
   "source": [
    "# 4. Khám phá & tiền xử lý dữ liệu"
   ]
  },
  {
   "cell_type": "markdown",
   "metadata": {},
   "source": [
    "## Khám phá dữ liệu"
   ]
  },
  {
   "cell_type": "markdown",
   "metadata": {},
   "source": [
    "### Đọc dữ liệu từ file csv vào dataframe"
   ]
  },
  {
   "cell_type": "code",
   "execution_count": 2,
   "metadata": {
    "scrolled": true
   },
   "outputs": [
    {
     "data": {
      "text/html": [
       "<div>\n",
       "<style scoped>\n",
       "    .dataframe tbody tr th:only-of-type {\n",
       "        vertical-align: middle;\n",
       "    }\n",
       "\n",
       "    .dataframe tbody tr th {\n",
       "        vertical-align: top;\n",
       "    }\n",
       "\n",
       "    .dataframe thead th {\n",
       "        text-align: right;\n",
       "    }\n",
       "</style>\n",
       "<table border=\"1\" class=\"dataframe\">\n",
       "  <thead>\n",
       "    <tr style=\"text-align: right;\">\n",
       "      <th></th>\n",
       "      <th>id</th>\n",
       "      <th>Gender</th>\n",
       "      <th>Age</th>\n",
       "      <th>purpose_of_travel</th>\n",
       "      <th>Type of Travel</th>\n",
       "      <th>Type Of Booking</th>\n",
       "      <th>Hotel wifi service</th>\n",
       "      <th>Departure/Arrival  convenience</th>\n",
       "      <th>Ease of Online booking</th>\n",
       "      <th>Hotel location</th>\n",
       "      <th>Food and drink</th>\n",
       "      <th>Stay comfort</th>\n",
       "      <th>Common Room entertainment</th>\n",
       "      <th>Checkin/Checkout service</th>\n",
       "      <th>Other service</th>\n",
       "      <th>Cleanliness</th>\n",
       "      <th>satisfaction</th>\n",
       "    </tr>\n",
       "  </thead>\n",
       "  <tbody>\n",
       "    <tr>\n",
       "      <th>0</th>\n",
       "      <td>70172</td>\n",
       "      <td>Male</td>\n",
       "      <td>13</td>\n",
       "      <td>aviation</td>\n",
       "      <td>Personal Travel</td>\n",
       "      <td>Not defined</td>\n",
       "      <td>3</td>\n",
       "      <td>4</td>\n",
       "      <td>3</td>\n",
       "      <td>1</td>\n",
       "      <td>5</td>\n",
       "      <td>5</td>\n",
       "      <td>5</td>\n",
       "      <td>4</td>\n",
       "      <td>5</td>\n",
       "      <td>5</td>\n",
       "      <td>neutral or dissatisfied</td>\n",
       "    </tr>\n",
       "    <tr>\n",
       "      <th>1</th>\n",
       "      <td>5047</td>\n",
       "      <td>Male</td>\n",
       "      <td>25</td>\n",
       "      <td>tourism</td>\n",
       "      <td>Group Travel</td>\n",
       "      <td>Group bookings</td>\n",
       "      <td>3</td>\n",
       "      <td>2</td>\n",
       "      <td>3</td>\n",
       "      <td>3</td>\n",
       "      <td>1</td>\n",
       "      <td>1</td>\n",
       "      <td>1</td>\n",
       "      <td>1</td>\n",
       "      <td>4</td>\n",
       "      <td>1</td>\n",
       "      <td>neutral or dissatisfied</td>\n",
       "    </tr>\n",
       "    <tr>\n",
       "      <th>2</th>\n",
       "      <td>110028</td>\n",
       "      <td>Female</td>\n",
       "      <td>26</td>\n",
       "      <td>tourism</td>\n",
       "      <td>Group Travel</td>\n",
       "      <td>Group bookings</td>\n",
       "      <td>2</td>\n",
       "      <td>2</td>\n",
       "      <td>2</td>\n",
       "      <td>2</td>\n",
       "      <td>5</td>\n",
       "      <td>5</td>\n",
       "      <td>5</td>\n",
       "      <td>4</td>\n",
       "      <td>4</td>\n",
       "      <td>5</td>\n",
       "      <td>satisfied</td>\n",
       "    </tr>\n",
       "    <tr>\n",
       "      <th>3</th>\n",
       "      <td>24026</td>\n",
       "      <td>Female</td>\n",
       "      <td>25</td>\n",
       "      <td>tourism</td>\n",
       "      <td>Group Travel</td>\n",
       "      <td>Group bookings</td>\n",
       "      <td>2</td>\n",
       "      <td>5</td>\n",
       "      <td>5</td>\n",
       "      <td>5</td>\n",
       "      <td>2</td>\n",
       "      <td>2</td>\n",
       "      <td>2</td>\n",
       "      <td>1</td>\n",
       "      <td>4</td>\n",
       "      <td>2</td>\n",
       "      <td>neutral or dissatisfied</td>\n",
       "    </tr>\n",
       "    <tr>\n",
       "      <th>4</th>\n",
       "      <td>119299</td>\n",
       "      <td>Male</td>\n",
       "      <td>61</td>\n",
       "      <td>aviation</td>\n",
       "      <td>Group Travel</td>\n",
       "      <td>Group bookings</td>\n",
       "      <td>3</td>\n",
       "      <td>3</td>\n",
       "      <td>3</td>\n",
       "      <td>3</td>\n",
       "      <td>4</td>\n",
       "      <td>5</td>\n",
       "      <td>3</td>\n",
       "      <td>3</td>\n",
       "      <td>3</td>\n",
       "      <td>3</td>\n",
       "      <td>satisfied</td>\n",
       "    </tr>\n",
       "  </tbody>\n",
       "</table>\n",
       "</div>"
      ],
      "text/plain": [
       "       id  Gender  Age purpose_of_travel   Type of Travel Type Of Booking  \\\n",
       "0   70172    Male   13          aviation  Personal Travel     Not defined   \n",
       "1    5047    Male   25           tourism     Group Travel  Group bookings   \n",
       "2  110028  Female   26           tourism     Group Travel  Group bookings   \n",
       "3   24026  Female   25           tourism     Group Travel  Group bookings   \n",
       "4  119299    Male   61          aviation     Group Travel  Group bookings   \n",
       "\n",
       "   Hotel wifi service  Departure/Arrival  convenience  Ease of Online booking  \\\n",
       "0                   3                               4                       3   \n",
       "1                   3                               2                       3   \n",
       "2                   2                               2                       2   \n",
       "3                   2                               5                       5   \n",
       "4                   3                               3                       3   \n",
       "\n",
       "   Hotel location  Food and drink  Stay comfort  Common Room entertainment  \\\n",
       "0               1               5             5                          5   \n",
       "1               3               1             1                          1   \n",
       "2               2               5             5                          5   \n",
       "3               5               2             2                          2   \n",
       "4               3               4             5                          3   \n",
       "\n",
       "   Checkin/Checkout service  Other service  Cleanliness  \\\n",
       "0                         4              5            5   \n",
       "1                         1              4            1   \n",
       "2                         4              4            5   \n",
       "3                         1              4            2   \n",
       "4                         3              3            3   \n",
       "\n",
       "              satisfaction  \n",
       "0  neutral or dissatisfied  \n",
       "1  neutral or dissatisfied  \n",
       "2                satisfied  \n",
       "3  neutral or dissatisfied  \n",
       "4                satisfied  "
      ]
     },
     "execution_count": 2,
     "metadata": {},
     "output_type": "execute_result"
    }
   ],
   "source": [
    "# ehs là viết tắt của europe hotel satisfaction\n",
    "ehs_df = pd.read_csv('./data/Europe Hotel Booking Satisfaction Score.csv')\n",
    "ehs_df.head()"
   ]
  },
  {
   "cell_type": "markdown",
   "metadata": {},
   "source": [
    "### Dữ liệu gồm có bao nhiêu dòng và bao nhiêu cột?"
   ]
  },
  {
   "cell_type": "code",
   "execution_count": 3,
   "metadata": {},
   "outputs": [
    {
     "name": "stdout",
     "output_type": "stream",
     "text": [
      "Number of rows: 103904\n",
      "Number of cols: 17\n"
     ]
    }
   ],
   "source": [
    "num_rows,num_cols = ehs_df.shape\n",
    "print(f'Number of rows: {num_rows}')\n",
    "print(f'Number of cols: {num_cols}')"
   ]
  },
  {
   "cell_type": "markdown",
   "metadata": {},
   "source": [
    "Vậy là dữ liệu được thu thập hơn 100 nghìn dòng (có thể tồn tại các dòng bị trùng nhau) với khoảng 15 thuộc tính được khảo sát."
   ]
  },
  {
   "cell_type": "markdown",
   "metadata": {},
   "source": [
    "### Mỗi dòng có ý nghĩa gì? Có vấn đề các dòng có ý nghĩa khác nhau không?"
   ]
  },
  {
   "cell_type": "markdown",
   "metadata": {},
   "source": [
    "Theo mô tả của file dữ liệu và theo quan sát sơ bộ thì mỗi dòng đại diện cho một khảo sát của một người cụ thể với các dịch vụ của khách sạn, và nhìn chung thì em hy vọng là không có dòng nào có ý nghĩa khác với những dòng còn lại (nếu có thì trong quá trình khám phá và phân tích, ta có thể lược bỏ các dòng này sau)."
   ]
  },
  {
   "cell_type": "markdown",
   "metadata": {},
   "source": [
    "### Dữ liệu có các dòng bị lặp không?"
   ]
  },
  {
   "cell_type": "code",
   "execution_count": 4,
   "metadata": {},
   "outputs": [
    {
     "name": "stdout",
     "output_type": "stream",
     "text": [
      "Duplicated rows in dataframe: 0\n"
     ]
    }
   ],
   "source": [
    "print(f'Duplicated rows in dataframe: {ehs_df.duplicated().sum()}')"
   ]
  },
  {
   "cell_type": "markdown",
   "metadata": {},
   "source": [
    "Okay, theo như kết quả của của dòng code phía trên thì dataframe của ta không tồn tại các dòng bị trùng nhau, ta có thể tiếp tục khám phá mà không cần ở lại xử lý vấn đề bị lặp dòng này."
   ]
  },
  {
   "cell_type": "markdown",
   "metadata": {},
   "source": [
    "### Mỗi cột có ý nghĩa gì?"
   ]
  },
  {
   "cell_type": "markdown",
   "metadata": {},
   "source": [
    "Tuy phần thông tin mô tả dữ liệu đã đề cập đến tên các cột và giá trị của các cột này, nhưng nó không đề cập đến ý nghĩa của tên cột nên em nghĩ là sẽ giải đáp một cách khá tương đối về vấn đề này và hy vọng là không có sự hiểu nhầm ở đây 😉.\n",
    "\n",
    "Sau đây là ý nghĩa của các cột và các giá trị (được trích từ thông tin mô tả dữ liệu, các dòng không để giá trị ở dưới đây mặc định là điểm ratings từ 0-5):\n",
    "\n",
    "|Thuộc tính|    Ý nghĩa   |\n",
    "|:--------:|:-----:|\n",
    "|**id**|ID của survey||\n",
    "|**Gender**|Giới tính người thực hiện survey|\n",
    "|**Age**|Tuổi của đối tượng khảo sát (từ 7-85)| \n",
    "|**purpose_of_travel**|Mục đích của chuyến đi trong lúc sử dụng khách sạn (gồm aviation, academic, personal, business, tourism)|\n",
    "|**type_of_travel**|Loại chuyến đi (gồm Group travel, Personal Travel)|\n",
    "|**Type of Booking**|Loại đặt phòng (gồm Group bookings, Individual/Couple)|\n",
    "|**Hotel wifi service**|Wifi của khách sạn|\n",
    "|**Departure/Arrival  convenience**|Tiện nghi khi đến|\n",
    "|**Ease of Online booking**|Thoải mái booking online|\n",
    "|**Hotel location**|Địa điểm hotel|\n",
    "|**Food and drink**|Thức ăn và đồ uống|\n",
    "|**Stay comfort**|Chỗ ở thoải mái|\n",
    "|**Common Room entertainment**|Phòng giải trí chung|\n",
    "|**Checkin/Checkout service**|Dịch vụ check in/ check out|\n",
    "|**Other service**|Dịch vụ khác|\n",
    "|**Cleanliness**|Sạch sẽ|\n",
    "|**satisfaction**|Độ hài lòng của khách (gồm satisfied, neutral or dissatisfied)|"
   ]
  },
  {
   "cell_type": "markdown",
   "metadata": {},
   "source": [
    "### Mỗi cột hiện đang có kiểu dữ liệu gì? Có cột nào có kiểu dữ liệu chưa phù hợp để có thể xử lý tiếp không?"
   ]
  },
  {
   "cell_type": "markdown",
   "metadata": {},
   "source": [
    "Trước khi xem kiểu dữ liệu của các cột, ta cần format tên cột theo một chuẩn nhất định để dễ thao tác hơn. Chuẩn được đặt ra ở đây đó chính là viết thường các ký tự tên cột và thay thế khoảng trắng bằng dấu gạch dưới (underscore)"
   ]
  },
  {
   "cell_type": "code",
   "execution_count": 5,
   "metadata": {},
   "outputs": [
    {
     "data": {
      "text/plain": [
       "Index(['id', 'gender', 'age', 'purpose_of_travel', 'type_of_travel',\n",
       "       'type_of_booking', 'hotel_wifi_service',\n",
       "       'departure_arrival_convenience', 'ease_of_online_booking',\n",
       "       'hotel_location', 'food_and_drink', 'stay_comfort',\n",
       "       'common_room_entertainment', 'checkin_checkout_service',\n",
       "       'other_service', 'cleanliness', 'satisfaction'],\n",
       "      dtype='object')"
      ]
     },
     "execution_count": 5,
     "metadata": {},
     "output_type": "execute_result"
    }
   ],
   "source": [
    "def convert_name(old_name):\n",
    "    new_name = old_name.lower()\n",
    "    new_name = new_name.replace('  ', '_')\n",
    "    new_name = new_name.replace(' ', '_')\n",
    "    new_name = new_name.replace('/', '_')\n",
    "    return new_name\n",
    "\n",
    "ehs_df.rename(columns=convert_name, inplace=True)\n",
    "ehs_df.columns"
   ]
  },
  {
   "cell_type": "code",
   "execution_count": 6,
   "metadata": {
    "scrolled": true
   },
   "outputs": [
    {
     "data": {
      "text/plain": [
       "id                                int64\n",
       "gender                           object\n",
       "age                               int64\n",
       "purpose_of_travel                object\n",
       "type_of_travel                   object\n",
       "type_of_booking                  object\n",
       "hotel_wifi_service                int64\n",
       "departure_arrival_convenience     int64\n",
       "ease_of_online_booking            int64\n",
       "hotel_location                    int64\n",
       "food_and_drink                    int64\n",
       "stay_comfort                      int64\n",
       "common_room_entertainment         int64\n",
       "checkin_checkout_service          int64\n",
       "other_service                     int64\n",
       "cleanliness                       int64\n",
       "satisfaction                     object\n",
       "dtype: object"
      ]
     },
     "execution_count": 6,
     "metadata": {},
     "output_type": "execute_result"
    }
   ],
   "source": [
    "col_dtypes = ehs_df.dtypes\n",
    "col_dtypes"
   ]
  },
  {
   "cell_type": "markdown",
   "metadata": {},
   "source": [
    "Hiện tại thì `ehs_df` chỉ có 5 cột có `dtype` là `object`: \"gender\", \"purpose_of_travel\", \"type_of_travel\", \"type_of_booking\", \"satisfaction\". Chúng ta sẽ thử xem các cột này đang giữ các kiểu dữ liệu nào."
   ]
  },
  {
   "cell_type": "code",
   "execution_count": 7,
   "metadata": {},
   "outputs": [
    {
     "name": "stdout",
     "output_type": "stream",
     "text": [
      "gender: {<class 'str'>}\n",
      "purpose_of_travel: {<class 'str'>}\n",
      "type_of_travel: {<class 'str'>}\n",
      "type_of_booking: {<class 'str'>}\n",
      "satisfaction: {<class 'str'>}\n"
     ]
    }
   ],
   "source": [
    "def open_object_dtype(s):\n",
    "    return set(s.apply(type))\n",
    "\n",
    "obj_cols_name = [\"gender\", \"purpose_of_travel\",\n",
    "                 \"type_of_travel\", \"type_of_booking\", \"satisfaction\"]\n",
    "\n",
    "for col_name in obj_cols_name:\n",
    "    print(f\"{col_name}: {open_object_dtype(ehs_df[col_name])}\")"
   ]
  },
  {
   "cell_type": "markdown",
   "metadata": {},
   "source": [
    "**Vấn đề cần tiền xử lý:**\n",
    "- Cột Type Of Booking có giá trị là Not defined tương tự với việc đánh dấu giá trị thiếu, nên cần phải điền vào những ô có giá trị này."
   ]
  },
  {
   "cell_type": "markdown",
   "metadata": {
    "heading_collapsed": true
   },
   "source": [
    "## Tiền xử lý"
   ]
  },
  {
   "cell_type": "markdown",
   "metadata": {
    "hidden": true
   },
   "source": [
    "**Thay thế những ô có giá trị Not defined trong cột Type of booking**\n",
    "\n",
    "*Phương pháp:*\n",
    "- Thay thế giá trị Not defined bằng 2 giá trị còn lại trong cột Type of booking bằng phương pháp max similarity (độ tương tự lớn nhất)"
   ]
  },
  {
   "cell_type": "raw",
   "metadata": {
    "hidden": true
   },
   "source": [
    "# Chuyển hết giá trị Not defined thành NaN\n",
    "ehs_df.loc[ehs_df['type_of_booking'] == 'Not defined', 'type_of_booking'] = np.nan"
   ]
  },
  {
   "cell_type": "raw",
   "metadata": {
    "hidden": true
   },
   "source": [
    "# Chuẩn hóa các cột Categorical thành cột có dạng số\n",
    "\n",
    "ehs_df['gender'] = ehs_df['gender'].replace(['Male'],1)\n",
    "ehs_df['gender'] =ehs_df['gender'].replace(['Female'],2)\n",
    "\n",
    "ehs_df['type_of_travel'] = ehs_df['type_of_travel'].replace(['Personal Travel'],1)\n",
    "ehs_df['type_of_travel'] = ehs_df['type_of_travel'].replace(['Group Travel'],2)\n",
    "\n",
    "ehs_df['satisfaction'] = ehs_df['satisfaction'].replace(['neutral or dissatisfied'],0)\n",
    "ehs_df['satisfaction'] = ehs_df['satisfaction'].replace(['satisfied'],1)\n",
    "ehs_df['type_of_booking'] = ehs_df['type_of_booking'].replace(['Individual/Couple'],1)\n",
    "ehs_df['type_of_booking'] = ehs_df['type_of_booking'].replace(['Group bookings'],2)\n",
    "\n",
    "ehs_df['purpose_of_travel'] = ehs_df['purpose_of_travel'].replace(['tourism'],5)\n",
    "ehs_df['purpose_of_travel'] = ehs_df['purpose_of_travel'].replace(['academic'],4)\n",
    "ehs_df['purpose_of_travel'] = ehs_df['purpose_of_travel'].replace(['business'],3)\n",
    "ehs_df['purpose_of_travel'] = ehs_df['purpose_of_travel'].replace(['aviation'],2)\n",
    "ehs_df['purpose_of_travel'] = ehs_df['purpose_of_travel'].replace(['personal'],1)"
   ]
  },
  {
   "cell_type": "raw",
   "metadata": {
    "hidden": true
   },
   "source": [
    "sample_df_isnan=ehs_df[ehs_df['type_of_booking'].isna()]\n",
    "sample_df_isnan"
   ]
  },
  {
   "cell_type": "markdown",
   "metadata": {
    "hidden": true
   },
   "source": [
    "Có tổng cộng 7494 dòng cần điền.  \n",
    "Do số lượng dữ liệu quá nhiều dẫn đến tốn nhiều trong lúc thực hiện nên nhóm sẽ lấy mẫu bao gồm 1000 dòng không chứa giá trị NaN để suy ra giá trị NaN.  \n",
    "Lấy random mẫu số lượng 1000 dòng không chứa giá trị NaN và nối vào dataframe chứa giá trị NaN ở trên."
   ]
  },
  {
   "cell_type": "raw",
   "metadata": {
    "hidden": true
   },
   "source": [
    "sample_df=ehs_df[~ehs_df['type_of_booking'].isna()]\n",
    "sample_df=sample_df.sample(frac=0.01, random_state=30).reset_index(drop=True)\n",
    "sample_df1=pd.concat((sample_df_isnan,sample_df),axis=0).reset_index(drop=True)\n",
    "sample_df1"
   ]
  },
  {
   "cell_type": "raw",
   "metadata": {
    "hidden": true,
    "scrolled": true
   },
   "source": [
    "# Đưa dữ liệu của dataframe về numpy array để bắt đầu xử lý tính độ tương tự lớn nhất\n",
    "ratings=sample_df1.drop('id',axis=1)\n",
    "ratings['type_of_booking']=pd.to_numeric(ratings['type_of_booking'])\n",
    "ratings=ratings.astype('float64')\n",
    "ratings=np.array(ratings.iloc[:,:])\n",
    "ratings"
   ]
  },
  {
   "cell_type": "raw",
   "metadata": {
    "hidden": true
   },
   "source": [
    "# Tiến hành tính giá trị cần điền bằng độ tương tự lớn nhất\n",
    "batch_size = 32\n",
    "filled_ratings = np.empty_like(ratings)\n",
    "start = 0\n",
    "end = batch_size\n",
    "new_ratings=np.tile(ratings,(batch_size,1))\n",
    "while(1):\n",
    "    if (start>=len(ratings)):\n",
    "        break\n",
    "    r=ratings[start:end,:]\n",
    "    if batch_size != 32:\n",
    "        new_ratings=np.tile(ratings,(batch_size,1))\n",
    "    r= np.repeat(r, repeats=len(ratings), axis=0)\n",
    "    a=np.abs(new_ratings[:,:] -r)\n",
    "    #Tao similarities\n",
    "    similarities=np.zeros((batch_size,len(ratings)))\n",
    "    startRow=0\n",
    "    for ind in range(batch_size):\n",
    "        similarities[ind]=(1/(np.nanmean(a[startRow:startRow+len(ratings)],axis=1)+0.001))\n",
    "        startRow+=len(ratings)\n",
    "    similarities=np.nan_to_num(similarities,nan=0) \n",
    "    weights=np.zeros((batch_size,len(ratings),ratings.shape[1]))\n",
    "    for ind in range(batch_size):\n",
    "        normalize_w=~np.isnan(ratings)*similarities[ind].reshape(-1,1)\n",
    "        weights[ind]=normalize_w/normalize_w.sum(axis=0)\n",
    "    filled_ratingsBatch=np.nansum(ratings*weights,axis=1)\n",
    "    filled_ratings[start:end]=filled_ratingsBatch\n",
    "    start=end\n",
    "    end=start+batch_size\n",
    "    if(end>len(ratings)):\n",
    "        end=len(ratings)\n",
    "        batch_size=end-start"
   ]
  },
  {
   "cell_type": "raw",
   "metadata": {
    "hidden": true
   },
   "source": [
    "filled_nanvals = filled_ratings[np.isnan(ratings)].round(0)\n",
    "sample_df_isnan.loc[:,'type_of_booking']=filled_nanvals\n",
    "ehs_df=ehs_df[~ehs_df['type_of_booking'].isna()]\n",
    "# sample_df=pd.concat((sample_df,sample_df_isnan),axis=0).reset_index(drop=True)\n",
    "ehs_df=pd.concat((sample_df_isnan,ehs_df),ignore_index=True,axis=0)\n",
    "ehs_df=ehs_df.sample(frac=1, random_state=42).reset_index(drop=True)\n",
    "ehs_df"
   ]
  },
  {
   "cell_type": "raw",
   "metadata": {
    "hidden": true
   },
   "source": [
    "# Kiểm tra còn dòng NaN không\n",
    "ehs_df[ehs_df['type_of_booking'].isna()]"
   ]
  },
  {
   "cell_type": "markdown",
   "metadata": {
    "hidden": true
   },
   "source": [
    "Dữ liệu đã được điền đầy đủ."
   ]
  },
  {
   "cell_type": "markdown",
   "metadata": {
    "hidden": true
   },
   "source": [
    "---"
   ]
  },
  {
   "cell_type": "markdown",
   "metadata": {},
   "source": [
    "## Khám phá dữ liệu (tiếp tục)"
   ]
  },
  {
   "cell_type": "markdown",
   "metadata": {},
   "source": [
    "### Với mỗi cột có kiểu dữ liệu dạng numeric, các giá trị được phân bố như thế nào?"
   ]
  },
  {
   "cell_type": "markdown",
   "metadata": {},
   "source": [
    "Sau khi thực hiện bước tiền xử lý phía trên thì ta xếp 11 cột sau vào nhóm numeric: \"age\", \"hotel_wifi_service\", \"departure_arrival_convenience\", \"ease_of_online_booking\", \"hotel_location\", \"food_and_drink\", \"stay_comfort\", \"common_room_entertainment\", \"checkin_checkout_service\", \"other_service\", \"cleanliness\".\n",
    "\n",
    "Các cột còn lại mặc dù có kiểu số nhưng thật ra có dạng categorical (vì là mã được đánh dưới dạng số). Như vậy, chỉ có 11 cột numeric và các cột ngoại trừ \"age\" đều là thang điểm từ 0-5.\n",
    "\n",
    "Với mỗi cột numeric ta sẽ tính tỉ lệ % giá trị thiếu (từ 0 đến 100), min, max và lưu kết quả vào dataframe nume_col_profiles_df. Dataframe này có 4 dòng là \"missing_ratio\", \"min\", \"mean\", \"max\"; và có 11 cột có tên được nêu ở trên."
   ]
  },
  {
   "cell_type": "code",
   "execution_count": 8,
   "metadata": {
    "scrolled": true
   },
   "outputs": [
    {
     "data": {
      "text/html": [
       "<div>\n",
       "<style scoped>\n",
       "    .dataframe tbody tr th:only-of-type {\n",
       "        vertical-align: middle;\n",
       "    }\n",
       "\n",
       "    .dataframe tbody tr th {\n",
       "        vertical-align: top;\n",
       "    }\n",
       "\n",
       "    .dataframe thead th {\n",
       "        text-align: right;\n",
       "    }\n",
       "</style>\n",
       "<table border=\"1\" class=\"dataframe\">\n",
       "  <thead>\n",
       "    <tr style=\"text-align: right;\">\n",
       "      <th></th>\n",
       "      <th>age</th>\n",
       "      <th>hotel_wifi_service</th>\n",
       "      <th>departure_arrival_convenience</th>\n",
       "      <th>ease_of_online_booking</th>\n",
       "      <th>hotel_location</th>\n",
       "      <th>food_and_drink</th>\n",
       "      <th>stay_comfort</th>\n",
       "      <th>common_room_entertainment</th>\n",
       "      <th>checkin_checkout_service</th>\n",
       "      <th>other_service</th>\n",
       "      <th>cleanliness</th>\n",
       "    </tr>\n",
       "  </thead>\n",
       "  <tbody>\n",
       "    <tr>\n",
       "      <th>missing_ratio</th>\n",
       "      <td>0.000000</td>\n",
       "      <td>0.000000</td>\n",
       "      <td>0.000000</td>\n",
       "      <td>0.000000</td>\n",
       "      <td>0.000000</td>\n",
       "      <td>0.000000</td>\n",
       "      <td>0.000000</td>\n",
       "      <td>0.000000</td>\n",
       "      <td>0.00000</td>\n",
       "      <td>0.000000</td>\n",
       "      <td>0.000000</td>\n",
       "    </tr>\n",
       "    <tr>\n",
       "      <th>min</th>\n",
       "      <td>7.000000</td>\n",
       "      <td>0.000000</td>\n",
       "      <td>0.000000</td>\n",
       "      <td>0.000000</td>\n",
       "      <td>0.000000</td>\n",
       "      <td>0.000000</td>\n",
       "      <td>0.000000</td>\n",
       "      <td>0.000000</td>\n",
       "      <td>0.00000</td>\n",
       "      <td>0.000000</td>\n",
       "      <td>0.000000</td>\n",
       "    </tr>\n",
       "    <tr>\n",
       "      <th>mean</th>\n",
       "      <td>39.379706</td>\n",
       "      <td>2.729683</td>\n",
       "      <td>3.060296</td>\n",
       "      <td>2.756901</td>\n",
       "      <td>2.976883</td>\n",
       "      <td>3.202129</td>\n",
       "      <td>3.439396</td>\n",
       "      <td>3.358158</td>\n",
       "      <td>3.30429</td>\n",
       "      <td>3.640428</td>\n",
       "      <td>3.286351</td>\n",
       "    </tr>\n",
       "    <tr>\n",
       "      <th>max</th>\n",
       "      <td>85.000000</td>\n",
       "      <td>5.000000</td>\n",
       "      <td>5.000000</td>\n",
       "      <td>5.000000</td>\n",
       "      <td>5.000000</td>\n",
       "      <td>5.000000</td>\n",
       "      <td>5.000000</td>\n",
       "      <td>5.000000</td>\n",
       "      <td>5.00000</td>\n",
       "      <td>5.000000</td>\n",
       "      <td>5.000000</td>\n",
       "    </tr>\n",
       "  </tbody>\n",
       "</table>\n",
       "</div>"
      ],
      "text/plain": [
       "                     age  hotel_wifi_service  departure_arrival_convenience  \\\n",
       "missing_ratio   0.000000            0.000000                       0.000000   \n",
       "min             7.000000            0.000000                       0.000000   \n",
       "mean           39.379706            2.729683                       3.060296   \n",
       "max            85.000000            5.000000                       5.000000   \n",
       "\n",
       "               ease_of_online_booking  hotel_location  food_and_drink  \\\n",
       "missing_ratio                0.000000        0.000000        0.000000   \n",
       "min                          0.000000        0.000000        0.000000   \n",
       "mean                         2.756901        2.976883        3.202129   \n",
       "max                          5.000000        5.000000        5.000000   \n",
       "\n",
       "               stay_comfort  common_room_entertainment  \\\n",
       "missing_ratio      0.000000                   0.000000   \n",
       "min                0.000000                   0.000000   \n",
       "mean               3.439396                   3.358158   \n",
       "max                5.000000                   5.000000   \n",
       "\n",
       "               checkin_checkout_service  other_service  cleanliness  \n",
       "missing_ratio                   0.00000       0.000000     0.000000  \n",
       "min                             0.00000       0.000000     0.000000  \n",
       "mean                            3.30429       3.640428     3.286351  \n",
       "max                             5.00000       5.000000     5.000000  "
      ]
     },
     "execution_count": 8,
     "metadata": {},
     "output_type": "execute_result"
    }
   ],
   "source": [
    "def missing_ratio(s):\n",
    "    return s.isna().mean() * 100\n",
    "\n",
    "cate_col_name = [\"id\", \"gender\", \"purpose_of_travel\", \"type_of_travel\", \"type_of_booking\", \"satisfaction\"]\n",
    "nume_col_idx = ehs_df.columns.drop(cate_col_name)\n",
    "nume_col_df = ehs_df[nume_col_idx]\n",
    "nume_col_profiles_df = nume_col_df.agg([missing_ratio, pd.Series.min,pd.Series.mean, pd.Series.max])\n",
    "\n",
    "nume_col_profiles_df"
   ]
  },
  {
   "cell_type": "markdown",
   "metadata": {},
   "source": [
    "**Nhận xét các dữ liệu số:**\n",
    "- Độ tuổi trung bình của người thực hiện khảo sát là 39 tuổi, nhỏ nhất là 7 tuổi, lớn nhất là 85 tuổi \n",
    "- Các chỉ số đánh giá mức độ hài lòng từ 0 đến 5\n",
    "- Các giá trị trung bình của chỉ số đánh giá nằm từ 2 đến 3, nhìn chung cũng khá cân bằng"
   ]
  },
  {
   "cell_type": "markdown",
   "metadata": {},
   "source": [
    "Ta sẽ xem rõ hơn về sự phân bố của các giá trị trong mỗi cột có kiểu là numeric bằng hàm plot_hist_cols với hai tham số truyền vào là dataframe và số cột."
   ]
  },
  {
   "cell_type": "code",
   "execution_count": 9,
   "metadata": {},
   "outputs": [],
   "source": [
    "def plot_hist_cols(df, num_graph_per_row):\n",
    "    n_rows, n_cols = df.shape\n",
    "    col_names = list(df.columns)\n",
    "    n_rows_graph = (n_cols + num_graph_per_row - 1) / num_graph_per_row\n",
    "    \n",
    "    plt.figure(\n",
    "        figsize = (6 * num_graph_per_row,  6 * n_rows_graph),\n",
    "        dpi = 80,\n",
    "    )\n",
    "    \n",
    "    for i in range(n_cols):\n",
    "        plt.subplot(int(n_rows_graph), num_graph_per_row, i + 1)\n",
    "        col_i = df.iloc[:, i]\n",
    "        \n",
    "        if (not np.issubdtype(type(col_i.iloc[0]), np.number)):\n",
    "            val_counts = col_i.value_counts()\n",
    "            plt.xticks(rotation = 90)\n",
    "            val_counts.plot.bar()\n",
    "        else:\n",
    "            nunique_col_i = col_i.nunique()\n",
    "            bins = nunique_col_i if (nunique_col_i < 10) else 10\n",
    "            col_i.hist(bins=bins)\n",
    "        \n",
    "        plt.ylabel('counts')\n",
    "        plt.title(f'{col_names[i]}')\n",
    "        \n",
    "    plt.tight_layout(pad=0.4, w_pad=0.5, h_pad=1.0)\n",
    "    plt.show()"
   ]
  },
  {
   "cell_type": "code",
   "execution_count": 10,
   "metadata": {},
   "outputs": [
    {
     "data": {
      "image/png": "[encoded data removed]",
      "text/plain": [
       "<Figure size 1920x1680 with 11 Axes>"
      ]
     },
     "metadata": {
      "needs_background": "light"
     },
     "output_type": "display_data"
    }
   ],
   "source": [
    "plot_hist_cols(nume_col_df, 4)"
   ]
  },
  {
   "cell_type": "markdown",
   "metadata": {},
   "source": [
    "**Nhận xét:**\n",
    "- Gender: có 2 loại nam, nữ\n",
    "- Purpose_of_travel: có 5 giá trị aviation(hàng không), tourism(theo tour), business(công việc), academic(trường học), personal(cá nhân)\n",
    "- Type of travel: Personal Travel(cá nhân), Group Travel(theo nhóm)\n",
    "- Type of booking: Not defined(không xác định), Group bookings(theo nhóm), Individual/Couple(cá nhân/ cặp đôi)\n",
    "- Satisfaction: neutral or dissatisfied(bình thường hoặc không hài lòng), satisfied(hài lòng)"
   ]
  },
  {
   "cell_type": "markdown",
   "metadata": {},
   "source": [
    "### Với mỗi cột có kiểu dữ liệu dạng categorical, các giá trị được phân bố như thế nào?"
   ]
  },
  {
   "cell_type": "markdown",
   "metadata": {},
   "source": [
    "`ehs_df` có 5 cột categorical là \"id\", \"gender\", \"purpose_of_travel\", \"type_of_travel\", \"type_of_booking\".\n",
    "\n",
    "Với mỗi cột categorical, ta tính tỉ lệ % giá trị thiếu (từ 0 đến 100), số lượng giá trị khác nhau (không xét giá trị thiếu), list/array các giá trị khác nhau (không xét giá trị thiếu), và lưu kết quả vào dataframe cate_col_profiles_df. Dataframe này có 3 dòng là \"missing_ratio\", \"num_diff_vals\", \"diff_vals\"; và có 5 cột là \"id\", \"gender\", \"purpose_of_travel\", \"type_of_travel\", \"type_of_booking\"."
   ]
  },
  {
   "cell_type": "code",
   "execution_count": 11,
   "metadata": {},
   "outputs": [
    {
     "data": {
      "text/html": [
       "<div>\n",
       "<style scoped>\n",
       "    .dataframe tbody tr th:only-of-type {\n",
       "        vertical-align: middle;\n",
       "    }\n",
       "\n",
       "    .dataframe tbody tr th {\n",
       "        vertical-align: top;\n",
       "    }\n",
       "\n",
       "    .dataframe thead th {\n",
       "        text-align: right;\n",
       "    }\n",
       "</style>\n",
       "<table border=\"1\" class=\"dataframe\">\n",
       "  <thead>\n",
       "    <tr style=\"text-align: right;\">\n",
       "      <th></th>\n",
       "      <th>id</th>\n",
       "      <th>gender</th>\n",
       "      <th>purpose_of_travel</th>\n",
       "      <th>type_of_travel</th>\n",
       "      <th>type_of_booking</th>\n",
       "      <th>satisfaction</th>\n",
       "    </tr>\n",
       "  </thead>\n",
       "  <tbody>\n",
       "    <tr>\n",
       "      <th>missing_ratio</th>\n",
       "      <td>0.0</td>\n",
       "      <td>0.0</td>\n",
       "      <td>0.0</td>\n",
       "      <td>0.0</td>\n",
       "      <td>0.0</td>\n",
       "      <td>0.0</td>\n",
       "    </tr>\n",
       "    <tr>\n",
       "      <th>num_diff_vals</th>\n",
       "      <td>103904</td>\n",
       "      <td>2</td>\n",
       "      <td>5</td>\n",
       "      <td>2</td>\n",
       "      <td>3</td>\n",
       "      <td>2</td>\n",
       "    </tr>\n",
       "    <tr>\n",
       "      <th>diff_vals</th>\n",
       "      <td>[70172, 5047, 110028, 24026, 119299, 111157, 8...</td>\n",
       "      <td>[Male, Female]</td>\n",
       "      <td>[aviation, tourism, business, academic, personal]</td>\n",
       "      <td>[Personal Travel, Group Travel]</td>\n",
       "      <td>[Not defined, Group bookings, Individual/Couple]</td>\n",
       "      <td>[neutral or dissatisfied, satisfied]</td>\n",
       "    </tr>\n",
       "  </tbody>\n",
       "</table>\n",
       "</div>"
      ],
      "text/plain": [
       "                                                              id  \\\n",
       "missing_ratio                                                0.0   \n",
       "num_diff_vals                                             103904   \n",
       "diff_vals      [70172, 5047, 110028, 24026, 119299, 111157, 8...   \n",
       "\n",
       "                       gender  \\\n",
       "missing_ratio             0.0   \n",
       "num_diff_vals               2   \n",
       "diff_vals      [Male, Female]   \n",
       "\n",
       "                                               purpose_of_travel  \\\n",
       "missing_ratio                                                0.0   \n",
       "num_diff_vals                                                  5   \n",
       "diff_vals      [aviation, tourism, business, academic, personal]   \n",
       "\n",
       "                                type_of_travel  \\\n",
       "missing_ratio                              0.0   \n",
       "num_diff_vals                                2   \n",
       "diff_vals      [Personal Travel, Group Travel]   \n",
       "\n",
       "                                                type_of_booking  \\\n",
       "missing_ratio                                               0.0   \n",
       "num_diff_vals                                                 3   \n",
       "diff_vals      [Not defined, Group bookings, Individual/Couple]   \n",
       "\n",
       "                                       satisfaction  \n",
       "missing_ratio                                   0.0  \n",
       "num_diff_vals                                     2  \n",
       "diff_vals      [neutral or dissatisfied, satisfied]  "
      ]
     },
     "execution_count": 11,
     "metadata": {},
     "output_type": "execute_result"
    }
   ],
   "source": [
    "cate_col_df = ehs_df[cate_col_name]\n",
    "\n",
    "cate_col_profiles_df = cate_col_df.agg([missing_ratio, pd.Series.nunique, pd.Series.unique])\n",
    "\n",
    "cate_col_profiles_df.rename(\n",
    "    index={'nunique': 'num_diff_vals', 'unique': \"diff_vals\"},\n",
    "    inplace=True\n",
    ")\n",
    "\n",
    "cate_col_profiles_df"
   ]
  },
  {
   "cell_type": "markdown",
   "metadata": {},
   "source": [
    "Ta sẽ xem rõ hơn về sự phân bố của các giá trị trong mỗi cột có kiểu là categorical"
   ]
  },
  {
   "cell_type": "code",
   "execution_count": 12,
   "metadata": {},
   "outputs": [
    {
     "data": {
      "image/png": "[encoded data removed]",
      "text/plain": [
       "<Figure size 1440x1280 with 6 Axes>"
      ]
     },
     "metadata": {
      "needs_background": "light"
     },
     "output_type": "display_data"
    }
   ],
   "source": [
    "plot_hist_cols(cate_col_df, 3)"
   ]
  },
  {
   "cell_type": "markdown",
   "metadata": {},
   "source": [
    "---"
   ]
  },
  {
   "cell_type": "markdown",
   "metadata": {
    "heading_collapsed": true
   },
   "source": [
    "# 5. Đưa ra các câu hỏi cần trả lời"
   ]
  },
  {
   "cell_type": "markdown",
   "metadata": {
    "hidden": true
   },
   "source": [
    "#### Câu 1: Mục đích chuyến đi có sự đánh giá độ hài lòng khác nhau như thế nào?\n",
    "Trả lời được câu hỏi này sẽ cho ta biết được các tiêu chí trong mục đích chuyến đi để chuẩn bị tốt hơn cho các hợp đồng của công ty với khách sạn sau này.\n",
    "\n",
    "#### Câu 2: Các yếu tố ảnh hưởng đến sự hài lòng giữa nam và nữ khác nhau như thế nào?\n",
    "Trả lời được câu hỏi này để khách sạn cần chú ý hơn vào phụ nữ để tăng doanh thu, vì phụ nữ thường là người đứng ra chi trả các khoảng phí.\n",
    "\n",
    "#### Câu 3: Trong tất cả các yếu tố được chấm điểm, những yếu tố nào quan trọng nhất để một khách sạn sẽ được đánh giá hài lòng? \n",
    "Trả lời được câu hỏi này để nếu ở Việt Nam muốn mở một khách sạn thì sẽ tham khảo những yếu tố này để cải thiện, nâng cấp.\n",
    "\n",
    "#### Câu 4: Độ tuổi của khách hàng đối với từng mục đích chuyến đi ảnh hưởng như thế nào đến sự hài lòng?\n",
    "Trả lời được câu hỏi này sẽ giúp khách sạn có những phương án phù hợp tùy theo độ tuổi và mục đích chuyến đi để phát triển, đáp ứng nhu cầu của khách hàng.\n",
    "\n",
    "---"
   ]
  },
  {
   "cell_type": "markdown",
   "metadata": {},
   "source": [
    "# 6.Tiền xử lý, phân tích dữ liệu để trả lời cho từng câu hỏi"
   ]
  },
  {
   "cell_type": "markdown",
   "metadata": {
    "heading_collapsed": true
   },
   "source": [
    "## 6.1 Câu hỏi 1"
   ]
  },
  {
   "cell_type": "markdown",
   "metadata": {
    "hidden": true
   },
   "source": [
    "### Tiền xử lý"
   ]
  },
  {
   "cell_type": "markdown",
   "metadata": {
    "hidden": true
   },
   "source": [
    "### Phân tích dữ liệu để trả lời cho các câu hỏi "
   ]
  },
  {
   "cell_type": "markdown",
   "metadata": {
    "hidden": true
   },
   "source": [
    "---"
   ]
  },
  {
   "cell_type": "markdown",
   "metadata": {},
   "source": [
    "## 6.2 Câu hỏi 2"
   ]
  },
  {
   "cell_type": "markdown",
   "metadata": {},
   "source": [
    "### Tiền xử lý\n",
    "\n",
    "- Đổi các giá trị ở cột satisfaction thành 1 cho \"satisfied\" và 0 cho \"neutral or dissatisfied\" để tiện cho việc xử lý, khám phá và phân tích dữ liệu"
   ]
  },
  {
   "cell_type": "code",
   "execution_count": 13,
   "metadata": {},
   "outputs": [],
   "source": [
    "ehs_df['satisfaction'].replace(\n",
    "    to_replace=['neutral or dissatisfied', 'satisfied'],\n",
    "    value=[0, 1],\n",
    "    inplace=True\n",
    ")"
   ]
  },
  {
   "cell_type": "markdown",
   "metadata": {},
   "source": [
    "### Phân tích dữ liệu để trả lời cho các câu hỏi \n",
    "\n",
    "**Xem các số lượng khách hàng nam và nữ thỏa mãn các dịch vụ của khách sạn**"
   ]
  },
  {
   "cell_type": "code",
   "execution_count": 14,
   "metadata": {},
   "outputs": [
    {
     "data": {
      "text/plain": [
       "<AxesSubplot:xlabel='gender', ylabel='count'>"
      ]
     },
     "execution_count": 14,
     "metadata": {},
     "output_type": "execute_result"
    },
    {
     "data": {
      "image/png": "[encoded data removed]",
      "text/plain": [
       "<Figure size 432x288 with 1 Axes>"
      ]
     },
     "metadata": {
      "needs_background": "light"
     },
     "output_type": "display_data"
    }
   ],
   "source": [
    "sns.countplot(x='gender',hue=\"satisfaction\",data=ehs_df)"
   ]
  },
  {
   "cell_type": "markdown",
   "metadata": {},
   "source": [
    "Phần trăm khách hàng hài lòng chia theo giới tính:"
   ]
  },
  {
   "cell_type": "code",
   "execution_count": 15,
   "metadata": {},
   "outputs": [
    {
     "data": {
      "text/html": [
       "<div>\n",
       "<style scoped>\n",
       "    .dataframe tbody tr th:only-of-type {\n",
       "        vertical-align: middle;\n",
       "    }\n",
       "\n",
       "    .dataframe tbody tr th {\n",
       "        vertical-align: top;\n",
       "    }\n",
       "\n",
       "    .dataframe thead th {\n",
       "        text-align: right;\n",
       "    }\n",
       "</style>\n",
       "<table border=\"1\" class=\"dataframe\">\n",
       "  <thead>\n",
       "    <tr style=\"text-align: right;\">\n",
       "      <th></th>\n",
       "      <th>gender</th>\n",
       "      <th>satisfaction</th>\n",
       "    </tr>\n",
       "  </thead>\n",
       "  <tbody>\n",
       "    <tr>\n",
       "      <th>1</th>\n",
       "      <td>Male</td>\n",
       "      <td>0.439475</td>\n",
       "    </tr>\n",
       "    <tr>\n",
       "      <th>0</th>\n",
       "      <td>Female</td>\n",
       "      <td>0.427371</td>\n",
       "    </tr>\n",
       "  </tbody>\n",
       "</table>\n",
       "</div>"
      ],
      "text/plain": [
       "   gender  satisfaction\n",
       "1    Male      0.439475\n",
       "0  Female      0.427371"
      ]
     },
     "execution_count": 15,
     "metadata": {},
     "output_type": "execute_result"
    }
   ],
   "source": [
    "gs_mean_df = ehs_df[[\"gender\",\"satisfaction\"]].groupby([\"gender\"],as_index=False).mean()\n",
    "gs_mean_df.sort_values(by=\"satisfaction\",ascending=False)"
   ]
  },
  {
   "cell_type": "markdown",
   "metadata": {},
   "source": [
    "***Nhận xét:*** \n",
    "- Có thể thấy rằng phân bố theo giới tính của khách hàng hài lòng và không hài lòng là khá giống nhau. Đối với cả khách nam và nữ, số lượng các khách hàng không hài lòng cao hơn so với số lượng khách hàng hài lòng.\n",
    "- Tỷ lệ hài lòng của khách hàng nam là 44%, của khách hàng nữ 43%"
   ]
  },
  {
   "cell_type": "code",
   "execution_count": 18,
   "metadata": {
    "scrolled": true
   },
   "outputs": [
    {
     "data": {
      "text/html": [
       "<div>\n",
       "<style scoped>\n",
       "    .dataframe tbody tr th:only-of-type {\n",
       "        vertical-align: middle;\n",
       "    }\n",
       "\n",
       "    .dataframe tbody tr th {\n",
       "        vertical-align: top;\n",
       "    }\n",
       "\n",
       "    .dataframe thead th {\n",
       "        text-align: right;\n",
       "    }\n",
       "</style>\n",
       "<table border=\"1\" class=\"dataframe\">\n",
       "  <thead>\n",
       "    <tr style=\"text-align: right;\">\n",
       "      <th></th>\n",
       "      <th>id</th>\n",
       "      <th>gender</th>\n",
       "      <th>age</th>\n",
       "      <th>purpose_of_travel</th>\n",
       "      <th>type_of_travel</th>\n",
       "      <th>type_of_booking</th>\n",
       "      <th>hotel_wifi_service</th>\n",
       "      <th>departure_arrival_convenience</th>\n",
       "      <th>ease_of_online_booking</th>\n",
       "      <th>hotel_location</th>\n",
       "      <th>food_and_drink</th>\n",
       "      <th>stay_comfort</th>\n",
       "      <th>common_room_entertainment</th>\n",
       "      <th>checkin_checkout_service</th>\n",
       "      <th>other_service</th>\n",
       "      <th>cleanliness</th>\n",
       "      <th>satisfaction</th>\n",
       "    </tr>\n",
       "  </thead>\n",
       "  <tbody>\n",
       "    <tr>\n",
       "      <th>0</th>\n",
       "      <td>70172</td>\n",
       "      <td>Male</td>\n",
       "      <td>13</td>\n",
       "      <td>aviation</td>\n",
       "      <td>Personal Travel</td>\n",
       "      <td>Not defined</td>\n",
       "      <td>3</td>\n",
       "      <td>4</td>\n",
       "      <td>3</td>\n",
       "      <td>1</td>\n",
       "      <td>5</td>\n",
       "      <td>5</td>\n",
       "      <td>5</td>\n",
       "      <td>4</td>\n",
       "      <td>5</td>\n",
       "      <td>5</td>\n",
       "      <td>0</td>\n",
       "    </tr>\n",
       "    <tr>\n",
       "      <th>1</th>\n",
       "      <td>5047</td>\n",
       "      <td>Male</td>\n",
       "      <td>25</td>\n",
       "      <td>tourism</td>\n",
       "      <td>Group Travel</td>\n",
       "      <td>Group bookings</td>\n",
       "      <td>3</td>\n",
       "      <td>2</td>\n",
       "      <td>3</td>\n",
       "      <td>3</td>\n",
       "      <td>1</td>\n",
       "      <td>1</td>\n",
       "      <td>1</td>\n",
       "      <td>1</td>\n",
       "      <td>4</td>\n",
       "      <td>1</td>\n",
       "      <td>0</td>\n",
       "    </tr>\n",
       "    <tr>\n",
       "      <th>4</th>\n",
       "      <td>119299</td>\n",
       "      <td>Male</td>\n",
       "      <td>61</td>\n",
       "      <td>aviation</td>\n",
       "      <td>Group Travel</td>\n",
       "      <td>Group bookings</td>\n",
       "      <td>3</td>\n",
       "      <td>3</td>\n",
       "      <td>3</td>\n",
       "      <td>3</td>\n",
       "      <td>4</td>\n",
       "      <td>5</td>\n",
       "      <td>3</td>\n",
       "      <td>3</td>\n",
       "      <td>3</td>\n",
       "      <td>3</td>\n",
       "      <td>1</td>\n",
       "    </tr>\n",
       "    <tr>\n",
       "      <th>6</th>\n",
       "      <td>82113</td>\n",
       "      <td>Male</td>\n",
       "      <td>47</td>\n",
       "      <td>academic</td>\n",
       "      <td>Personal Travel</td>\n",
       "      <td>Individual/Couple</td>\n",
       "      <td>2</td>\n",
       "      <td>4</td>\n",
       "      <td>2</td>\n",
       "      <td>3</td>\n",
       "      <td>2</td>\n",
       "      <td>2</td>\n",
       "      <td>2</td>\n",
       "      <td>3</td>\n",
       "      <td>5</td>\n",
       "      <td>2</td>\n",
       "      <td>0</td>\n",
       "    </tr>\n",
       "    <tr>\n",
       "      <th>9</th>\n",
       "      <td>65725</td>\n",
       "      <td>Male</td>\n",
       "      <td>20</td>\n",
       "      <td>academic</td>\n",
       "      <td>Group Travel</td>\n",
       "      <td>Individual/Couple</td>\n",
       "      <td>3</td>\n",
       "      <td>3</td>\n",
       "      <td>3</td>\n",
       "      <td>4</td>\n",
       "      <td>2</td>\n",
       "      <td>3</td>\n",
       "      <td>2</td>\n",
       "      <td>4</td>\n",
       "      <td>3</td>\n",
       "      <td>2</td>\n",
       "      <td>0</td>\n",
       "    </tr>\n",
       "  </tbody>\n",
       "</table>\n",
       "</div>"
      ],
      "text/plain": [
       "       id gender  age purpose_of_travel   type_of_travel    type_of_booking  \\\n",
       "0   70172   Male   13          aviation  Personal Travel        Not defined   \n",
       "1    5047   Male   25           tourism     Group Travel     Group bookings   \n",
       "4  119299   Male   61          aviation     Group Travel     Group bookings   \n",
       "6   82113   Male   47          academic  Personal Travel  Individual/Couple   \n",
       "9   65725   Male   20          academic     Group Travel  Individual/Couple   \n",
       "\n",
       "   hotel_wifi_service  departure_arrival_convenience  ease_of_online_booking  \\\n",
       "0                   3                              4                       3   \n",
       "1                   3                              2                       3   \n",
       "4                   3                              3                       3   \n",
       "6                   2                              4                       2   \n",
       "9                   3                              3                       3   \n",
       "\n",
       "   hotel_location  food_and_drink  stay_comfort  common_room_entertainment  \\\n",
       "0               1               5             5                          5   \n",
       "1               3               1             1                          1   \n",
       "4               3               4             5                          3   \n",
       "6               3               2             2                          2   \n",
       "9               4               2             3                          2   \n",
       "\n",
       "   checkin_checkout_service  other_service  cleanliness  satisfaction  \n",
       "0                         4              5            5             0  \n",
       "1                         1              4            1             0  \n",
       "4                         3              3            3             1  \n",
       "6                         3              5            2             0  \n",
       "9                         4              3            2             0  "
      ]
     },
     "execution_count": 18,
     "metadata": {},
     "output_type": "execute_result"
    }
   ],
   "source": [
    "male_ratings_df = ehs_df[ehs_df['gender'] == 'Male']\n",
    "male_ratings_df.head()"
   ]
  },
  {
   "cell_type": "code",
   "execution_count": 19,
   "metadata": {},
   "outputs": [
    {
     "data": {
      "text/html": [
       "<div>\n",
       "<style scoped>\n",
       "    .dataframe tbody tr th:only-of-type {\n",
       "        vertical-align: middle;\n",
       "    }\n",
       "\n",
       "    .dataframe tbody tr th {\n",
       "        vertical-align: top;\n",
       "    }\n",
       "\n",
       "    .dataframe thead th {\n",
       "        text-align: right;\n",
       "    }\n",
       "</style>\n",
       "<table border=\"1\" class=\"dataframe\">\n",
       "  <thead>\n",
       "    <tr style=\"text-align: right;\">\n",
       "      <th></th>\n",
       "      <th>id</th>\n",
       "      <th>gender</th>\n",
       "      <th>age</th>\n",
       "      <th>purpose_of_travel</th>\n",
       "      <th>type_of_travel</th>\n",
       "      <th>type_of_booking</th>\n",
       "      <th>hotel_wifi_service</th>\n",
       "      <th>departure_arrival_convenience</th>\n",
       "      <th>ease_of_online_booking</th>\n",
       "      <th>hotel_location</th>\n",
       "      <th>food_and_drink</th>\n",
       "      <th>stay_comfort</th>\n",
       "      <th>common_room_entertainment</th>\n",
       "      <th>checkin_checkout_service</th>\n",
       "      <th>other_service</th>\n",
       "      <th>cleanliness</th>\n",
       "      <th>satisfaction</th>\n",
       "    </tr>\n",
       "  </thead>\n",
       "  <tbody>\n",
       "    <tr>\n",
       "      <th>2</th>\n",
       "      <td>110028</td>\n",
       "      <td>Female</td>\n",
       "      <td>26</td>\n",
       "      <td>tourism</td>\n",
       "      <td>Group Travel</td>\n",
       "      <td>Group bookings</td>\n",
       "      <td>2</td>\n",
       "      <td>2</td>\n",
       "      <td>2</td>\n",
       "      <td>2</td>\n",
       "      <td>5</td>\n",
       "      <td>5</td>\n",
       "      <td>5</td>\n",
       "      <td>4</td>\n",
       "      <td>4</td>\n",
       "      <td>5</td>\n",
       "      <td>1</td>\n",
       "    </tr>\n",
       "    <tr>\n",
       "      <th>3</th>\n",
       "      <td>24026</td>\n",
       "      <td>Female</td>\n",
       "      <td>25</td>\n",
       "      <td>tourism</td>\n",
       "      <td>Group Travel</td>\n",
       "      <td>Group bookings</td>\n",
       "      <td>2</td>\n",
       "      <td>5</td>\n",
       "      <td>5</td>\n",
       "      <td>5</td>\n",
       "      <td>2</td>\n",
       "      <td>2</td>\n",
       "      <td>2</td>\n",
       "      <td>1</td>\n",
       "      <td>4</td>\n",
       "      <td>2</td>\n",
       "      <td>0</td>\n",
       "    </tr>\n",
       "    <tr>\n",
       "      <th>5</th>\n",
       "      <td>111157</td>\n",
       "      <td>Female</td>\n",
       "      <td>26</td>\n",
       "      <td>business</td>\n",
       "      <td>Personal Travel</td>\n",
       "      <td>Individual/Couple</td>\n",
       "      <td>3</td>\n",
       "      <td>4</td>\n",
       "      <td>2</td>\n",
       "      <td>1</td>\n",
       "      <td>1</td>\n",
       "      <td>1</td>\n",
       "      <td>1</td>\n",
       "      <td>4</td>\n",
       "      <td>4</td>\n",
       "      <td>1</td>\n",
       "      <td>0</td>\n",
       "    </tr>\n",
       "    <tr>\n",
       "      <th>7</th>\n",
       "      <td>96462</td>\n",
       "      <td>Female</td>\n",
       "      <td>52</td>\n",
       "      <td>aviation</td>\n",
       "      <td>Group Travel</td>\n",
       "      <td>Group bookings</td>\n",
       "      <td>4</td>\n",
       "      <td>3</td>\n",
       "      <td>4</td>\n",
       "      <td>4</td>\n",
       "      <td>5</td>\n",
       "      <td>5</td>\n",
       "      <td>5</td>\n",
       "      <td>4</td>\n",
       "      <td>5</td>\n",
       "      <td>4</td>\n",
       "      <td>1</td>\n",
       "    </tr>\n",
       "    <tr>\n",
       "      <th>8</th>\n",
       "      <td>79485</td>\n",
       "      <td>Female</td>\n",
       "      <td>41</td>\n",
       "      <td>tourism</td>\n",
       "      <td>Group Travel</td>\n",
       "      <td>Group bookings</td>\n",
       "      <td>1</td>\n",
       "      <td>2</td>\n",
       "      <td>2</td>\n",
       "      <td>2</td>\n",
       "      <td>4</td>\n",
       "      <td>3</td>\n",
       "      <td>1</td>\n",
       "      <td>4</td>\n",
       "      <td>1</td>\n",
       "      <td>2</td>\n",
       "      <td>0</td>\n",
       "    </tr>\n",
       "  </tbody>\n",
       "</table>\n",
       "</div>"
      ],
      "text/plain": [
       "       id  gender  age purpose_of_travel   type_of_travel    type_of_booking  \\\n",
       "2  110028  Female   26           tourism     Group Travel     Group bookings   \n",
       "3   24026  Female   25           tourism     Group Travel     Group bookings   \n",
       "5  111157  Female   26          business  Personal Travel  Individual/Couple   \n",
       "7   96462  Female   52          aviation     Group Travel     Group bookings   \n",
       "8   79485  Female   41           tourism     Group Travel     Group bookings   \n",
       "\n",
       "   hotel_wifi_service  departure_arrival_convenience  ease_of_online_booking  \\\n",
       "2                   2                              2                       2   \n",
       "3                   2                              5                       5   \n",
       "5                   3                              4                       2   \n",
       "7                   4                              3                       4   \n",
       "8                   1                              2                       2   \n",
       "\n",
       "   hotel_location  food_and_drink  stay_comfort  common_room_entertainment  \\\n",
       "2               2               5             5                          5   \n",
       "3               5               2             2                          2   \n",
       "5               1               1             1                          1   \n",
       "7               4               5             5                          5   \n",
       "8               2               4             3                          1   \n",
       "\n",
       "   checkin_checkout_service  other_service  cleanliness  satisfaction  \n",
       "2                         4              4            5             1  \n",
       "3                         1              4            2             0  \n",
       "5                         4              4            1             0  \n",
       "7                         4              5            4             1  \n",
       "8                         4              1            2             0  "
      ]
     },
     "execution_count": 19,
     "metadata": {},
     "output_type": "execute_result"
    }
   ],
   "source": [
    "female_ratings_df = ehs_df[ehs_df['gender'] == 'Female']\n",
    "female_ratings_df.head()"
   ]
  },
  {
   "cell_type": "code",
   "execution_count": 22,
   "metadata": {},
   "outputs": [
    {
     "data": {
      "text/html": [
       "<div>\n",
       "<style scoped>\n",
       "    .dataframe tbody tr th:only-of-type {\n",
       "        vertical-align: middle;\n",
       "    }\n",
       "\n",
       "    .dataframe tbody tr th {\n",
       "        vertical-align: top;\n",
       "    }\n",
       "\n",
       "    .dataframe thead th {\n",
       "        text-align: right;\n",
       "    }\n",
       "</style>\n",
       "<table border=\"1\" class=\"dataframe\">\n",
       "  <thead>\n",
       "    <tr style=\"text-align: right;\">\n",
       "      <th>gender</th>\n",
       "      <th>Female</th>\n",
       "      <th>Male</th>\n",
       "    </tr>\n",
       "  </thead>\n",
       "  <tbody>\n",
       "    <tr>\n",
       "      <th>hotel_wifi_service</th>\n",
       "      <td>2.717943</td>\n",
       "      <td>2.741779</td>\n",
       "    </tr>\n",
       "    <tr>\n",
       "      <th>departure_arrival_convenience</th>\n",
       "      <td>3.046561</td>\n",
       "      <td>3.074448</td>\n",
       "    </tr>\n",
       "    <tr>\n",
       "      <th>ease_of_online_booking</th>\n",
       "      <td>2.747321</td>\n",
       "      <td>2.766770</td>\n",
       "    </tr>\n",
       "    <tr>\n",
       "      <th>hotel_location</th>\n",
       "      <td>2.976464</td>\n",
       "      <td>2.977314</td>\n",
       "    </tr>\n",
       "    <tr>\n",
       "      <th>food_and_drink</th>\n",
       "      <td>3.194568</td>\n",
       "      <td>3.209919</td>\n",
       "    </tr>\n",
       "    <tr>\n",
       "      <th>stay_comfort</th>\n",
       "      <td>3.473837</td>\n",
       "      <td>3.403912</td>\n",
       "    </tr>\n",
       "    <tr>\n",
       "      <th>common_room_entertainment</th>\n",
       "      <td>3.350124</td>\n",
       "      <td>3.366434</td>\n",
       "    </tr>\n",
       "    <tr>\n",
       "      <th>checkin_checkout_service</th>\n",
       "      <td>3.291122</td>\n",
       "      <td>3.317858</td>\n",
       "    </tr>\n",
       "    <tr>\n",
       "      <th>other_service</th>\n",
       "      <td>3.594781</td>\n",
       "      <td>3.687457</td>\n",
       "    </tr>\n",
       "  </tbody>\n",
       "</table>\n",
       "</div>"
      ],
      "text/plain": [
       "gender                           Female      Male\n",
       "hotel_wifi_service             2.717943  2.741779\n",
       "departure_arrival_convenience  3.046561  3.074448\n",
       "ease_of_online_booking         2.747321  2.766770\n",
       "hotel_location                 2.976464  2.977314\n",
       "food_and_drink                 3.194568  3.209919\n",
       "stay_comfort                   3.473837  3.403912\n",
       "common_room_entertainment      3.350124  3.366434\n",
       "checkin_checkout_service       3.291122  3.317858\n",
       "other_service                  3.594781  3.687457"
      ]
     },
     "execution_count": 22,
     "metadata": {},
     "output_type": "execute_result"
    }
   ],
   "source": [
    "group_data = ehs_df.groupby(['gender']).mean().T[2:-2]\n",
    "group_data"
   ]
  },
  {
   "cell_type": "code",
   "execution_count": 25,
   "metadata": {},
   "outputs": [
    {
     "data": {
      "image/png": "[encoded data removed]",
      "text/plain": [
       "<Figure size 576x576 with 1 Axes>"
      ]
     },
     "metadata": {
      "needs_background": "light"
     },
     "output_type": "display_data"
    }
   ],
   "source": [
    "group_data.plot.barh(figsize=(8,8), title = 'mean of rates for features according to gender')\n",
    "plt.show()"
   ]
  },
  {
   "cell_type": "markdown",
   "metadata": {},
   "source": [
    "---"
   ]
  },
  {
   "cell_type": "markdown",
   "metadata": {},
   "source": [
    "## 6.3 Câu hỏi 3"
   ]
  },
  {
   "cell_type": "markdown",
   "metadata": {},
   "source": [
    "### Tiền xử lý"
   ]
  },
  {
   "cell_type": "markdown",
   "metadata": {},
   "source": [
    "### Phân tích dữ liệu để trả lời cho các câu hỏi "
   ]
  },
  {
   "cell_type": "markdown",
   "metadata": {},
   "source": [
    "---"
   ]
  },
  {
   "cell_type": "markdown",
   "metadata": {},
   "source": [
    "## 6.4 Câu hỏi 4"
   ]
  },
  {
   "cell_type": "markdown",
   "metadata": {},
   "source": [
    "### Tiền xử lý"
   ]
  },
  {
   "cell_type": "markdown",
   "metadata": {},
   "source": [
    "### Phân tích dữ liệu để trả lời cho các câu hỏi "
   ]
  },
  {
   "cell_type": "markdown",
   "metadata": {},
   "source": [
    "- Xem các số lượng khách hàng nam và nữ thỏa mãn các dịch vụ của khách sạn"
   ]
  },
  {
   "cell_type": "code",
   "execution_count": 26,
   "metadata": {},
   "outputs": [
    {
     "data": {
      "image/png": "[encoded data removed]",
      "text/plain": [
       "<Figure size 1138.88x360 with 1 Axes>"
      ]
     },
     "metadata": {},
     "output_type": "display_data"
    }
   ],
   "source": [
    "with sns.axes_style('white'):\n",
    "    g = sns.catplot(\n",
    "        x=\"age\",\n",
    "        data=ehs_df,\n",
    "        aspect=3.0,\n",
    "        kind='count',\n",
    "        hue='satisfaction',\n",
    "        order=range(5, 86)\n",
    "    )\n",
    "    g.set_ylabels('Age vs Hotel Satisfaction')"
   ]
  },
  {
   "cell_type": "markdown",
   "metadata": {},
   "source": [
    "***Nhận xét:*** Độ tuổi: Từ 7 đến 38 tuổi và từ 61 đến 79 tuổi, tỷ lệ khách hàng không hài lòng là rất cao so với khách hàng hài lòng. Ngược lại, ở độ tuổi 39-60, tỷ lệ khách hàng hài lòng cao hơn so với khách hàng không hài lòng."
   ]
  },
  {
   "cell_type": "markdown",
   "metadata": {},
   "source": [
    "- Xem qua giá trị của các dòng mà đối tượng đánh giá là nam và nữ"
   ]
  },
  {
   "cell_type": "raw",
   "metadata": {},
   "source": [
    "male_ratings_df = ehs_df[ehs_df['gender'] == 'Male']\n",
    "male_ratings_df.head()"
   ]
  },
  {
   "cell_type": "raw",
   "metadata": {},
   "source": [
    "female_ratings_df = ehs_df[ehs_df['gender'] == 'Female']\n",
    "female_ratings_df.head()"
   ]
  },
  {
   "cell_type": "markdown",
   "metadata": {},
   "source": [
    "---"
   ]
  },
  {
   "cell_type": "markdown",
   "metadata": {},
   "source": [
    "# 7. Nhìn lại quá trình làm đồ án"
   ]
  },
  {
   "cell_type": "markdown",
   "metadata": {},
   "source": [
    "## Thành viên 1\n",
    "\n",
    "- Họ tên:\n",
    "- Đã gặp những khó khăn gì?\n",
    "- Có học được gì hữu ích?"
   ]
  },
  {
   "cell_type": "markdown",
   "metadata": {},
   "source": [
    "## Thành viên 2\n",
    "\n",
    "- Họ tên:\n",
    "- Đã gặp những khó khăn gì?\n",
    "- Có học được gì hữu ích?"
   ]
  },
  {
   "cell_type": "markdown",
   "metadata": {},
   "source": [
    "## Nhóm\n",
    "**Nếu có thêm thời gian thì sẽ làm gì?**"
   ]
  },
  {
   "cell_type": "markdown",
   "metadata": {},
   "source": [
    "# 8. Tài liệu tham khảo"
   ]
  }
 ],
 "metadata": {
  "kernelspec": {
   "display_name": "Python 3 (ipykernel)",
   "language": "python",
   "name": "python3"
  },
  "language_info": {
   "codemirror_mode": {
    "name": "ipython",
    "version": 3
   },
   "file_extension": ".py",
   "mimetype": "text/x-python",
   "name": "python",
   "nbconvert_exporter": "python",
   "pygments_lexer": "ipython3",
   "version": "3.8.8"
  },
  "toc": {
   "base_numbering": 1,
   "nav_menu": {
    "height": "492px",
    "width": "748px"
   },
   "number_sections": false,
   "sideBar": true,
   "skip_h1_title": false,
   "title_cell": "Table of Contents",
   "title_sidebar": "Contents",
   "toc_cell": false,
   "toc_position": {
    "height": "calc(100% - 180px)",
    "left": "10px",
    "top": "150px",
    "width": "240px"
   },
   "toc_section_display": true,
   "toc_window_display": false
  }
 },
 "nbformat": 4,
 "nbformat_minor": 4
}
